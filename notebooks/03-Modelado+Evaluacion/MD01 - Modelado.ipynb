{
 "cells": [
  {
   "cell_type": "markdown",
   "metadata": {},
   "source": [
    "## Máster en Big Data y Data Science\n",
    "\n",
    "### Metodologías de gestión y diseño de proyectos de big data\n",
    "\n",
    "#### AP2 - Modelado\n",
    "\n",
    "---\n",
    "\n",
    "En esta libreta se comienzan a ejecutar las actividades correspondientes a la fase de modelado. \n",
    "\n",
    "---"
   ]
  },
  {
   "cell_type": "markdown",
   "metadata": {},
   "source": [
    "### Carga de librerias a utilizar"
   ]
  },
  {
   "cell_type": "code",
   "execution_count": 47,
   "metadata": {},
   "outputs": [],
   "source": [
    "# Se importan las librerias a utilizar\n",
    "import pandas as pd\n",
    "import numpy as np\n",
    "\n",
    "# Para registro de toda la experimentación\n",
    "import mlflow\n",
    "\n",
    "# Para la generación de los sets de train - test\n",
    "from sklearn.model_selection import train_test_split\n",
    "\n",
    "#Importaciones varias para la evaluación\n",
    "from sklearn.metrics import confusion_matrix,accuracy_score,classification_report\n",
    "from sklearn.metrics import confusion_matrix, ConfusionMatrixDisplay\n",
    "import matplotlib.pyplot as plt\n",
    "\n",
    "#importe para modelos\n",
    "from sklearn.linear_model import LogisticRegression\n",
    "from sklearn.neighbors import KNeighborsClassifier\n",
    "from sklearn.tree import DecisionTreeClassifier\n",
    "from sklearn.ensemble import RandomForestClassifier\n",
    "\n"
   ]
  },
  {
   "cell_type": "markdown",
   "metadata": {},
   "source": [
    "### Lectura del dataset generado previamente"
   ]
  },
  {
   "cell_type": "code",
   "execution_count": 48,
   "metadata": {},
   "outputs": [
    {
     "data": {
      "text/html": [
       "<div>\n",
       "<style scoped>\n",
       "    .dataframe tbody tr th:only-of-type {\n",
       "        vertical-align: middle;\n",
       "    }\n",
       "\n",
       "    .dataframe tbody tr th {\n",
       "        vertical-align: top;\n",
       "    }\n",
       "\n",
       "    .dataframe thead th {\n",
       "        text-align: right;\n",
       "    }\n",
       "</style>\n",
       "<table border=\"1\" class=\"dataframe\">\n",
       "  <thead>\n",
       "    <tr style=\"text-align: right;\">\n",
       "      <th></th>\n",
       "      <th>operaciones_ult_12m</th>\n",
       "      <th>gastos_ult_12m</th>\n",
       "      <th>limite_credito_tc</th>\n",
       "      <th>antiguedad_cliente</th>\n",
       "      <th>tasa_interes</th>\n",
       "      <th>ingresos</th>\n",
       "      <th>pct_ingreso</th>\n",
       "      <th>antiguedad_empleado</th>\n",
       "      <th>edad</th>\n",
       "      <th>estado_credito_N</th>\n",
       "      <th>estado_civil_N</th>\n",
       "      <th>importe_solicitado</th>\n",
       "      <th>duracion_credito</th>\n",
       "      <th>situacion_vivienda</th>\n",
       "      <th>objetivo_credito</th>\n",
       "      <th>falta_pago</th>\n",
       "      <th>estado_cliente</th>\n",
       "      <th>genero</th>\n",
       "      <th>personas_a_cargo</th>\n",
       "    </tr>\n",
       "  </thead>\n",
       "  <tbody>\n",
       "    <tr>\n",
       "      <th>0</th>\n",
       "      <td>&gt;74</td>\n",
       "      <td>&gt;10k</td>\n",
       "      <td>3k_to_5k</td>\n",
       "      <td>25y_to_50y</td>\n",
       "      <td>&lt;6p</td>\n",
       "      <td>50k_to_100k</td>\n",
       "      <td>&lt;20</td>\n",
       "      <td>5_to_10</td>\n",
       "      <td>&lt;25</td>\n",
       "      <td>Cancelado</td>\n",
       "      <td>C</td>\n",
       "      <td>11000</td>\n",
       "      <td>3</td>\n",
       "      <td>HIPOTECA</td>\n",
       "      <td>INVERSIONES</td>\n",
       "      <td>N</td>\n",
       "      <td>ACTIVO</td>\n",
       "      <td>F</td>\n",
       "      <td>3</td>\n",
       "    </tr>\n",
       "    <tr>\n",
       "      <th>1</th>\n",
       "      <td>15_to_30</td>\n",
       "      <td>&lt;1k</td>\n",
       "      <td>3k_to_5k</td>\n",
       "      <td>25y_to_50y</td>\n",
       "      <td>12p_to_18p</td>\n",
       "      <td>20k_to_50k</td>\n",
       "      <td>&lt;20</td>\n",
       "      <td>&lt;5</td>\n",
       "      <td>&lt;25</td>\n",
       "      <td>Activo</td>\n",
       "      <td>S</td>\n",
       "      <td>1500</td>\n",
       "      <td>2</td>\n",
       "      <td>ALQUILER</td>\n",
       "      <td>MEJORAS_HOGAR</td>\n",
       "      <td>Y</td>\n",
       "      <td>PASIVO</td>\n",
       "      <td>M</td>\n",
       "      <td>0</td>\n",
       "    </tr>\n",
       "    <tr>\n",
       "      <th>2</th>\n",
       "      <td>15_to_30</td>\n",
       "      <td>1k_to_4k</td>\n",
       "      <td>5k_to_10k</td>\n",
       "      <td>25y_to_50y</td>\n",
       "      <td>12p_to_18p</td>\n",
       "      <td>20k_to_50k</td>\n",
       "      <td>20_to_40</td>\n",
       "      <td>5_to_10</td>\n",
       "      <td>&lt;25</td>\n",
       "      <td>Cancelado</td>\n",
       "      <td>D</td>\n",
       "      <td>10000</td>\n",
       "      <td>2</td>\n",
       "      <td>OTROS</td>\n",
       "      <td>EDUCACIÓN</td>\n",
       "      <td>Y</td>\n",
       "      <td>PASIVO</td>\n",
       "      <td>M</td>\n",
       "      <td>3</td>\n",
       "    </tr>\n",
       "    <tr>\n",
       "      <th>3</th>\n",
       "      <td>&gt;74</td>\n",
       "      <td>1k_to_4k</td>\n",
       "      <td>&lt;3k</td>\n",
       "      <td>&lt;25y</td>\n",
       "      <td>6p_to_12p</td>\n",
       "      <td>20k_to_50k</td>\n",
       "      <td>20_to_40</td>\n",
       "      <td>&lt;5</td>\n",
       "      <td>25_to_30</td>\n",
       "      <td>Cancelado</td>\n",
       "      <td>S</td>\n",
       "      <td>6000</td>\n",
       "      <td>4</td>\n",
       "      <td>ALQUILER</td>\n",
       "      <td>INVERSIONES</td>\n",
       "      <td>N</td>\n",
       "      <td>ACTIVO</td>\n",
       "      <td>F</td>\n",
       "      <td>2</td>\n",
       "    </tr>\n",
       "    <tr>\n",
       "      <th>4</th>\n",
       "      <td>50_to_75</td>\n",
       "      <td>4k_to_6k</td>\n",
       "      <td>3k_to_5k</td>\n",
       "      <td>25y_to_50y</td>\n",
       "      <td>6p_to_12p</td>\n",
       "      <td>50k_to_100k</td>\n",
       "      <td>20_to_40</td>\n",
       "      <td>&lt;5</td>\n",
       "      <td>25_to_30</td>\n",
       "      <td>Cancelado</td>\n",
       "      <td>C</td>\n",
       "      <td>10000</td>\n",
       "      <td>2</td>\n",
       "      <td>HIPOTECA</td>\n",
       "      <td>EDUCACIÓN</td>\n",
       "      <td>N</td>\n",
       "      <td>ACTIVO</td>\n",
       "      <td>F</td>\n",
       "      <td>2</td>\n",
       "    </tr>\n",
       "  </tbody>\n",
       "</table>\n",
       "</div>"
      ],
      "text/plain": [
       "  operaciones_ult_12m gastos_ult_12m limite_credito_tc antiguedad_cliente  \\\n",
       "0                 >74           >10k          3k_to_5k         25y_to_50y   \n",
       "1            15_to_30            <1k          3k_to_5k         25y_to_50y   \n",
       "2            15_to_30       1k_to_4k         5k_to_10k         25y_to_50y   \n",
       "3                 >74       1k_to_4k               <3k               <25y   \n",
       "4            50_to_75       4k_to_6k          3k_to_5k         25y_to_50y   \n",
       "\n",
       "  tasa_interes     ingresos pct_ingreso antiguedad_empleado      edad  \\\n",
       "0          <6p  50k_to_100k         <20             5_to_10       <25   \n",
       "1   12p_to_18p   20k_to_50k         <20                  <5       <25   \n",
       "2   12p_to_18p   20k_to_50k    20_to_40             5_to_10       <25   \n",
       "3    6p_to_12p   20k_to_50k    20_to_40                  <5  25_to_30   \n",
       "4    6p_to_12p  50k_to_100k    20_to_40                  <5  25_to_30   \n",
       "\n",
       "  estado_credito_N estado_civil_N  importe_solicitado  duracion_credito  \\\n",
       "0        Cancelado              C               11000                 3   \n",
       "1           Activo              S                1500                 2   \n",
       "2        Cancelado              D               10000                 2   \n",
       "3        Cancelado              S                6000                 4   \n",
       "4        Cancelado              C               10000                 2   \n",
       "\n",
       "  situacion_vivienda objetivo_credito falta_pago estado_cliente genero  \\\n",
       "0           HIPOTECA      INVERSIONES          N         ACTIVO      F   \n",
       "1           ALQUILER    MEJORAS_HOGAR          Y         PASIVO      M   \n",
       "2              OTROS        EDUCACIÓN          Y         PASIVO      M   \n",
       "3           ALQUILER      INVERSIONES          N         ACTIVO      F   \n",
       "4           HIPOTECA        EDUCACIÓN          N         ACTIVO      F   \n",
       "\n",
       "   personas_a_cargo  \n",
       "0                 3  \n",
       "1                 0  \n",
       "2                 3  \n",
       "3                 2  \n",
       "4                 2  "
      ]
     },
     "execution_count": 48,
     "metadata": {},
     "output_type": "execute_result"
    }
   ],
   "source": [
    "# Se hace la lectura del dataset del seminario y se obtiene su cabecera\n",
    "datos = pd.read_csv('../../data/final/datos_finales.csv', sep=';')\n",
    "datos.head()"
   ]
  },
  {
   "cell_type": "markdown",
   "metadata": {},
   "source": [
    "### Revisión de meta-datos"
   ]
  },
  {
   "cell_type": "code",
   "execution_count": 49,
   "metadata": {},
   "outputs": [
    {
     "name": "stdout",
     "output_type": "stream",
     "text": [
      "Descripción del dataset 'datos_completos'\n",
      "Columnas del dataset:\n",
      "\n",
      "operaciones_ult_12m\n",
      "gastos_ult_12m\n",
      "limite_credito_tc\n",
      "antiguedad_cliente\n",
      "tasa_interes\n",
      "ingresos\n",
      "pct_ingreso\n",
      "antiguedad_empleado\n",
      "edad\n",
      "estado_credito_N\n",
      "estado_civil_N\n",
      "importe_solicitado\n",
      "duracion_credito\n",
      "situacion_vivienda\n",
      "objetivo_credito\n",
      "falta_pago\n",
      "estado_cliente\n",
      "genero\n",
      "personas_a_cargo\n",
      "\n",
      "Cantidad de filas: 10103\n"
     ]
    }
   ],
   "source": [
    "def reporte_descripcion_dataset(df):\n",
    "    columnas = df.columns\n",
    "    print(\"Columnas del dataset:\\n\")\n",
    "    for col in columnas:\n",
    "        print(col)\n",
    "    print(f\"\\nCantidad de filas: {df.shape[0]}\")\n",
    "\n",
    "print(\"Descripción del dataset 'datos_completos'\")\n",
    "reporte_descripcion_dataset(datos)"
   ]
  },
  {
   "cell_type": "markdown",
   "metadata": {},
   "source": [
    "### Armado de los sets de entrenamiento y testeo"
   ]
  },
  {
   "cell_type": "code",
   "execution_count": 50,
   "metadata": {},
   "outputs": [
    {
     "name": "stdout",
     "output_type": "stream",
     "text": [
      "Vista de los datos del atributo target: \n",
      "['N' 'Y' 'Y' 'N' 'N' 'N' 'N' 'N' 'N' 'N']\n",
      "--------------------------------------------------\n",
      "Vista parcial de los datos sin el atributo target:\n"
     ]
    },
    {
     "data": {
      "text/html": [
       "<div>\n",
       "<style scoped>\n",
       "    .dataframe tbody tr th:only-of-type {\n",
       "        vertical-align: middle;\n",
       "    }\n",
       "\n",
       "    .dataframe tbody tr th {\n",
       "        vertical-align: top;\n",
       "    }\n",
       "\n",
       "    .dataframe thead th {\n",
       "        text-align: right;\n",
       "    }\n",
       "</style>\n",
       "<table border=\"1\" class=\"dataframe\">\n",
       "  <thead>\n",
       "    <tr style=\"text-align: right;\">\n",
       "      <th></th>\n",
       "      <th>operaciones_ult_12m</th>\n",
       "      <th>gastos_ult_12m</th>\n",
       "      <th>limite_credito_tc</th>\n",
       "      <th>antiguedad_cliente</th>\n",
       "      <th>tasa_interes</th>\n",
       "      <th>ingresos</th>\n",
       "      <th>pct_ingreso</th>\n",
       "      <th>antiguedad_empleado</th>\n",
       "      <th>edad</th>\n",
       "      <th>importe_solicitado</th>\n",
       "      <th>duracion_credito</th>\n",
       "      <th>situacion_vivienda</th>\n",
       "      <th>objetivo_credito</th>\n",
       "      <th>estado_credito_N</th>\n",
       "      <th>estado_civil_N</th>\n",
       "      <th>estado_cliente</th>\n",
       "      <th>genero</th>\n",
       "      <th>personas_a_cargo</th>\n",
       "    </tr>\n",
       "  </thead>\n",
       "  <tbody>\n",
       "    <tr>\n",
       "      <th>0</th>\n",
       "      <td>&gt;74</td>\n",
       "      <td>&gt;10k</td>\n",
       "      <td>3k_to_5k</td>\n",
       "      <td>25y_to_50y</td>\n",
       "      <td>&lt;6p</td>\n",
       "      <td>50k_to_100k</td>\n",
       "      <td>&lt;20</td>\n",
       "      <td>5_to_10</td>\n",
       "      <td>&lt;25</td>\n",
       "      <td>11000</td>\n",
       "      <td>3</td>\n",
       "      <td>HIPOTECA</td>\n",
       "      <td>INVERSIONES</td>\n",
       "      <td>Cancelado</td>\n",
       "      <td>C</td>\n",
       "      <td>ACTIVO</td>\n",
       "      <td>F</td>\n",
       "      <td>3</td>\n",
       "    </tr>\n",
       "    <tr>\n",
       "      <th>1</th>\n",
       "      <td>15_to_30</td>\n",
       "      <td>&lt;1k</td>\n",
       "      <td>3k_to_5k</td>\n",
       "      <td>25y_to_50y</td>\n",
       "      <td>12p_to_18p</td>\n",
       "      <td>20k_to_50k</td>\n",
       "      <td>&lt;20</td>\n",
       "      <td>&lt;5</td>\n",
       "      <td>&lt;25</td>\n",
       "      <td>1500</td>\n",
       "      <td>2</td>\n",
       "      <td>ALQUILER</td>\n",
       "      <td>MEJORAS_HOGAR</td>\n",
       "      <td>Activo</td>\n",
       "      <td>S</td>\n",
       "      <td>PASIVO</td>\n",
       "      <td>M</td>\n",
       "      <td>0</td>\n",
       "    </tr>\n",
       "    <tr>\n",
       "      <th>2</th>\n",
       "      <td>15_to_30</td>\n",
       "      <td>1k_to_4k</td>\n",
       "      <td>5k_to_10k</td>\n",
       "      <td>25y_to_50y</td>\n",
       "      <td>12p_to_18p</td>\n",
       "      <td>20k_to_50k</td>\n",
       "      <td>20_to_40</td>\n",
       "      <td>5_to_10</td>\n",
       "      <td>&lt;25</td>\n",
       "      <td>10000</td>\n",
       "      <td>2</td>\n",
       "      <td>OTROS</td>\n",
       "      <td>EDUCACIÓN</td>\n",
       "      <td>Cancelado</td>\n",
       "      <td>D</td>\n",
       "      <td>PASIVO</td>\n",
       "      <td>M</td>\n",
       "      <td>3</td>\n",
       "    </tr>\n",
       "    <tr>\n",
       "      <th>3</th>\n",
       "      <td>&gt;74</td>\n",
       "      <td>1k_to_4k</td>\n",
       "      <td>&lt;3k</td>\n",
       "      <td>&lt;25y</td>\n",
       "      <td>6p_to_12p</td>\n",
       "      <td>20k_to_50k</td>\n",
       "      <td>20_to_40</td>\n",
       "      <td>&lt;5</td>\n",
       "      <td>25_to_30</td>\n",
       "      <td>6000</td>\n",
       "      <td>4</td>\n",
       "      <td>ALQUILER</td>\n",
       "      <td>INVERSIONES</td>\n",
       "      <td>Cancelado</td>\n",
       "      <td>S</td>\n",
       "      <td>ACTIVO</td>\n",
       "      <td>F</td>\n",
       "      <td>2</td>\n",
       "    </tr>\n",
       "    <tr>\n",
       "      <th>4</th>\n",
       "      <td>50_to_75</td>\n",
       "      <td>4k_to_6k</td>\n",
       "      <td>3k_to_5k</td>\n",
       "      <td>25y_to_50y</td>\n",
       "      <td>6p_to_12p</td>\n",
       "      <td>50k_to_100k</td>\n",
       "      <td>20_to_40</td>\n",
       "      <td>&lt;5</td>\n",
       "      <td>25_to_30</td>\n",
       "      <td>10000</td>\n",
       "      <td>2</td>\n",
       "      <td>HIPOTECA</td>\n",
       "      <td>EDUCACIÓN</td>\n",
       "      <td>Cancelado</td>\n",
       "      <td>C</td>\n",
       "      <td>ACTIVO</td>\n",
       "      <td>F</td>\n",
       "      <td>2</td>\n",
       "    </tr>\n",
       "  </tbody>\n",
       "</table>\n",
       "</div>"
      ],
      "text/plain": [
       "  operaciones_ult_12m gastos_ult_12m limite_credito_tc antiguedad_cliente  \\\n",
       "0                 >74           >10k          3k_to_5k         25y_to_50y   \n",
       "1            15_to_30            <1k          3k_to_5k         25y_to_50y   \n",
       "2            15_to_30       1k_to_4k         5k_to_10k         25y_to_50y   \n",
       "3                 >74       1k_to_4k               <3k               <25y   \n",
       "4            50_to_75       4k_to_6k          3k_to_5k         25y_to_50y   \n",
       "\n",
       "  tasa_interes     ingresos pct_ingreso antiguedad_empleado      edad  \\\n",
       "0          <6p  50k_to_100k         <20             5_to_10       <25   \n",
       "1   12p_to_18p   20k_to_50k         <20                  <5       <25   \n",
       "2   12p_to_18p   20k_to_50k    20_to_40             5_to_10       <25   \n",
       "3    6p_to_12p   20k_to_50k    20_to_40                  <5  25_to_30   \n",
       "4    6p_to_12p  50k_to_100k    20_to_40                  <5  25_to_30   \n",
       "\n",
       "   importe_solicitado  duracion_credito situacion_vivienda objetivo_credito  \\\n",
       "0               11000                 3           HIPOTECA      INVERSIONES   \n",
       "1                1500                 2           ALQUILER    MEJORAS_HOGAR   \n",
       "2               10000                 2              OTROS        EDUCACIÓN   \n",
       "3                6000                 4           ALQUILER      INVERSIONES   \n",
       "4               10000                 2           HIPOTECA        EDUCACIÓN   \n",
       "\n",
       "  estado_credito_N estado_civil_N estado_cliente genero  personas_a_cargo  \n",
       "0        Cancelado              C         ACTIVO      F                 3  \n",
       "1           Activo              S         PASIVO      M                 0  \n",
       "2        Cancelado              D         PASIVO      M                 3  \n",
       "3        Cancelado              S         ACTIVO      F                 2  \n",
       "4        Cancelado              C         ACTIVO      F                 2  "
      ]
     },
     "execution_count": 50,
     "metadata": {},
     "output_type": "execute_result"
    }
   ],
   "source": [
    "# Se separan los atributos de datos de los de la etiqueta del dataset\n",
    "\n",
    "labels = datos.falta_pago.values\n",
    "\n",
    "features = datos[['operaciones_ult_12m', 'gastos_ult_12m', 'limite_credito_tc',\n",
    "       'antiguedad_cliente', 'tasa_interes', 'ingresos', 'pct_ingreso',\n",
    "       'antiguedad_empleado', 'edad', 'importe_solicitado', 'duracion_credito',\n",
    "       'situacion_vivienda', 'objetivo_credito', 'estado_credito_N',\n",
    "       'estado_civil_N', 'estado_cliente', 'genero', 'personas_a_cargo']]\n",
    "\n",
    "print(f\"Vista de los datos del atributo target: \\n{labels[:10]}\")\n",
    "print(\"-\"*50)\n",
    "print(\"Vista parcial de los datos sin el atributo target:\")\n",
    "features.head()"
   ]
  },
  {
   "cell_type": "code",
   "execution_count": 51,
   "metadata": {},
   "outputs": [
    {
     "data": {
      "text/html": [
       "<div>\n",
       "<style scoped>\n",
       "    .dataframe tbody tr th:only-of-type {\n",
       "        vertical-align: middle;\n",
       "    }\n",
       "\n",
       "    .dataframe tbody tr th {\n",
       "        vertical-align: top;\n",
       "    }\n",
       "\n",
       "    .dataframe thead th {\n",
       "        text-align: right;\n",
       "    }\n",
       "</style>\n",
       "<table border=\"1\" class=\"dataframe\">\n",
       "  <thead>\n",
       "    <tr style=\"text-align: right;\">\n",
       "      <th></th>\n",
       "      <th>importe_solicitado</th>\n",
       "      <th>duracion_credito</th>\n",
       "      <th>personas_a_cargo</th>\n",
       "      <th>operaciones_ult_12m_15_to_30</th>\n",
       "      <th>operaciones_ult_12m_30_to_50</th>\n",
       "      <th>operaciones_ult_12m_50_to_75</th>\n",
       "      <th>operaciones_ult_12m_&lt;15</th>\n",
       "      <th>operaciones_ult_12m_&gt;74</th>\n",
       "      <th>gastos_ult_12m_1k_to_4k</th>\n",
       "      <th>gastos_ult_12m_4k_to_6k</th>\n",
       "      <th>...</th>\n",
       "      <th>estado_credito_N_Activo</th>\n",
       "      <th>estado_credito_N_Cancelado</th>\n",
       "      <th>estado_civil_N_C</th>\n",
       "      <th>estado_civil_N_D</th>\n",
       "      <th>estado_civil_N_N</th>\n",
       "      <th>estado_civil_N_S</th>\n",
       "      <th>estado_cliente_ACTIVO</th>\n",
       "      <th>estado_cliente_PASIVO</th>\n",
       "      <th>genero_F</th>\n",
       "      <th>genero_M</th>\n",
       "    </tr>\n",
       "  </thead>\n",
       "  <tbody>\n",
       "    <tr>\n",
       "      <th>0</th>\n",
       "      <td>11000</td>\n",
       "      <td>3</td>\n",
       "      <td>3</td>\n",
       "      <td>False</td>\n",
       "      <td>False</td>\n",
       "      <td>False</td>\n",
       "      <td>False</td>\n",
       "      <td>True</td>\n",
       "      <td>False</td>\n",
       "      <td>False</td>\n",
       "      <td>...</td>\n",
       "      <td>False</td>\n",
       "      <td>True</td>\n",
       "      <td>True</td>\n",
       "      <td>False</td>\n",
       "      <td>False</td>\n",
       "      <td>False</td>\n",
       "      <td>True</td>\n",
       "      <td>False</td>\n",
       "      <td>True</td>\n",
       "      <td>False</td>\n",
       "    </tr>\n",
       "    <tr>\n",
       "      <th>1</th>\n",
       "      <td>1500</td>\n",
       "      <td>2</td>\n",
       "      <td>0</td>\n",
       "      <td>True</td>\n",
       "      <td>False</td>\n",
       "      <td>False</td>\n",
       "      <td>False</td>\n",
       "      <td>False</td>\n",
       "      <td>False</td>\n",
       "      <td>False</td>\n",
       "      <td>...</td>\n",
       "      <td>True</td>\n",
       "      <td>False</td>\n",
       "      <td>False</td>\n",
       "      <td>False</td>\n",
       "      <td>False</td>\n",
       "      <td>True</td>\n",
       "      <td>False</td>\n",
       "      <td>True</td>\n",
       "      <td>False</td>\n",
       "      <td>True</td>\n",
       "    </tr>\n",
       "    <tr>\n",
       "      <th>2</th>\n",
       "      <td>10000</td>\n",
       "      <td>2</td>\n",
       "      <td>3</td>\n",
       "      <td>True</td>\n",
       "      <td>False</td>\n",
       "      <td>False</td>\n",
       "      <td>False</td>\n",
       "      <td>False</td>\n",
       "      <td>True</td>\n",
       "      <td>False</td>\n",
       "      <td>...</td>\n",
       "      <td>False</td>\n",
       "      <td>True</td>\n",
       "      <td>False</td>\n",
       "      <td>True</td>\n",
       "      <td>False</td>\n",
       "      <td>False</td>\n",
       "      <td>False</td>\n",
       "      <td>True</td>\n",
       "      <td>False</td>\n",
       "      <td>True</td>\n",
       "    </tr>\n",
       "    <tr>\n",
       "      <th>3</th>\n",
       "      <td>6000</td>\n",
       "      <td>4</td>\n",
       "      <td>2</td>\n",
       "      <td>False</td>\n",
       "      <td>False</td>\n",
       "      <td>False</td>\n",
       "      <td>False</td>\n",
       "      <td>True</td>\n",
       "      <td>True</td>\n",
       "      <td>False</td>\n",
       "      <td>...</td>\n",
       "      <td>False</td>\n",
       "      <td>True</td>\n",
       "      <td>False</td>\n",
       "      <td>False</td>\n",
       "      <td>False</td>\n",
       "      <td>True</td>\n",
       "      <td>True</td>\n",
       "      <td>False</td>\n",
       "      <td>True</td>\n",
       "      <td>False</td>\n",
       "    </tr>\n",
       "    <tr>\n",
       "      <th>4</th>\n",
       "      <td>10000</td>\n",
       "      <td>2</td>\n",
       "      <td>2</td>\n",
       "      <td>False</td>\n",
       "      <td>False</td>\n",
       "      <td>True</td>\n",
       "      <td>False</td>\n",
       "      <td>False</td>\n",
       "      <td>False</td>\n",
       "      <td>True</td>\n",
       "      <td>...</td>\n",
       "      <td>False</td>\n",
       "      <td>True</td>\n",
       "      <td>True</td>\n",
       "      <td>False</td>\n",
       "      <td>False</td>\n",
       "      <td>False</td>\n",
       "      <td>True</td>\n",
       "      <td>False</td>\n",
       "      <td>True</td>\n",
       "      <td>False</td>\n",
       "    </tr>\n",
       "  </tbody>\n",
       "</table>\n",
       "<p>5 rows × 58 columns</p>\n",
       "</div>"
      ],
      "text/plain": [
       "   importe_solicitado  duracion_credito  personas_a_cargo  \\\n",
       "0               11000                 3                 3   \n",
       "1                1500                 2                 0   \n",
       "2               10000                 2                 3   \n",
       "3                6000                 4                 2   \n",
       "4               10000                 2                 2   \n",
       "\n",
       "   operaciones_ult_12m_15_to_30  operaciones_ult_12m_30_to_50  \\\n",
       "0                         False                         False   \n",
       "1                          True                         False   \n",
       "2                          True                         False   \n",
       "3                         False                         False   \n",
       "4                         False                         False   \n",
       "\n",
       "   operaciones_ult_12m_50_to_75  operaciones_ult_12m_<15  \\\n",
       "0                         False                    False   \n",
       "1                         False                    False   \n",
       "2                         False                    False   \n",
       "3                         False                    False   \n",
       "4                          True                    False   \n",
       "\n",
       "   operaciones_ult_12m_>74  gastos_ult_12m_1k_to_4k  gastos_ult_12m_4k_to_6k  \\\n",
       "0                     True                    False                    False   \n",
       "1                    False                    False                    False   \n",
       "2                    False                     True                    False   \n",
       "3                     True                     True                    False   \n",
       "4                    False                    False                     True   \n",
       "\n",
       "   ...  estado_credito_N_Activo  estado_credito_N_Cancelado  estado_civil_N_C  \\\n",
       "0  ...                    False                        True              True   \n",
       "1  ...                     True                       False             False   \n",
       "2  ...                    False                        True             False   \n",
       "3  ...                    False                        True             False   \n",
       "4  ...                    False                        True              True   \n",
       "\n",
       "   estado_civil_N_D  estado_civil_N_N  estado_civil_N_S  \\\n",
       "0             False             False             False   \n",
       "1             False             False              True   \n",
       "2              True             False             False   \n",
       "3             False             False              True   \n",
       "4             False             False             False   \n",
       "\n",
       "   estado_cliente_ACTIVO  estado_cliente_PASIVO  genero_F  genero_M  \n",
       "0                   True                  False      True     False  \n",
       "1                  False                   True     False      True  \n",
       "2                  False                   True     False      True  \n",
       "3                   True                  False      True     False  \n",
       "4                   True                  False      True     False  \n",
       "\n",
       "[5 rows x 58 columns]"
      ]
     },
     "execution_count": 51,
     "metadata": {},
     "output_type": "execute_result"
    }
   ],
   "source": [
    "# Se pasa a binarizar los atributos\n",
    "\n",
    "data = pd.get_dummies(features)\n",
    "data.head()"
   ]
  },
  {
   "cell_type": "code",
   "execution_count": 52,
   "metadata": {},
   "outputs": [],
   "source": [
    "# Para evitar problemas con mlfow se hace una conversión de integer a double \n",
    "# de los atributos: 'importe_solicitado', 'duracion_credito', 'personas_a_cargo'\n",
    "\n",
    "# Se filtran las columnas del tipo integer\n",
    "integer_columns = data.select_dtypes(include='int').columns\n",
    "\n",
    "# Convert integer columns to double\n",
    "data[integer_columns] = data[integer_columns].astype('float')"
   ]
  },
  {
   "cell_type": "code",
   "execution_count": 53,
   "metadata": {},
   "outputs": [
    {
     "name": "stdout",
     "output_type": "stream",
     "text": [
      "Un registro de entrenamiento: \n",
      "importe_solicitado                12000.0\n",
      "duracion_credito                      2.0\n",
      "personas_a_cargo                      1.0\n",
      "operaciones_ult_12m_15_to_30        False\n",
      "operaciones_ult_12m_30_to_50         True\n",
      "operaciones_ult_12m_50_to_75        False\n",
      "operaciones_ult_12m_<15             False\n",
      "operaciones_ult_12m_>74             False\n",
      "gastos_ult_12m_1k_to_4k              True\n",
      "gastos_ult_12m_4k_to_6k             False\n",
      "gastos_ult_12m_6k_to_8k             False\n",
      "gastos_ult_12m_8k_to_10k            False\n",
      "gastos_ult_12m_<1k                  False\n",
      "gastos_ult_12m_>10k                 False\n",
      "limite_credito_tc_3k_to_5k          False\n",
      "limite_credito_tc_5k_to_10k          True\n",
      "limite_credito_tc_<3k               False\n",
      "limite_credito_tc_>10k              False\n",
      "antiguedad_cliente_25y_to_50y        True\n",
      "antiguedad_cliente_<25y             False\n",
      "antiguedad_cliente_>50y             False\n",
      "tasa_interes_12p_to_18p             False\n",
      "tasa_interes_6p_to_12p               True\n",
      "tasa_interes_<6p                    False\n",
      "tasa_interes_>18p                   False\n",
      "ingresos_20k_to_50k                 False\n",
      "ingresos_50k_to_100k                 True\n",
      "ingresos_<20k                       False\n",
      "ingresos_>100k                      False\n",
      "pct_ingreso_20_to_40                 True\n",
      "pct_ingreso_40_to_60                False\n",
      "pct_ingreso_<20                     False\n",
      "pct_ingreso_>60                     False\n",
      "antiguedad_empleado_5_to_10          True\n",
      "antiguedad_empleado_<5              False\n",
      "antiguedad_empleado_>10             False\n",
      "edad_25_to_30                       False\n",
      "edad_<25                             True\n",
      "situacion_vivienda_ALQUILER          True\n",
      "situacion_vivienda_HIPOTECA         False\n",
      "situacion_vivienda_OTROS            False\n",
      "situacion_vivienda_PROPIA           False\n",
      "objetivo_credito_EDUCACIÓN          False\n",
      "objetivo_credito_INVERSIONES        False\n",
      "objetivo_credito_MEJORAS_HOGAR      False\n",
      "objetivo_credito_PAGO_DEUDAS        False\n",
      "objetivo_credito_PERSONAL            True\n",
      "objetivo_credito_SALUD              False\n",
      "estado_credito_N_Activo             False\n",
      "estado_credito_N_Cancelado           True\n",
      "estado_civil_N_C                     True\n",
      "estado_civil_N_D                    False\n",
      "estado_civil_N_N                    False\n",
      "estado_civil_N_S                    False\n",
      "estado_cliente_ACTIVO                True\n",
      "estado_cliente_PASIVO               False\n",
      "genero_F                            False\n",
      "genero_M                             True\n",
      "Name: 4911, dtype: object\n",
      "--------------------------------------------------\n",
      "Label del registro: \n",
      "N\n",
      "\n",
      "##################################################\n",
      "##################################################\n",
      "\n",
      "Un registro de testeo: \n",
      "importe_solicitado                7000.0\n",
      "duracion_credito                     3.0\n",
      "personas_a_cargo                     4.0\n",
      "operaciones_ult_12m_15_to_30       False\n",
      "operaciones_ult_12m_30_to_50       False\n",
      "operaciones_ult_12m_50_to_75       False\n",
      "operaciones_ult_12m_<15            False\n",
      "operaciones_ult_12m_>74             True\n",
      "gastos_ult_12m_1k_to_4k            False\n",
      "gastos_ult_12m_4k_to_6k            False\n",
      "gastos_ult_12m_6k_to_8k            False\n",
      "gastos_ult_12m_8k_to_10k           False\n",
      "gastos_ult_12m_<1k                 False\n",
      "gastos_ult_12m_>10k                 True\n",
      "limite_credito_tc_3k_to_5k         False\n",
      "limite_credito_tc_5k_to_10k        False\n",
      "limite_credito_tc_<3k              False\n",
      "limite_credito_tc_>10k              True\n",
      "antiguedad_cliente_25y_to_50y       True\n",
      "antiguedad_cliente_<25y            False\n",
      "antiguedad_cliente_>50y            False\n",
      "tasa_interes_12p_to_18p             True\n",
      "tasa_interes_6p_to_12p             False\n",
      "tasa_interes_<6p                   False\n",
      "tasa_interes_>18p                  False\n",
      "ingresos_20k_to_50k                False\n",
      "ingresos_50k_to_100k                True\n",
      "ingresos_<20k                      False\n",
      "ingresos_>100k                     False\n",
      "pct_ingreso_20_to_40               False\n",
      "pct_ingreso_40_to_60               False\n",
      "pct_ingreso_<20                     True\n",
      "pct_ingreso_>60                    False\n",
      "antiguedad_empleado_5_to_10        False\n",
      "antiguedad_empleado_<5              True\n",
      "antiguedad_empleado_>10            False\n",
      "edad_25_to_30                       True\n",
      "edad_<25                           False\n",
      "situacion_vivienda_ALQUILER        False\n",
      "situacion_vivienda_HIPOTECA         True\n",
      "situacion_vivienda_OTROS           False\n",
      "situacion_vivienda_PROPIA          False\n",
      "objetivo_credito_EDUCACIÓN         False\n",
      "objetivo_credito_INVERSIONES        True\n",
      "objetivo_credito_MEJORAS_HOGAR     False\n",
      "objetivo_credito_PAGO_DEUDAS       False\n",
      "objetivo_credito_PERSONAL          False\n",
      "objetivo_credito_SALUD             False\n",
      "estado_credito_N_Activo            False\n",
      "estado_credito_N_Cancelado          True\n",
      "estado_civil_N_C                   False\n",
      "estado_civil_N_D                   False\n",
      "estado_civil_N_N                   False\n",
      "estado_civil_N_S                    True\n",
      "estado_cliente_ACTIVO               True\n",
      "estado_cliente_PASIVO              False\n",
      "genero_F                            True\n",
      "genero_M                           False\n",
      "Name: 2023, dtype: object\n",
      "--------------------------------------------------\n",
      "Label del registro: \n",
      "N\n"
     ]
    }
   ],
   "source": [
    "# Se reparten los datos disponibles en conjuntos para entrenamiento y testeo\n",
    "\n",
    "train_data, test_data, train_labels, test_labels = train_test_split(data, labels) \n",
    "\n",
    "# Toma por defecto 75% (entrenamiento) - 25% (testeo)\n",
    "\n",
    "# Vista de los datos de entrenamiento para una fila\n",
    "\n",
    "print(f\"Un registro de entrenamiento: \\n{train_data.iloc[1]}\")\n",
    "print(\"-\"*50)\n",
    "print(f\"Label del registro: \\n{train_labels[1]}\\n\")\n",
    "\n",
    "print(\"#\"*50)\n",
    "print(\"#\"*50)\n",
    "\n",
    "# Vista de los datos de testeo para una fila\n",
    "\n",
    "print(f\"\\nUn registro de testeo: \\n{test_data.iloc[1]}\")\n",
    "print(\"-\"*50)\n",
    "print(f\"Label del registro: \\n{test_labels[1]}\")"
   ]
  },
  {
   "cell_type": "code",
   "execution_count": 54,
   "metadata": {},
   "outputs": [],
   "source": [
    "# Configuración de la evaluación\n",
    "\n",
    "def evaluar_modelo(modelo, test_data, test_labels):\n",
    "    prediction = modelo.predict(test_data)\n",
    "    print('Rendimiento obtenido:',accuracy_score(test_labels,prediction))\n",
    "    print('Reporte de indicadores:\\n',classification_report(test_labels,prediction))\n",
    "    print('Matriz de confusión:')\n",
    "    cm = confusion_matrix(test_labels, prediction, labels=modelo.classes_)\n",
    "    disp = ConfusionMatrixDisplay(confusion_matrix=cm,\n",
    "                                   display_labels=modelo.classes_)\n",
    "    disp.plot()\n",
    "    plt.show()"
   ]
  },
  {
   "cell_type": "code",
   "execution_count": 55,
   "metadata": {},
   "outputs": [],
   "source": [
    "# Para obtener todos los parámetros y no solo los modificados\n",
    "\n",
    "from sklearn import set_config\n",
    "\n",
    "set_config(print_changed_only=False)"
   ]
  },
  {
   "attachments": {},
   "cell_type": "markdown",
   "metadata": {},
   "source": [
    "### Generación de modelos"
   ]
  },
  {
   "attachments": {},
   "cell_type": "markdown",
   "metadata": {},
   "source": [
    "##### ZeroR"
   ]
  },
  {
   "cell_type": "code",
   "execution_count": 56,
   "metadata": {},
   "outputs": [
    {
     "name": "stderr",
     "output_type": "stream",
     "text": [
      "2023/12/09 15:52:48 INFO mlflow.utils.autologging_utils: Created MLflow autologging run with ID '3b20a578e8934bee99ebef21ea5a0970', which will track hyperparameters, performance metrics, model artifacts, and lineage information for the current sklearn workflow\n",
      "c:\\Users\\User\\anaconda3\\envs\\VIU-13MBID\\Lib\\site-packages\\sklearn\\metrics\\_classification.py:1469: UndefinedMetricWarning: Precision is ill-defined and being set to 0.0 in labels with no predicted samples. Use `zero_division` parameter to control this behavior.\n",
      "  _warn_prf(average, modifier, msg_start, len(result))\n"
     ]
    },
    {
     "data": {
      "text/html": [
       "<style>#sk-container-id-15 {color: black;}#sk-container-id-15 pre{padding: 0;}#sk-container-id-15 div.sk-toggleable {background-color: white;}#sk-container-id-15 label.sk-toggleable__label {cursor: pointer;display: block;width: 100%;margin-bottom: 0;padding: 0.3em;box-sizing: border-box;text-align: center;}#sk-container-id-15 label.sk-toggleable__label-arrow:before {content: \"▸\";float: left;margin-right: 0.25em;color: #696969;}#sk-container-id-15 label.sk-toggleable__label-arrow:hover:before {color: black;}#sk-container-id-15 div.sk-estimator:hover label.sk-toggleable__label-arrow:before {color: black;}#sk-container-id-15 div.sk-toggleable__content {max-height: 0;max-width: 0;overflow: hidden;text-align: left;background-color: #f0f8ff;}#sk-container-id-15 div.sk-toggleable__content pre {margin: 0.2em;color: black;border-radius: 0.25em;background-color: #f0f8ff;}#sk-container-id-15 input.sk-toggleable__control:checked~div.sk-toggleable__content {max-height: 200px;max-width: 100%;overflow: auto;}#sk-container-id-15 input.sk-toggleable__control:checked~label.sk-toggleable__label-arrow:before {content: \"▾\";}#sk-container-id-15 div.sk-estimator input.sk-toggleable__control:checked~label.sk-toggleable__label {background-color: #d4ebff;}#sk-container-id-15 div.sk-label input.sk-toggleable__control:checked~label.sk-toggleable__label {background-color: #d4ebff;}#sk-container-id-15 input.sk-hidden--visually {border: 0;clip: rect(1px 1px 1px 1px);clip: rect(1px, 1px, 1px, 1px);height: 1px;margin: -1px;overflow: hidden;padding: 0;position: absolute;width: 1px;}#sk-container-id-15 div.sk-estimator {font-family: monospace;background-color: #f0f8ff;border: 1px dotted black;border-radius: 0.25em;box-sizing: border-box;margin-bottom: 0.5em;}#sk-container-id-15 div.sk-estimator:hover {background-color: #d4ebff;}#sk-container-id-15 div.sk-parallel-item::after {content: \"\";width: 100%;border-bottom: 1px solid gray;flex-grow: 1;}#sk-container-id-15 div.sk-label:hover label.sk-toggleable__label {background-color: #d4ebff;}#sk-container-id-15 div.sk-serial::before {content: \"\";position: absolute;border-left: 1px solid gray;box-sizing: border-box;top: 0;bottom: 0;left: 50%;z-index: 0;}#sk-container-id-15 div.sk-serial {display: flex;flex-direction: column;align-items: center;background-color: white;padding-right: 0.2em;padding-left: 0.2em;position: relative;}#sk-container-id-15 div.sk-item {position: relative;z-index: 1;}#sk-container-id-15 div.sk-parallel {display: flex;align-items: stretch;justify-content: center;background-color: white;position: relative;}#sk-container-id-15 div.sk-item::before, #sk-container-id-15 div.sk-parallel-item::before {content: \"\";position: absolute;border-left: 1px solid gray;box-sizing: border-box;top: 0;bottom: 0;left: 50%;z-index: -1;}#sk-container-id-15 div.sk-parallel-item {display: flex;flex-direction: column;z-index: 1;position: relative;background-color: white;}#sk-container-id-15 div.sk-parallel-item:first-child::after {align-self: flex-end;width: 50%;}#sk-container-id-15 div.sk-parallel-item:last-child::after {align-self: flex-start;width: 50%;}#sk-container-id-15 div.sk-parallel-item:only-child::after {width: 0;}#sk-container-id-15 div.sk-dashed-wrapped {border: 1px dashed gray;margin: 0 0.4em 0.5em 0.4em;box-sizing: border-box;padding-bottom: 0.4em;background-color: white;}#sk-container-id-15 div.sk-label label {font-family: monospace;font-weight: bold;display: inline-block;line-height: 1.2em;}#sk-container-id-15 div.sk-label-container {text-align: center;}#sk-container-id-15 div.sk-container {/* jupyter's `normalize.less` sets `[hidden] { display: none; }` but bootstrap.min.css set `[hidden] { display: none !important; }` so we also need the `!important` here to be able to override the default hidden behavior on the sphinx rendered scikit-learn.org. See: https://github.com/scikit-learn/scikit-learn/issues/21755 */display: inline-block !important;position: relative;}#sk-container-id-15 div.sk-text-repr-fallback {display: none;}</style><div id=\"sk-container-id-15\" class=\"sk-top-container\"><div class=\"sk-text-repr-fallback\"><pre>DummyClassifier(constant=None, random_state=None, strategy=&#x27;prior&#x27;)</pre><b>In a Jupyter environment, please rerun this cell to show the HTML representation or trust the notebook. <br />On GitHub, the HTML representation is unable to render, please try loading this page with nbviewer.org.</b></div><div class=\"sk-container\" hidden><div class=\"sk-item\"><div class=\"sk-estimator sk-toggleable\"><input class=\"sk-toggleable__control sk-hidden--visually\" id=\"sk-estimator-id-15\" type=\"checkbox\" checked><label for=\"sk-estimator-id-15\" class=\"sk-toggleable__label sk-toggleable__label-arrow\">DummyClassifier</label><div class=\"sk-toggleable__content\"><pre>DummyClassifier(constant=None, random_state=None, strategy=&#x27;prior&#x27;)</pre></div></div></div></div></div>"
      ],
      "text/plain": [
       "DummyClassifier(constant=None, random_state=None, strategy='prior')"
      ]
     },
     "execution_count": 56,
     "metadata": {},
     "output_type": "execute_result"
    }
   ],
   "source": [
    "from sklearn.dummy import DummyClassifier\n",
    "\n",
    "clf = DummyClassifier()\n",
    "clf.fit(train_data, train_labels)"
   ]
  },
  {
   "cell_type": "code",
   "execution_count": 57,
   "metadata": {},
   "outputs": [
    {
     "name": "stdout",
     "output_type": "stream",
     "text": [
      "Rendimiento obtenido: 0.8135391923990499\n",
      "Vista de una muestra de valores de predicción y datos de testeo:\n",
      "['N' 'N' 'N' 'N' 'N' 'N' 'N' 'N' 'N' 'N']\n",
      "['N' 'N' 'N' 'Y' 'N' 'Y' 'N' 'N' 'N' 'N']\n"
     ]
    }
   ],
   "source": [
    "prediction = clf.predict(test_data)\n",
    "\n",
    "print('Rendimiento obtenido:',accuracy_score(test_labels, prediction))\n",
    "print('Vista de una muestra de valores de predicción y datos de testeo:')\n",
    "print(prediction[:10])\n",
    "print(test_labels[:10])"
   ]
  },
  {
   "cell_type": "code",
   "execution_count": 68,
   "metadata": {},
   "outputs": [
    {
     "name": "stdout",
     "output_type": "stream",
     "text": [
      " Para la generación de los modelos documentados se utilizó la librería sci-kit learn en su versión #  1.3.1\n"
     ]
    }
   ],
   "source": [
    "import sklearn\n",
    "\n",
    "print(f\" Para la generación de los modelos documentados se utilizó la librería sci-kit learn en su versión # \",sklearn.__version__)"
   ]
  },
  {
   "attachments": {},
   "cell_type": "markdown",
   "metadata": {},
   "source": [
    "----\n",
    "#### Prueba 1"
   ]
  },
  {
   "attachments": {},
   "cell_type": "markdown",
   "metadata": {},
   "source": [
    "Se pasa a configurar la serie de experimentos en **mlflow**"
   ]
  },
  {
   "cell_type": "code",
   "execution_count": 58,
   "metadata": {},
   "outputs": [
    {
     "name": "stderr",
     "output_type": "stream",
     "text": [
      "2023/12/09 15:52:50 WARNING mlflow.utils.autologging_utils: You are using an unsupported version of sklearn. If you encounter errors during autologging, try upgrading / downgrading sklearn to a supported version, or try upgrading MLflow.\n",
      "2023/12/09 15:52:50 INFO mlflow.tracking.fluent: Autologging successfully enabled for sklearn.\n"
     ]
    }
   ],
   "source": [
    "# Se establece un nombre para identificar la serie de experimentos\n",
    "\n",
    "mlflow.set_experiment(experiment_name=\"Prueba #1\")\n",
    "mlflow.autolog()"
   ]
  },
  {
   "attachments": {},
   "cell_type": "markdown",
   "metadata": {},
   "source": [
    "##### Regresión Logística"
   ]
  },
  {
   "cell_type": "code",
   "execution_count": 59,
   "metadata": {},
   "outputs": [],
   "source": [
    "with mlflow.start_run(run_name='Logistic Regression'):\n",
    "    lreg = LogisticRegression(solver = 'liblinear')\n",
    "\n",
    "    lreg.fit(train_data, train_labels)"
   ]
  },
  {
   "cell_type": "code",
   "execution_count": 60,
   "metadata": {},
   "outputs": [
    {
     "name": "stdout",
     "output_type": "stream",
     "text": [
      "Salida de resultado de la evaluación correspondientes a la Prueba #1\n",
      "Rendimiento obtenido: 0.8974663499604117\n",
      "Reporte de indicadores:\n",
      "               precision    recall  f1-score   support\n",
      "\n",
      "           N       0.90      0.98      0.94      2055\n",
      "           Y       0.87      0.53      0.66       471\n",
      "\n",
      "    accuracy                           0.90      2526\n",
      "   macro avg       0.89      0.76      0.80      2526\n",
      "weighted avg       0.90      0.90      0.89      2526\n",
      "\n",
      "Matriz de confusión:\n"
     ]
    },
    {
     "data": {
      "image/png": "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",
      "text/plain": [
       "<Figure size 640x480 with 2 Axes>"
      ]
     },
     "metadata": {},
     "output_type": "display_data"
    }
   ],
   "source": [
<<<<<<< HEAD
    "print(\"Salida de resultado de la evaluación correspondientes a la Prueba #1 de Regresión logística\")\n",
    "evaluar_modelo(lreg1, test_data, test_labels) "
=======
    "print(\"Salida de resultado de la evaluación correspondientes a la Prueba #1\")\n",
    "evaluar_modelo(lreg, test_data, test_labels)"
>>>>>>> c9c80c6056b57fdfb8daf99fab51829f0a35d272
   ]
  },
  {
   "attachments": {},
   "cell_type": "markdown",
   "metadata": {},
   "source": [
    "##### KNN"
   ]
  },
  {
   "cell_type": "code",
   "execution_count": 61,
   "metadata": {},
   "outputs": [],
   "source": [
    "with mlflow.start_run(run_name='KNN'):\n",
    "    knn = KNeighborsClassifier(n_neighbors=50, \n",
    "                               algorithm = 'ball_tree', \n",
    "                               leaf_size = 25)\n",
    "\n",
    "    knn.fit(train_data, train_labels)"
   ]
  },
  {
   "cell_type": "code",
   "execution_count": 62,
   "metadata": {},
   "outputs": [
    {
     "name": "stdout",
     "output_type": "stream",
     "text": [
      "Salida de resultado de la evaluación correspondientes a la Prueba #1\n",
      "Rendimiento obtenido: 0.8218527315914489\n",
      "Reporte de indicadores:\n",
      "               precision    recall  f1-score   support\n",
      "\n",
      "           N       0.82      1.00      0.90      2055\n",
      "           Y       0.86      0.05      0.10       471\n",
      "\n",
      "    accuracy                           0.82      2526\n",
      "   macro avg       0.84      0.53      0.50      2526\n",
      "weighted avg       0.83      0.82      0.75      2526\n",
      "\n",
      "Matriz de confusión:\n"
     ]
    },
    {
     "data": {
      "image/png": "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",
      "text/plain": [
       "<Figure size 640x480 with 2 Axes>"
      ]
     },
     "metadata": {},
     "output_type": "display_data"
    }
   ],
   "source": [
    "print(\"Salida de resultado de la evaluación correspondientes a la Prueba #1\")\n",
    "evaluar_modelo(knn, test_data, test_labels)"
   ]
  },
  {
   "attachments": {},
   "cell_type": "markdown",
   "metadata": {},
   "source": [
    "##### Árboles de Decisión (TDIDT)"
   ]
  },
  {
   "cell_type": "code",
   "execution_count": 63,
   "metadata": {},
   "outputs": [],
   "source": [
    "with mlflow.start_run(run_name='Decision Tree'):\n",
    "    dtc = DecisionTreeClassifier(max_depth=3, \n",
    "                                 criterion='entropy', \n",
    "                                 min_samples_split=10)\n",
    "\n",
    "    dtc.fit(train_data, train_labels)"
   ]
  },
  {
   "cell_type": "code",
   "execution_count": 64,
   "metadata": {},
   "outputs": [
    {
     "name": "stdout",
     "output_type": "stream",
     "text": [
      "Salida de resultado de la evaluación correspondientes a la Prueba #1\n",
      "Rendimiento obtenido: 0.898258115597783\n",
      "Reporte de indicadores:\n",
      "               precision    recall  f1-score   support\n",
      "\n",
      "           N       0.90      0.98      0.94      2055\n",
      "           Y       0.88      0.52      0.66       471\n",
      "\n",
      "    accuracy                           0.90      2526\n",
      "   macro avg       0.89      0.75      0.80      2526\n",
      "weighted avg       0.90      0.90      0.89      2526\n",
      "\n",
      "Matriz de confusión:\n"
     ]
    },
    {
     "data": {
      "image/png": "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",
      "text/plain": [
       "<Figure size 640x480 with 2 Axes>"
      ]
     },
     "metadata": {},
     "output_type": "display_data"
    }
   ],
   "source": [
    "print(\"Salida de resultado de la evaluación correspondientes a la Prueba #1\")\n",
    "evaluar_modelo(dtc, test_data, test_labels)"
   ]
  },
  {
   "attachments": {},
   "cell_type": "markdown",
   "metadata": {},
   "source": [
    "##### Métodos de ensamblado de modelos: RandomForest"
   ]
  },
  {
   "cell_type": "code",
   "execution_count": 65,
   "metadata": {},
   "outputs": [],
   "source": [
    "with mlflow.start_run(run_name='Random Forest'):\n",
    "    rndf = RandomForestClassifier(n_estimators=10)\n",
    "    rndf.fit(train_data, train_labels)"
   ]
  },
  {
   "cell_type": "code",
   "execution_count": 66,
   "metadata": {},
   "outputs": [
    {
     "name": "stdout",
     "output_type": "stream",
     "text": [
      "Salida de resultado de la evaluación correspondientes a la Prueba #1\n",
      "Rendimiento obtenido: 0.8895486935866983\n",
      "Reporte de indicadores:\n",
      "               precision    recall  f1-score   support\n",
      "\n",
      "           N       0.90      0.97      0.93      2055\n",
      "           Y       0.80      0.54      0.65       471\n",
      "\n",
      "    accuracy                           0.89      2526\n",
      "   macro avg       0.85      0.76      0.79      2526\n",
      "weighted avg       0.88      0.89      0.88      2526\n",
      "\n",
      "Matriz de confusión:\n"
     ]
    },
    {
     "data": {
      "image/png": "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",
      "text/plain": [
       "<Figure size 640x480 with 2 Axes>"
      ]
     },
     "metadata": {},
     "output_type": "display_data"
    }
   ],
   "source": [
    "print(\"Salida de resultado de la evaluación correspondientes a la Prueba #1\")\n",
    "evaluar_modelo(rndf, test_data, test_labels)"
   ]
  },
  {
   "attachments": {},
   "cell_type": "markdown",
   "metadata": {},
   "source": [
    "----\n",
    "#### Prueba #2"
   ]
  },
  {
   "cell_type": "code",
   "execution_count": 22,
   "metadata": {},
   "outputs": [
    {
     "data": {
      "text/plain": [
       "<Experiment: artifact_location='file:///d:/Maestria/13.%20Metodolog%C3%ADas%20de%20gesti%C3%B3n%20y%20dise%C3%B1o%20de%20proyectos%20Big%20Data/AG1/13MBID-Abr23/notebooks/03-Modelado%2BEvaluacion/mlruns/408563931166283871', creation_time=1702073101878, experiment_id='408563931166283871', last_update_time=1702073101878, lifecycle_stage='active', name='Prueba #2', tags={}>"
      ]
     },
     "execution_count": 22,
     "metadata": {},
     "output_type": "execute_result"
    }
   ],
   "source": [
    "mlflow.set_experiment(experiment_name=\"Prueba #2\")"
   ]
  },
  {
   "attachments": {},
   "cell_type": "markdown",
   "metadata": {},
   "source": [
    "##### Regresión Logística"
   ]
  },
  {
   "cell_type": "code",
   "execution_count": 23,
   "metadata": {},
   "outputs": [
    {
     "name": "stderr",
     "output_type": "stream",
     "text": [
      "c:\\Users\\User\\anaconda3\\envs\\VIU-13MBID\\Lib\\site-packages\\scipy\\optimize\\_linesearch.py:466: LineSearchWarning: The line search algorithm did not converge\n",
      "  warn('The line search algorithm did not converge', LineSearchWarning)\n",
      "c:\\Users\\User\\anaconda3\\envs\\VIU-13MBID\\Lib\\site-packages\\scipy\\optimize\\_linesearch.py:314: LineSearchWarning: The line search algorithm did not converge\n",
      "  warn('The line search algorithm did not converge', LineSearchWarning)\n"
     ]
    }
   ],
   "source": [
    "with mlflow.start_run(run_name='Logistic Regression (#2)'):\n",
    "    lreg = LogisticRegression(solver = 'newton-cg')\n",
    "\n",
    "    lreg.fit(train_data, train_labels)"
   ]
  },
  {
   "cell_type": "code",
   "execution_count": 24,
   "metadata": {},
   "outputs": [
    {
     "name": "stdout",
     "output_type": "stream",
     "text": [
      "Salida de resultado de la evaluación correspondientes a la Prueba #2\n",
      "Rendimiento obtenido: 0.9030087094220111\n",
      "Reporte de indicadores:\n",
      "               precision    recall  f1-score   support\n",
      "\n",
      "           N       0.91      0.97      0.94      2079\n",
      "           Y       0.83      0.57      0.67       447\n",
      "\n",
      "    accuracy                           0.90      2526\n",
      "   macro avg       0.87      0.77      0.81      2526\n",
      "weighted avg       0.90      0.90      0.90      2526\n",
      "\n",
      "Matriz de confusión:\n"
     ]
    },
    {
     "data": {
      "image/png": "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",
      "text/plain": [
       "<Figure size 640x480 with 2 Axes>"
      ]
     },
     "metadata": {},
     "output_type": "display_data"
    }
   ],
   "source": [
    "print(\"Salida de resultado de la evaluación correspondientes a la Prueba #2\")\n",
    "evaluar_modelo(lreg, test_data, test_labels)"
   ]
  },
  {
   "attachments": {},
   "cell_type": "markdown",
   "metadata": {},
   "source": [
    "##### KNN"
   ]
  },
  {
   "cell_type": "code",
   "execution_count": 25,
   "metadata": {},
   "outputs": [],
   "source": [
    "with mlflow.start_run(run_name='KNN (#2)'):\n",
    "    knn = KNeighborsClassifier(n_neighbors=50, \n",
    "                               algorithm = 'kd_tree', \n",
    "                               leaf_size = 20)\n",
    "\n",
    "    knn.fit(train_data, train_labels)"
   ]
  },
  {
   "cell_type": "code",
   "execution_count": 26,
   "metadata": {},
   "outputs": [
    {
     "name": "stdout",
     "output_type": "stream",
     "text": [
      "Salida de resultado de la evaluación correspondientes a la Prueba #2\n",
      "Rendimiento obtenido: 0.8285827395091053\n",
      "Reporte de indicadores:\n",
      "               precision    recall  f1-score   support\n",
      "\n",
      "           N       0.83      1.00      0.91      2079\n",
      "           Y       0.82      0.04      0.08       447\n",
      "\n",
      "    accuracy                           0.83      2526\n",
      "   macro avg       0.82      0.52      0.49      2526\n",
      "weighted avg       0.83      0.83      0.76      2526\n",
      "\n",
      "Matriz de confusión:\n"
     ]
    },
    {
     "data": {
      "image/png": "iVBORw0KGgoAAAANSUhEUgAAAgUAAAGwCAYAAAA5cxZWAAAAOXRFWHRTb2Z0d2FyZQBNYXRwbG90bGliIHZlcnNpb24zLjguMCwgaHR0cHM6Ly9tYXRwbG90bGliLm9yZy81sbWrAAAACXBIWXMAAA9hAAAPYQGoP6dpAABA8klEQVR4nO3de3hU5bn38d+QM5AMhJCTBAQFRIgcFYJuBUFCFFC0BYWmUGPwgNC8QHUDVeJWCbi3IEK1SC1BiEVrBa3SKIiiyBmMyqGIGiQphKCGCQmQ06z3D2B0DAwZZoaEWd/Pda3ryqz1rGfuSalz534Oy2IYhiEAAGB6jeo7AAAA0DCQFAAAAEkkBQAA4DSSAgAAIImkAAAAnEZSAAAAJJEUAACA0wLrOwBvsNvtOnjwoMLDw2WxWOo7HACAGwzD0LFjxxQfH69GjXz3t+rJkydVWVnplb6Cg4MVGhrqlb4aEr9ICg4ePKiEhIT6DgMA4IGCggK1atXKJ32fPHlSbds0VVFxjVf6i42NVX5+vt8lBn6RFISHh0uSvttxuSKaMiIC/zS8Q2J9hwD4RLWqtF6rHP8t94XKykoVFdfou+2XKyLcs++J0mN2tem5X5WVlSQFDdGZIYOIpo08/h8baKgCLUH1HQLgG6c3278Yw79Nwy1qGu7Z+9jlv8PUfpEUAABQFzWGXTUePvGnxrB7J5gGiKQAAGAadhmyy7OswNP7GzJq7QAAQBKVAgCAidhll6fFf897aLhICgAAplFjGKoxPCv/e3p/Q8bwAQAAkESlAABgIkw0dI1KAQDANOwyVOPh4U5SkJWVpWuvvVbh4eGKjo7WHXfcob179zq1MQxDmZmZio+PV1hYmPr166ddu3Y5tamoqNCECRMUFRWlJk2aaNiwYSosLHRqU1JSotTUVFmtVlmtVqWmpuro0aNu/X5ICgAA8JF169Zp/Pjx2rRpk1avXq3q6moNGjRI5eXljjbPPPOM5syZowULFmjr1q2KjY3VLbfcomPHjjnaZGRkaMWKFVq+fLnWr1+vsrIyDRkyRDU1P23bPGrUKOXl5Sk3N1e5ubnKy8tTamqqW/FaDOPSnzFRWloqq9Wqkq/asaMh/FZyfLf6DgHwiWqjSh/pLdlsNkVERPjkPc58T3zz71iFe/g9ceyYXVdcVXRB8R45ckTR0dFat26dbrzxRhmGofj4eGVkZOjRRx+VdKoqEBMTo9mzZ+v++++XzWZTy5YttXTpUo0cOVLST8/8WbVqlZKTk7Vnzx5dffXV2rRpk3r37i1J2rRpk5KSkvTvf/9bHTt2rFN8fIMCAEzjzOoDTw/pVKLx86OiouK872+z2SRJkZGRkqT8/HwVFRVp0KBBjjYhISG66aabtGHDBknS9u3bVVVV5dQmPj5eXbp0cbTZuHGjrFarIyGQpD59+shqtTra1AVJAQAAFyAhIcExfm+1WpWVleWyvWEYmjRpkm644QZ16dJFklRUVCRJiomJcWobExPjuFZUVKTg4GA1b97cZZvo6Oha7xkdHe1oUxesPgAAmIb99OFpH9KpRz3/fPggJCTE5X0PP/ywvvjiC61fv77WtV8+DMowjPM+IOqXbc7Wvi79/ByVAgCAaXi68uDMIUkRERFOh6ukYMKECXr77bf14YcfqlWrVo7zsbGxklTrr/ni4mJH9SA2NlaVlZUqKSlx2ebw4cO13vfIkSO1qhCukBQAAEyjxvDOUVeGYejhhx/Wm2++qbVr16pt27ZO19u2bavY2FitXr3aca6yslLr1q1T3759JUk9e/ZUUFCQU5tDhw5p586djjZJSUmy2WzasmWLo83mzZtls9kcbeqC4QMAAHxk/PjxevXVV/XWW28pPDzcURGwWq0KCwuTxWJRRkaGZs6cqfbt26t9+/aaOXOmGjdurFGjRjnapqWlafLkyWrRooUiIyM1ZcoUJSYmauDAgZKkTp06afDgwUpPT9fChQslSePGjdOQIUPqvPJAIikAAJiIN+cU1MWLL74oSerXr5/T+cWLF2vs2LGSpEceeUQnTpzQQw89pJKSEvXu3Vvvv/++wsPDHe3nzp2rwMBAjRgxQidOnNCAAQOUnZ2tgIAAR5ucnBxNnDjRsUph2LBhWrBggVufjX0KgEsE+xTAX13MfQp27I5RUw+/J8qO2dXj6sM+jbe+8A0KAAAkMXwAADARu3Hq8LQPf0VSAAAwjRpZVKO6r9s/Vx/+iuEDAAAgiUoBAMBEqBS4RlIAADANu2GR3fDsS93T+xsyhg8AAIAkKgUAABNh+MA1kgIAgGnUqJFqPCyS13gploaIpAAAYBqGF+YUGMwpAAAA/o5KAQDANJhT4BpJAQDANGqMRqoxPJxT4MfbHDN8AAAAJFEpAACYiF0W2T38e9gu/y0VkBQAAEyDOQWuMXwAAAAkUSkAAJiIdyYaMnwAAMAl79ScAg8fiMTwAQAA8HdUCgAApmH3wrMPWH0AAIAfYE6BayQFAADTsKsR+xS4wJwCAAAgiUoBAMBEagyLajx89LGn9zdkJAUAANOo8cJEwxqGDwAAgL+jUgAAMA270Uh2D1cf2Fl9AADApY/hA9cYPgAAAJKoFAAATMQuz1cP2L0TSoNEUgAAMA3vbF7kv0V2//1kAADALVQKAACm4Z1nH/jv39P++8kAAPgFuyxeOdzx8ccfa+jQoYqPj5fFYtHKlSudrlsslrMe//u//+to069fv1rX7777bqd+SkpKlJqaKqvVKqvVqtTUVB09etStWEkKAACmcaZS4OnhjvLycnXt2lULFiw46/VDhw45HX/9619lsVh01113ObVLT093ardw4UKn66NGjVJeXp5yc3OVm5urvLw8paamuhUrwwcAAFyA0tJSp9chISEKCQmp1S4lJUUpKSnn7Cc2Ntbp9VtvvaX+/furXbt2TucbN25cq+0Ze/bsUW5urjZt2qTevXtLkhYtWqSkpCTt3btXHTt2rNNnolIAADCNM5sXeXpIUkJCgqNUb7ValZWV5XF8hw8f1rvvvqu0tLRa13JychQVFaXOnTtrypQpOnbsmOPaxo0bZbVaHQmBJPXp00dWq1UbNmyo8/tTKQAAmIbdsMju6T4Fp+8vKChQRESE4/zZqgTuWrJkicLDw3XnnXc6nR89erTatm2r2NhY7dy5U1OnTtXnn3+u1atXS5KKiooUHR1dq7/o6GgVFRXV+f1JCgAAuAARERFOSYE3/PWvf9Xo0aMVGhrqdD49Pd3xc5cuXdS+fXv16tVLO3bsUI8ePSSdmrD4S4ZhnPX8uTB8AAAwDbsXhg58tXnRJ598or179+q+++47b9sePXooKChI+/btk3RqXsLhw4drtTty5IhiYmLqHANJAQDANM48JdHTwxdefvll9ezZU127dj1v2127dqmqqkpxcXGSpKSkJNlsNm3ZssXRZvPmzbLZbOrbt2+dY2D4AAAAHyorK9PXX3/teJ2fn6+8vDxFRkaqdevWkk6tZPj73/+uZ599ttb933zzjXJycnTrrbcqKipKu3fv1uTJk9W9e3ddf/31kqROnTpp8ODBSk9PdyxVHDdunIYMGVLnlQcSlQIAgInUyOKVwx3btm1T9+7d1b17d0nSpEmT1L17dz3++OOONsuXL5dhGLrnnntq3R8cHKwPPvhAycnJ6tixoyZOnKhBgwZpzZo1CggIcLTLyclRYmKiBg0apEGDBumaa67R0qVL3YrVYhjGJf9g6NLSUlmtVpV81U4R4eQ58E/J8d3qOwTAJ6qNKn2kt2Sz2bw+ce+MM98TT2weqNCmnhXJT5ZVa0bvNT6Nt77wDQoAACQxpwAAYCI1ktvl/7P14a9ICgAApuGN1QO+Wn3QEJAUAABMg0cnu+a/nwwAALiFSgEAwDQMWWT3cE6B4eH9DRlJAQDANBg+cM1/PxkAAHALlQIAgGl489HJ/oikAABgGmeedOhpH/7Kfz8ZAABwC5UCAIBpMHzgGkkBAMA07Goku4dFck/vb8j895MBAAC3UCkAAJhGjWFRjYflf0/vb8hICgAApsGcAtdICgAApmF44SmJBjsaAgAAf0elAABgGjWyqMbDBxp5en9DRlIAADANu+H5nAC74aVgGiCGDwAAgCQqBaa0fH60Pl3VTAVfhyg41K6rex1X2vSDSriywtHGMKRlz8ZqVU4LldkCdFX34xo/s1CXdzwpSSoqCNaY3leftf/pC/N141CbJOm3112tw4XBTtdHjD+stOmHfPTpAO8Y+fBh3TutSCsWRenPMy6r73DgJXYvTDT09P6GjKTAhL7Y2FRDx36vDt2Oq6Zayp4dp2n3XKFF6/6t0MZ2SdLrf4rWmy+11OTnDqhVuwq9+lyMpt59hV7+ZI8aN7WrZXyl/pa306nfVcta6O8vROvam485nf/tHw4pZfQPjtdhTey+/5CABzp0Pa5bf/Ojvt0VWt+hwMvsssju4ZwAT+9vyOo13Rk7dqwsFotmzZrldH7lypWyWPz3l17fZr76rQaN/FGXdzypKzqf1OS5B1T8n2Dt+yJM0qkqwcq/tNTdEw/rhlttuvyqk5oy74AqTjTShyuaS5ICAqTI6GqnY8O/rLpp2NFaX/phTe1O7UgK0JCFNq7Rowu+03N/aKVjtoD6Dge4qOq9BhIaGqrZs2erpKSkvkMxrfLSU//hC29WI0kqOhCsH4uD1POmn/7iDw4xlNinTLu3NTlrH/u+CNM3uxor+Z4fal37+5+i9avOXfTgwI56dV6MqipJ+NBwPTzzP9ryQYQ++yS8vkOBD5zZ0dDTw1/V+/DBwIED9fXXXysrK0vPPPNMfYdjOoYhvZR5mTpfV6bLrzo1X+DH4lP/LJq3rHJq27xllYp/MT/gjNy/tVDr9ifV+drjTufvuO+Irkw8rqbWGu39rLEWZ8Xr8IFg/b9nC3zwaQDP3HR7ia5MPKEJt7av71DgI8wpcK3ek4KAgADNnDlTo0aN0sSJE9WqVavz3lNRUaGKip8mxZWWlvoyRL/2p2mXKX9PmJ5dua/2xV8kw4ZhqXVOkipOWPThiuYalVFU69qd4444fm539Uk1bVajp9LbKm36QUVE1ngaPuA1LeMr9eD/HNS0e9qpqsJ//6MPuNIg/uUPHz5c3bp104wZM+rUPisrS1ar1XEkJCT4OEL/9Kfpl2nj+1Y988bXahn/U1UgMrpaklRSHOTU/uj3gWresrpWP5+820wVJywa+Osfz/uenXqcqiQc3B/iSeiA1115zQk1b1mtBblfadWBz7XqwOfq2rdct6d9r1UHPlejRn68ON1E7LI4nn9wwQcTDX1v9uzZWrJkiXbv3n3etlOnTpXNZnMcBQWUot1hGNKCaZfp039Z9czfv1Zs60qn67GtKxUZXaUdH/80plpVadGXm5rq6l7ltfp7728t1GdQqZq1OP9f/l/vPDWZMTK66jwtgYsr75OmGte/gx685adjb16Y1r7ZXA/e0kF2u/9+EZiJcXr1gSeH4cdJQb0PH5xx4403Kjk5WdOmTdPYsWNdtg0JCVFICH9pXqgF01rpwxXNlbn4W4U1tTvmEDQJr1FImCGL5dRcgOXzY3RZuwpd1rZCf3s+RiFhdvUf7jwh9D/5wfpyUxM9uezbWu+ze1tj/XtHE3XtW6YmETXam9dYCzPj1WeQTdGtSArQsJwoD9B3e8Oczp083kjHSmqfx6WLpyS61mCSAkmaNWuWunXrpg4dOtR3KH7tnSVRkqQ/3OU8mWry3AMaNPLUEMCI8cWqPNlIC6aeWpZ1VffjyvrbN2rc1Hk54XvLW6hFbJXTSoUzgoINrXu7mZbNiVVVpUXRl1UqZdSP+vVDh330yQAAnmhQSUFiYqJGjx6t+fPn13cofu29g3nnbWOxSKlTipQ6pfbkwZ+7d+oh3Tv17LsTtr/mhOa9c5YJjMAl4pFfXVnfIcDLWH3gWoP7ZE8++aQMgwk9AADv83iSoReGHxqyek0KsrOztXLlSqdzbdq00cmTJ0kMAAB+4eOPP9bQoUMVHx8vi8VS63vvzO6+Pz/69Onj1KaiokITJkxQVFSUmjRpomHDhqmwsNCpTUlJiVJTUx0r81JTU3X06FG3Ym1wlQIAAHzF05UHF/LshPLycnXt2lULFiw4Z5vBgwfr0KFDjmPVqlVO1zMyMrRixQotX75c69evV1lZmYYMGaKamp9WfY0aNUp5eXnKzc1Vbm6u8vLylJqa6lasDWpOAQAAvlQfqw9SUlKUkpLisk1ISIhiY2PPes1ms+nll1/W0qVLNXDgQEnSsmXLlJCQoDVr1ig5OVl79uxRbm6uNm3apN69e0uSFi1apKSkJO3du1cdO3asU6xUCgAAuAClpaVOx8932nXXRx99pOjoaHXo0EHp6ekqLi52XNu+fbuqqqo0aNAgx7n4+Hh16dJFGzZskCRt3LhRVqvVkRBIUp8+fWS1Wh1t6oKkAABgGt6caJiQkOC0u25WVtYFxZSSkqKcnBytXbtWzz77rLZu3aqbb77ZkWQUFRUpODhYzZs3d7ovJiZGRUVFjjbR0dG1+o6Ojna0qQuGDwAApuHN4YOCggJFREQ4zl/opnojR450/NylSxf16tVLbdq00bvvvqs777zznPcZhiGL5afP8vOfz9XmfKgUAABwASIiIpwOb+20GxcXpzZt2mjfvlP7vMTGxqqyslIlJc47yhYXFysmJsbR5vDh2hvDHTlyxNGmLkgKAACmcSnsU/DDDz+ooKBAcXFxkqSePXsqKChIq1evdrQ5dOiQdu7cqb59+0qSkpKSZLPZtGXLFkebzZs3y2azOdrUBcMHAADTMCSPn3Lo7i46ZWVl+vrrrx2v8/PzlZeXp8jISEVGRiozM1N33XWX4uLitH//fk2bNk1RUVEaPny4JMlqtSotLU2TJ09WixYtFBkZqSlTpigxMdGxGqFTp04aPHiw0tPTtXDhQknSuHHjNGTIkDqvPJBICgAAJlIfSxK3bdum/v37O15PmjRJkjRmzBi9+OKL+vLLL/XKK6/o6NGjiouLU//+/fXaa68pPPynJ9XOnTtXgYGBGjFihE6cOKEBAwYoOztbAQEBjjY5OTmaOHGiY5XCsGHDXO6NcDYWww+2DiwtLZXValXJV+0UEc6ICPxTcny3+g4B8Ilqo0of6S3ZbDaniXvedOZ74uZ3H1BgE8/G/qvLK7T2tj/7NN76QqUAAGAaPDrZNZICAIBpkBS4Rq0dAABIolIAADARKgWukRQAAEzDMCwyPPxS9/T+hozhAwAAIIlKAQDAROyyeLx5kaf3N2QkBQAA02BOgWsMHwAAAElUCgAAJsJEQ9dICgAApsHwgWskBQAA06BS4BpzCgAAgCQqBQAAEzG8MHzgz5UCkgIAgGkYkgzD8z78FcMHAABAEpUCAICJ2GWRhR0Nz4mkAABgGqw+cI3hAwAAIIlKAQDAROyGRRY2LzonkgIAgGkYhhdWH/jx8gOGDwAAgCQqBQAAE2GioWskBQAA0yApcI2kAABgGkw0dI05BQAAQBKVAgCAibD6wDWSAgCAaZxKCjydU+ClYBoghg8AAIAkKgUAABNh9YFrJAUAANMwTh+e9uGvGD4AAACSqBQAAEyE4QPXSAoAAObB+IFLDB8AAMzjdKXAk0NuVgo+/vhjDR06VPHx8bJYLFq5cqXjWlVVlR599FElJiaqSZMmio+P129/+1sdPHjQqY9+/frJYrE4HXfffbdTm5KSEqWmpspqtcpqtSo1NVVHjx51K1aSAgAAfKi8vFxdu3bVggULal07fvy4duzYoccee0w7duzQm2++qa+++krDhg2r1TY9PV2HDh1yHAsXLnS6PmrUKOXl5Sk3N1e5ubnKy8tTamqqW7EyfAAAMA1v7mhYWlrqdD4kJEQhISG12qekpCglJeWsfVmtVq1evdrp3Pz583XdddfpwIEDat26teN848aNFRsbe9Z+9uzZo9zcXG3atEm9e/eWJC1atEhJSUnau3evOnbsWKfPRqUAAGAang4d/HyiYkJCgqNUb7ValZWV5ZUYbTabLBaLmjVr5nQ+JydHUVFR6ty5s6ZMmaJjx445rm3cuFFWq9WREEhSnz59ZLVatWHDhjq/N5UCAAAuQEFBgSIiIhyvz1YlcNfJkyf13//93xo1apRT36NHj1bbtm0VGxurnTt3aurUqfr8888dVYaioiJFR0fX6i86OlpFRUV1fn+SAgCAeVzARMGz9iEpIiLC6YvbU1VVVbr77rtlt9v1wgsvOF1LT093/NylSxe1b99evXr10o4dO9SjRw9JksVS+3MZhnHW8+fC8AEAwDTOzCnw9PC2qqoqjRgxQvn5+Vq9evV5k40ePXooKChI+/btkyTFxsbq8OHDtdodOXJEMTExdY6DpAAAgHp0JiHYt2+f1qxZoxYtWpz3nl27dqmqqkpxcXGSpKSkJNlsNm3ZssXRZvPmzbLZbOrbt2+dY2H4AABgHvWweVFZWZm+/vprx+v8/Hzl5eUpMjJS8fHx+tWvfqUdO3bonXfeUU1NjWMOQGRkpIKDg/XNN98oJydHt956q6KiorR7925NnjxZ3bt31/XXXy9J6tSpkwYPHqz09HTHUsVx48ZpyJAhdV55IJEUAABMpD62Od62bZv69+/veD1p0iRJ0pgxY5SZmam3335bktStWzen+z788EP169dPwcHB+uCDDzRv3jyVlZUpISFBt912m2bMmKGAgABH+5ycHE2cOFGDBg2SJA0bNuyseyO4Uqek4Pnnn69zhxMnTnQrAAAA/Fm/fv1kuJiI4OqadGrp47p16877PpGRkVq2bJnb8f1cnZKCuXPn1qkzi8VCUgAAaNj8+NkFnqpTUpCfn+/rOAAA8DmekujaBa8+qKys1N69e1VdXe3NeAAA8B3DS4efcjspOH78uNLS0tS4cWN17txZBw4ckHRqLsGsWbO8HiAAALg43E4Kzmyt+NFHHyk0NNRxfuDAgXrttde8GhwAAN5l8dLhn9xekrhy5Uq99tpr6tOnj9PWiVdffbW++eYbrwYHAIBX1cM+BZcStysFR44cOetDF8rLy93aXxkAADQsbicF1157rd59913H6zOJwJnnNgMA0GAx0dAlt4cPsrKyNHjwYO3evVvV1dWaN2+edu3apY0bN9ZpcwUAAOqNF5+S6I/crhT07dtXn376qY4fP64rrrhC77//vmJiYrRx40b17NnTFzECAICL4IKefZCYmKglS5Z4OxYAAHzKG48+9sWjkxuKC0oKampqtGLFCu3Zs0cWi0WdOnXS7bffrsBAnq8EAGjAWH3gktvf4jt37tTtt9+uoqIix+MYv/rqK7Vs2VJvv/22EhMTvR4kAADwPbfnFNx3333q3LmzCgsLtWPHDu3YsUMFBQW65pprNG7cOF/ECACAd5yZaOjp4afcrhR8/vnn2rZtm5o3b+4417x5cz399NO69tprvRocAADeZDFOHZ724a/crhR07NhRhw8frnW+uLhYV155pVeCAgDAJ9inwKU6JQWlpaWOY+bMmZo4caLeeOMNFRYWqrCwUG+88YYyMjI0e/ZsX8cLAAB8pE7DB82aNXPawtgwDI0YMcJxzji9PmPo0KGqqanxQZgAAHgBmxe5VKek4MMPP/R1HAAA+B5LEl2qU1Jw0003+ToOAABQzy54t6Hjx4/rwIEDqqysdDp/zTXXeBwUAAA+QaXAJbeTgiNHjuh3v/ud/vWvf531OnMKAAANFkmBS24vSczIyFBJSYk2bdqksLAw5ebmasmSJWrfvr3efvttX8QIAAAuArcrBWvXrtVbb72la6+9Vo0aNVKbNm10yy23KCIiQllZWbrtttt8EScAAJ5j9YFLblcKysvLFR0dLUmKjIzUkSNHJJ16cuKOHTu8Gx0AAF50ZkdDTw9/dUE7Gu7du1eS1K1bNy1cuFD/+c9/9Oc//1lxcXFeDxAAAFwcbg8fZGRk6NChQ5KkGTNmKDk5WTk5OQoODlZ2dra34wMAwHuYaOiS20nB6NGjHT93795d+/fv17///W+1bt1aUVFRXg0OAABcPBe8T8EZjRs3Vo8ePbwRCwAAPmWRF56S6JVIGqY6JQWTJk2qc4dz5sy54GAAAED9qVNS8Nlnn9Wps58/NKk+DB2XqsDA0HqNAfCVQAure+CvLBdvnJ4liS7xQCQAgHkw0dAlt5ckAgAA/0RSAAAwD8NLhxs+/vhjDR06VPHx8bJYLFq5cqVzSIahzMxMxcfHKywsTP369dOuXbuc2lRUVGjChAmKiopSkyZNNGzYMBUWFjq1KSkpUWpqqqxWq6xWq1JTU3X06FG3YiUpAACYRn3saFheXq6uXbtqwYIFZ73+zDPPaM6cOVqwYIG2bt2q2NhY3XLLLTp27JijTUZGhlasWKHly5dr/fr1Kisr05AhQ5weQjhq1Cjl5eUpNzdXubm5ysvLU2pqqluxerwkEQAAnFtKSopSUlLOes0wDD333HOaPn267rzzTknSkiVLFBMTo1dffVX333+/bDabXn75ZS1dulQDBw6UJC1btkwJCQlas2aNkpOTtWfPHuXm5mrTpk3q3bu3JGnRokVKSkrS3r171bFjxzrFSqUAAGAeXhw+KC0tdToqKircDic/P19FRUUaNGiQ41xISIhuuukmbdiwQZK0fft2VVVVObWJj49Xly5dHG02btwoq9XqSAgkqU+fPrJarY42dXFBScHSpUt1/fXXKz4+Xt99950k6bnnntNbb711Id0BAHBxeDEpSEhIcIzfW61WZWVluR1OUVGRJCkmJsbpfExMjONaUVGRgoOD1bx5c5dtzjys8Oeio6MdberC7aTgxRdf1KRJk3Trrbfq6NGjjvGMZs2a6bnnnnO3OwAALkkFBQWy2WyOY+rUqRfc1y/3+TEM47x7//yyzdna16Wfn3M7KZg/f74WLVqk6dOnKyAgwHG+V69e+vLLL93tDgCAi8abEw0jIiKcjpCQELfjiY2NlaRaf80XFxc7qgexsbGqrKxUSUmJyzaHDx+u1f+RI0dqVSFccTspyM/PV/fu3WudDwkJUXl5ubvdAQBw8ZzZ0dDTw0vatm2r2NhYrV692nGusrJS69atU9++fSVJPXv2VFBQkFObQ4cOaefOnY42SUlJstls2rJli6PN5s2bZbPZHG3qwu3VB23btlVeXp7atGnjdP5f//qXrr76ane7AwDg4qmHHQ3Lysr09ddfO17n5+crLy9PkZGRat26tTIyMjRz5ky1b99e7du318yZM9W4cWONGjVKkmS1WpWWlqbJkyerRYsWioyM1JQpU5SYmOhYjdCpUycNHjxY6enpWrhwoSRp3LhxGjJkSJ1XHkgXkBT84Q9/0Pjx43Xy5EkZhqEtW7bob3/7m7KysvSXv/zF3e4AAPBr27ZtU//+/R2vzzxkcMyYMcrOztYjjzyiEydO6KGHHlJJSYl69+6t999/X+Hh4Y575s6dq8DAQI0YMUInTpzQgAEDlJ2d7TSMn5OTo4kTJzpWKQwbNuyceyOci8UwDLdzpkWLFumpp55SQUGBJOmyyy5TZmam0tLS3O3KK0pLS2W1WnVDvxk8EAl+K3AtD0SCf6o2qvSRsVI2m00RERE+eY8z3xPtZsxUo1DPvifsJ0/q2yem+TTe+nJBmxelp6crPT1d33//vex2+1mXQQAA0ODwQCSXPNrRMCoqyltxAACAenZBEw1drXn89ttvPQoIAACfuYBnF5ytD3/ldlKQkZHh9LqqqkqfffaZcnNz9Yc//MFbcQEA4H0MH7jkdlLw+9///qzn//SnP2nbtm0eBwQAAOqH1x6IlJKSon/84x/e6g4AAO/z4rMP/JHXHp38xhtvKDIy0lvdAQDgdRYvzCnweE5CA+Z2UtC9e3eniYaGYaioqEhHjhzRCy+84NXgAADAxeN2UnDHHXc4vW7UqJFatmypfv366aqrrvJWXAAA4CJzKymorq7W5ZdfruTkZMeTnQAAuGSw+sAltyYaBgYG6sEHH1RFRYWv4gEAwGe8+ehkf+T26oPevXvrs88+80UsAACgHrk9p+Chhx7S5MmTVVhYqJ49e6pJkyZO16+55hqvBQcAgNf58V/6nqpzUnDvvffqueee08iRIyVJEydOdFyzWCwyDEMWi0U1NTXejxIAAG9gToFLdU4KlixZolmzZik/P9+X8QAAgHpS56TAME6lRm3atPFZMAAA+BKbF7nm1pwCV09HBACgwWP4wCW3koIOHTqcNzH48ccfPQoIAADUD7eSgieeeEJWq9VXsQAA4FMMH7jmVlJw9913Kzo62lexAADgWwwfuFTnzYuYTwAAgH9ze/UBAACXLCoFLtU5KbDb7b6MAwAAn2NOgWtub3MMAMAli0qBS24/EAkAAPgnKgUAAPOgUuASSQEAwDSYU+AawwcAAEASlQIAgJkwfOASSQEAwDQYPnCN4QMAACCJSgEAwEwYPnCJpAAAYB4kBS4xfAAAACSRFAAATMTipaOuLr/8clksllrH+PHjJUljx46tda1Pnz5OfVRUVGjChAmKiopSkyZNNGzYMBUWFl74L8EFkgIAgHkYXjrqaOvWrTp06JDjWL16tSTp17/+taPN4MGDndqsWrXKqY+MjAytWLFCy5cv1/r161VWVqYhQ4aopqbmQn4DLjGnAABgGhd7SWLLli2dXs+aNUtXXHGFbrrpJse5kJAQxcbGnvV+m82ml19+WUuXLtXAgQMlScuWLVNCQoLWrFmj5ORk9z+AC1QKAAC4AKWlpU5HRUWFy/aVlZVatmyZ7r33XlksPw1CfPTRR4qOjlaHDh2Unp6u4uJix7Xt27erqqpKgwYNcpyLj49Xly5dtGHDBq9/JpICAIB5eHH4ICEhQVar1XFkZWW5fOuVK1fq6NGjGjt2rONcSkqKcnJytHbtWj377LPaunWrbr75ZkeCUVRUpODgYDVv3typr5iYGBUVFXnymzgrhg8AAObipSWFBQUFioiIcLwOCQlx2f7ll19WSkqK4uPjHedGjhzp+LlLly7q1auX2rRpo3fffVd33nnnOfsyDMOp2uAtJAUAAFyAiIgIp6TAle+++05r1qzRm2++6bJdXFyc2rRpo3379kmSYmNjVVlZqZKSEqdqQXFxsfr27XvhwZ8DwwcAANM4M9HQ08NdixcvVnR0tG677TaX7X744QcVFBQoLi5OktSzZ08FBQU5Vi1I0qFDh7Rz506fJAVUCgAA5lEPOxra7XYtXrxYY8aMUWDgT1+7ZWVlyszM1F133aW4uDjt379f06ZNU1RUlIYPHy5JslqtSktL0+TJk9WiRQtFRkZqypQpSkxMdKxG8CaSAgAAfGjNmjU6cOCA7r33XqfzAQEB+vLLL/XKK6/o6NGjiouLU//+/fXaa68pPDzc0W7u3LkKDAzUiBEjdOLECQ0YMEDZ2dkKCAjweqwkBQAA06iPRycPGjRIhlH7prCwML333nvnvT80NFTz58/X/Pnz3XvjC0BSAAAwDx6I5BITDQEAgCQqBQAAE6mP4YNLCUkBAMA8GD5wiaQAAGAeJAUuMacAAABIolIAADAR5hS4RlIAADAPhg9cYvgAAABIolIAADARi2HIcpbdBd3tw1+RFAAAzIPhA5cYPgAAAJKoFAAATITVB66RFAAAzIPhA5cYPgAAAJKoFAAATIThA9dICgAA5sHwgUskBQAA06BS4BpzCgAAgCQqBQAAM2H4wCWSAgCAqfhz+d9TDB8AAABJVAoAAGZiGKcOT/vwUyQFAADTYPWBawwfAAAASVQKAABmwuoDl0gKAACmYbGfOjztw18xfAAAACRRKcBZ3DP0c903Yrv+kXu1Xsjpo4AAu+791XZd17VQcdHHVH48SDt2xesvr12rH442dtwXF12qB+7Zoi4dihUUVKOtX1ymBa8kqaQ0rB4/DXBuXXqX6dcPFqt94nG1iK1W5r2Xa+N7zRzXQxvXKG3aISUNtimiWbUOFwbrrb+21DuvRNVf0PAMwwcuUSmAk45tj+i2/nv1zYHmjnOhwdVqf/kPWrayqx744+3KnDdArWJL9eT/W/1Tm5AqPfPIezIMi6ZkDdbv/+c2BQXa9dSk1bL481RdXNJCG9v17e4w/emPrc56/YHM/6hXv1I9M6G10vtdpTcXtdRDTxYqaZDtIkcKbzmz+sDTw1/Va1JgGIYGDhyo5OTkWtdeeOEFWa1WHThwoB4iM6fQkCpNe3Cd5rx8vY6VhzjOl58I1iOzB2vdlnYqLLJqzzfRWvBKH3Vs94OiW5RJkjq3L1ZMyzI989J/Kb8wUvmFkXrmpf/SVVd8r+5XH6yvjwS4tO3DCC15Jk6f/qvZWa936nlcq9+I1Bcbw3W4MET/yonSt7vD1L7r8YsbKLznzD4Fnh5+ql6TAovFosWLF2vz5s1auHCh43x+fr4effRRzZs3T61bt67HCM3l92M2atPnCdqx67Lztm3SuFJ2u1RWHixJCg6qkQypqjrA0aayKkA1dou6dDjss5gBX9q1tYn63GJTi9hKSYa69j2my9pVaPtH4fUdGuAT9T58kJCQoHnz5mnKlCnKz8+XYRhKS0vTgAEDNHbs2LPeU1FRodLSUqcDnunf51tdefkP+svrPc/bNiioWveN2Ka1G6/Q8ZOnkoLdX7fUiYpApY/cqpDgaoWGVOn+e7YqoJGhFs1O+Dp8wCdeeOwyHdgXqle379a7+z/XU8u+1YJprbRra9P6Dg0XiOED1xrERMMxY8ZoxYoV+t3vfqe77rpLO3fu1M6dO8/ZPisrS0888cRFjNC/tYws0/jfbNIjzySrqsr1P4mAALseG/+RGjWS5mUnOc7bjoXpf+bfrIyxGzR80G4ZhkVrN7bTV/ktVGO3+PojAD5xx73f66oex/X42LYqLgxWYu8yPTyzUD8WB+mzT6gWXJKYaOhSvVcKznjppZe0e/duZWRkaOHChYqOjj5n26lTp8pmszmOgoKCixip/+nQ9gc1t57Un//nbb2fvVjvZy9Wt05FGj5ot97PXqxGpxflBgTY9fjDaxXb8pgemZ3sqBKcsX3nZUqd8mvdNX6Uhj80SrMW3qSo5sdVdIT/eOLSExxq19j/PqSXnojX5tVW5e8J09vZLbXu7Wb61f3F9R0eLhGZmZmyWCxOR2xsrOO6YRjKzMxUfHy8wsLC1K9fP+3atcupj4qKCk2YMEFRUVFq0qSJhg0bpsLCQp/E2yAqBZIUHR2tcePGaeXKlRo+fLjLtiEhIQoJCXHZBnW3Y1e80qY6/87/kP6JCg5atfzda2Q3GjkSgstiSzV5ZopKy0LP2d+Za92uPqhmESe0YQfzQnDpCQw0FBRsyP6LSpfdbpGlwfw5BXfVx7MPOnfurDVr1jheBwT8NPfqmWee0Zw5c5Sdna0OHTroqaee0i233KK9e/cqPPzUH1QZGRn65z//qeXLl6tFixaaPHmyhgwZou3btzv15Q0NJimQpMDAQAUGNqiQTOHEySDtL2zudO5kRaBKy0K0v7C5GjWya8aEtWp/+Q+aPmegGjUy1Nx6avb1sbIQVdec+keZ/F9f6cDBZjp6LFSdryzW+N9s1j9yO6uwyHrRPxNQF6GNaxTftsLxOrZ1pdp1Pq5jJYE6cjBYn29oovQ/HlTlSYsOFwbrmqQyDbzrR730P+efjIsGyotPSfzlfLZz/cEaGBjoVB34qRtDzz33nKZPn64777xTkrRkyRLFxMTo1Vdf1f333y+bzaaXX35ZS5cu1cCBAyVJy5YtU0JCgtasWXPW1Xue4BsY59UyslzX9zy1NHTR0285XZv0dIo+/3ecJCkhzqb7RmxXeNMKHT7SVDlvd9UbuZ0verxAXXXoelz/+8Y3jtcPZJ5aPvv+68317P9ro6yHLte9Uw/p0fkHFN6sWsX/CVb2M3F655UW9RUyGpCEhASn1zNmzFBmZmatdvv27VN8fLxCQkLUu3dvzZw5U+3atVN+fr6Kioo0aNAgR9uQkBDddNNN2rBhg+6//35t375dVVVVTm3i4+PVpUsXbdiwgaQAF8fkmbc6fj78fbgGpN573nv+8vq1+svr1/oyLMCrvtgYruTLup3zesmRID07ieEvf+LN4YOCggJFREQ4zp+tStC7d2+98sor6tChgw4fPqynnnpKffv21a5du1RUVCRJiomJcbonJiZG3333nSSpqKhIwcHBat68ea02Z+73JpICAIB5eHH1QUREhFNScDYpKSmOnxMTE5WUlKQrrrhCS5YsUZ8+fSSd2rPHqXvDqHWuVgh1aHMhGtR0mczMTOXl5dV3GAAA+ESTJk2UmJioffv2OeYZ/PIv/uLiYkf1IDY2VpWVlSopKTlnG29qUEkBAAC+VN+bF1VUVGjPnj2Ki4tT27ZtFRsbq9Wrf3qOTGVlpdatW6e+fftKknr27KmgoCCnNocOHdLOnTsdbbyJ4QMAgHnYjVOHp33U0ZQpUzR06FC1bt1axcXFeuqpp1RaWqoxY8bIYrEoIyNDM2fOVPv27dW+fXvNnDlTjRs31qhRoyRJVqtVaWlpmjx5slq0aKHIyEhNmTJFiYmJjtUI3kRSAAAwj4u8o2FhYaHuueceff/992rZsqX69OmjTZs2qU2bNpKkRx55RCdOnNBDDz2kkpIS9e7dW++//75jjwJJmjt3rgIDAzVixAidOHFCAwYMUHZ2ttf3KJAki2Fc+o97Ki0tldVq1Q39Zigw8Nyb6gCXssC1O+o7BMAnqo0qfWSslM1mO+/EvQt15nui78AnFBjk2fdEddVJbVgzw6fx1hcqBQAA07DIC0sSvRJJw0RSAAAwDy/uaOiPWH0AAAAkUSkAAJhIfTwQ6VJCUgAAMI+LvPrgUsPwAQAAkESlAABgIhbDkMXDiYKe3t+QkRQAAMzDfvrwtA8/xfABAACQRKUAAGAiDB+4RlIAADAPVh+4RFIAADAPdjR0iTkFAABAEpUCAICJsKOhayQFAADzYPjAJYYPAACAJCoFAAATsdhPHZ724a9ICgAA5sHwgUsMHwAAAElUCgAAZsLmRS6RFAAATINtjl1j+AAAAEiiUgAAMBMmGrpEUgAAMA9DkqdLCv03JyApAACYB3MKXGNOAQAAkESlAABgJoa8MKfAK5E0SCQFAADzYKKhSwwfAAAASVQKAABmYpdk8UIffoqkAABgGqw+cI3hAwAAIIlKAQDATJho6BKVAgCAeZxJCjw96igrK0vXXnutwsPDFR0drTvuuEN79+51ajN27FhZLBano0+fPk5tKioqNGHCBEVFRalJkyYaNmyYCgsLvfIr+TmSAgAAfGTdunUaP368Nm3apNWrV6u6ulqDBg1SeXm5U7vBgwfr0KFDjmPVqlVO1zMyMrRixQotX75c69evV1lZmYYMGaKamhqvxsvwAQDAPC7y8EFubq7T68WLFys6Olrbt2/XjTfe6DgfEhKi2NjYs/Zhs9n08ssva+nSpRo4cKAkadmyZUpISNCaNWuUnJx8AR/i7KgUAADMw+6lQ1JpaanTUVFRcd63t9lskqTIyEin8x999JGio6PVoUMHpaenq7i42HFt+/btqqqq0qBBgxzn4uPj1aVLF23YsMH934ELJAUAANM4syTR00OSEhISZLVaHUdWVpbL9zYMQ5MmTdINN9ygLl26OM6npKQoJydHa9eu1bPPPqutW7fq5ptvdiQZRUVFCg4OVvPmzZ36i4mJUVFRkVd/PwwfAABwAQoKChQREeF4HRIS4rL9ww8/rC+++ELr1693Oj9y5EjHz126dFGvXr3Upk0bvfvuu7rzzjvP2Z9hGLJYPN2JyRmVAgCAeXhx9UFERITT4SopmDBhgt5++219+OGHatWqlcsQ4+Li1KZNG+3bt0+SFBsbq8rKSpWUlDi1Ky4uVkxMjIe/EGckBQAA87Ab3jnqyDAMPfzww3rzzTe1du1atW3b9rz3/PDDDyooKFBcXJwkqWfPngoKCtLq1asdbQ4dOqSdO3eqb9++7v8OXGD4AAAAHxk/frxeffVVvfXWWwoPD3fMAbBarQoLC1NZWZkyMzN11113KS4uTvv379e0adMUFRWl4cOHO9qmpaVp8uTJatGihSIjIzVlyhQlJiY6ViN4C0kBAMA8LvKSxBdffFGS1K9fP6fzixcv1tixYxUQEKAvv/xSr7zyio4ePaq4uDj1799fr732msLDwx3t586dq8DAQI0YMUInTpzQgAEDlJ2drYCAAM8+yy+QFAAATMQLSYHcGz5wJSwsTO+99955+wkNDdX8+fM1f/78Or/3hWBOAQAAkESlAABgJjwQySWSAgCAedgNuVP+P3cf/onhAwAAIIlKAQDATAz7qcPTPvwUSQEAwDyYU+ASSQEAwDyYU+AScwoAAIAkKgUAADNh+MAlkgIAgHkY8kJS4JVIGiSGDwAAgCQqBQAAM2H4wCWSAgCAedjtkjzcZ8Duv/sUMHwAAAAkUSkAAJgJwwcukRQAAMyDpMAlhg8AAIAkKgUAADNhm2OXSAoAAKZhGHYZHj7l0NP7GzKSAgCAeRiG53/pM6cAAAD4OyoFAADzMLwwp8CPKwUkBQAA87DbJYuHcwL8eE4BwwcAAEASlQIAgJkwfOASSQEAwDQMu12Gh8MH/rwkkeEDAAAgiUoBAMBMGD5wiaQAAGAedkOykBScC8MHAABAEpUCAICZGIYkT/cp8N9KAUkBAMA0DLshw8PhA4OkAAAAP2DY5XmlgCWJAADAz1EpAACYBsMHrpEUAADMg+EDl/wiKTiTtVVXV9RzJIAPGVX1HQHgE9Wn/21fjL/Aq1Xl8d5F1fLf/y/6RVJw7NgxSdKm9bPqORIAwIU6duyYrFarT/oODg5WbGys1het8kp/sbGxCg4O9kpfDYnF8IPBEbvdroMHDyo8PFwWi6W+w/F7paWlSkhIUEFBgSIiIuo7HMDr+Dd+cRmGoWPHjik+Pl6NGvlu/vvJkydVWVnplb6Cg4MVGhrqlb4aEr+oFDRq1EitWrWq7zBMJyIigv9gwq/xb/zi8VWF4OdCQ0P98ovcm1iSCAAAJJEUAACA00gK4LaQkBDNmDFDISEh9R0K4BP8G4dZ+cVEQwAA4DkqBQAAQBJJAQAAOI2kAAAASCIpAAAAp5EUoE7Gjh0ri8WiWbOct5JeuXIlu0jCLxiGoYEDByo5ObnWtRdeeEFWq1UHDhyoh8iAi4ekAHUWGhqq2bNnq6SkpL5DAbzOYrFo8eLF2rx5sxYuXOg4n5+fr0cffVTz5s1T69at6zFCwPdIClBnAwcOVGxsrLKysuo7FMAnEhISNG/ePE2ZMkX5+fkyDENpaWkaMGCAxo4dW9/hAT5HUoA6CwgI0MyZMzV//nwVFhbWdziAT4wZM0YDBgzQ7373Oy1YsEA7d+7USy+9VN9hARcFSQHcMnz4cHXr1k0zZsyo71AAn3nppZe0e/duZWRkaOHChYqOjq7vkICLgqQAbps9e7aWLFmi3bt313cogE9ER0dr3Lhx6tSpk4YPH17f4QAXDUkB3HbjjTcqOTlZ06ZNq+9QAJ8JDAxUYKBfPF0eqDP+xeOCzJo1S926dVOHDh3qOxQAgJdQKcAFSUxM1OjRozV//vz6DgUA4CUkBbhgTz75pHjIJgD4Dx6dDAAAJFEpAAAAp5EUAAAASSQFAADgNJICAAAgiaQAAACcRlIAAAAkkRQAAIDTSAoAAIAkkgLAazIzM9WtWzfH67Fjx+qOO+646HHs379fFotFeXl552xz+eWX67nnnqtzn9nZ2WrWrJnHsVksFq1cudLjfgD4BkkB/NrYsWNlsVhksVgUFBSkdu3aacqUKSovL/f5e8+bN0/Z2dl1aluXL3IA8DWekgi/N3jwYC1evFhVVVX65JNPdN9996m8vFwvvvhirbZVVVUKCgryyvtarVav9AMAFwuVAvi9kJAQxcbGKiEhQaNGjdLo0aMdJewzJf+//vWvateunUJCQmQYhmw2m8aNG6fo6GhFRETo5ptv1ueff+7U76xZsxQTE6Pw8HClpaXp5MmTTtd/OXxgt9s1e/ZsXXnllQoJCVHr1q319NNPS5Latm0rSerevbssFov69evnuG/x4sXq1KmTQkNDddVVV+mFF15wep8tW7aoe/fuCg0NVa9evfTZZ5+5/TuaM2eOEhMT1aRJEyUkJOihhx5SWVlZrXYrV65Uhw4dFBoaqltuuUUFBQVO1//5z3+qZ8+eCg0NVbt27fTEE0+ourra7XgA1A+SAphOWFiYqqqqHK+//vprvf766/rHP/7hKN/fdtttKioq0qpVq7R9+3b16NFDAwYM0I8//ihJev311zVjxgw9/fTT2rZtm+Li4mp9Wf/S1KlTNXv2bD322GPavXu3Xn31VcXExEg69cUuSWvWrNGhQ4f05ptvSpIWLVqk6dOn6+mnn9aePXs0c+ZMPfbYY1qyZIkkqby8XEOGDFHHjh21fft2ZWZmasqUKW7/Tho1aqTnn39eO3fu1JIlS7R27Vo98sgjTm2OHz+up59+WkuWLNGnn36q0tJS3X333Y7r7733nn7zm99o4sSJ2r17txYuXKjs7GxH4gPgEmAAfmzMmDHG7bff7ni9efNmo0WLFsaIESMMwzCMGTNmGEFBQUZxcbGjzQcffGBEREQYJ0+edOrriiuuMBYuXGgYhmEkJSUZDzzwgNP13r17G127dj3re5eWlhohISHGokWLzhpnfn6+Icn47LPPnM4nJCQYr776qtO5J5980khKSjIMwzAWLlxoREZGGuXl5Y7rL7744ln7+rk2bdoYc+fOPef1119/3WjRooXj9eLFiw1JxqZNmxzn9uzZY0gyNm/ebBiGYfzXf/2XMXPmTKd+li5dasTFxTleSzJWrFhxzvcFUL+YUwC/984776hp06aqrq5WVVWVbr/9ds2fP99xvU2bNmrZsqXj9fbt21VWVqYWLVo49XPixAl98803kqQ9e/bogQcecLqelJSkDz/88Kwx7NmzRxUVFRowYECd4z5y5IgKCgqUlpam9PR0x/nq6mrHfIU9e/aoa9euaty4sVMc7vrwww81c+ZM7d69W6WlpaqurtbJkydVXl6uJk2aSJICAwPVq1cvxz1XXXWVmjVrpj179ui6667T9u3btXXrVqfKQE1NjU6ePKnjx487xQigYSIpgN/r37+/XnzxRQUFBSk+Pr7WRMIzX3pn2O12xcXF6aOPPqrV14UuywsLC3P7HrvdLunUEELv3r2drgUEBEiSDMO4oHh+7rvvvtOtt96qBx54QE8++aQiIyO1fv16paWlOQ2zSKeWFP7SmXN2u11PPPGE7rzzzlptQkNDPY4TgO+RFMDvNWnSRFdeeWWd2/fo0UNFRUUKDAzU5ZdfftY2nTp10qZNm/Tb3/7WcW7Tpk3n7LN9+/YKCwvTBx98oPvuu6/W9eDgYEmn/rI+IyYmRpdddpm+/fZbjR49+qz9Xn311Vq6dKlOnDjhSDxcxXE227ZtU3V1tZ599lk1anRqmtHrr79eq111dbW2bdum6667TpK0d+9eHT16VFdddZWkU7+3vXv3uvW7BtCwkBQAvzBw4EAlJSXpjjvu0OzZs9WxY0cdPHhQq1at0h133KFevXrp97//vcaMGaNevXrphhtuUE5Ojnbt2qV27dqdtc/Q0FA9+uijeuSRRxQcHKzrr79eR44c0a5du5SWlqbo6GiFhYUpNzdXrVq1UmhoqKxWqzIzMzVx4kRFREQoJSVFFRUV2rZtm0pKSjRp0iSNGjVK06dPV1pamv74xz9q//79+r//+z+3Pu8VV1yh6upqzZ8/X0OHDtWnn36qP//5z7XaBQUFacKECXr++ecVFBSkhx9+WH369HEkCY8//riGDBmihIQE/frXv1ajRo30xRdf6Msvv9RTTz3l/v8QAC46Vh8Av2CxWLRq1SrdeOONuvfee9WhQwfdfffd2r9/v2O1wMiRI/X444/r0UcfVc+ePfXdd9/pwQcfdNnvY489psmTJ+vxxx9Xp06dNHLkSBUXF0s6NV7//PPPa+HChYqPj9ftt98uSbrvvvv0l7/8RdnZ2UpMTNRNN92k7OxsxxLGpk2b6p///Kd2796t7t27a/r06Zo9e7Zbn7dbt26aM2eOZs+erS5duignJ0dZWVm12jVu3FiPPvqoRo0apaSkJIWFhWn58uWO68nJyXrnnXe0evVqXXvtterTp4/mzJmjNm3auBUPgPpjMbwxKAkAAC55VAoAAIAkkgIAAHAaSQEAAJBEUgAAAE4jKQAAAJJICgAAwGkkBQAAQBJJAQAAOI2kAAAASCIpAAAAp5EUAAAASdL/By8/Oq1+bD7jAAAAAElFTkSuQmCC",
      "text/plain": [
       "<Figure size 640x480 with 2 Axes>"
      ]
     },
     "metadata": {},
     "output_type": "display_data"
    }
   ],
   "source": [
    "print(\"Salida de resultado de la evaluación correspondientes a la Prueba #2\")\n",
    "evaluar_modelo(knn, test_data, test_labels)"
   ]
  },
  {
   "attachments": {},
   "cell_type": "markdown",
   "metadata": {},
   "source": [
    "##### Árboles de Decisión (TDIDT)"
   ]
  },
  {
   "cell_type": "code",
   "execution_count": 27,
   "metadata": {},
   "outputs": [],
   "source": [
    "with mlflow.start_run(run_name='Decision Tree (#2)'):\n",
    "    dtc = DecisionTreeClassifier(max_depth=4, \n",
    "                                 criterion='entropy',\n",
    "                                 splitter='best',  \n",
    "                                 min_samples_split=50)\n",
    "\n",
    "    dtc.fit(train_data, train_labels)"
   ]
  },
  {
   "cell_type": "code",
   "execution_count": 28,
   "metadata": {},
   "outputs": [
    {
     "name": "stdout",
     "output_type": "stream",
     "text": [
      "Salida de resultado de la evaluación correspondientes a la Prueba #2\n",
      "Rendimiento obtenido: 0.9034045922406968\n",
      "Reporte de indicadores:\n",
      "               precision    recall  f1-score   support\n",
      "\n",
      "           N       0.91      0.98      0.94      2079\n",
      "           Y       0.85      0.55      0.67       447\n",
      "\n",
      "    accuracy                           0.90      2526\n",
      "   macro avg       0.88      0.77      0.81      2526\n",
      "weighted avg       0.90      0.90      0.89      2526\n",
      "\n",
      "Matriz de confusión:\n"
     ]
    },
    {
     "data": {
      "image/png": "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",
      "text/plain": [
       "<Figure size 640x480 with 2 Axes>"
      ]
     },
     "metadata": {},
     "output_type": "display_data"
    }
   ],
   "source": [
    "print(\"Salida de resultado de la evaluación correspondientes a la Prueba #2\")\n",
    "evaluar_modelo(dtc, test_data, test_labels)"
   ]
  },
  {
   "attachments": {},
   "cell_type": "markdown",
   "metadata": {},
   "source": [
    "##### Métodos de ensamblado de modelos: RandomForest"
   ]
  },
  {
   "cell_type": "code",
   "execution_count": 29,
   "metadata": {},
   "outputs": [],
   "source": [
    "with mlflow.start_run(run_name='Random Forest (#2)'):\n",
    "    rndf = RandomForestClassifier(n_estimators=20)\n",
    "    rndf.fit(train_data, train_labels)"
   ]
  },
  {
   "cell_type": "code",
   "execution_count": 30,
   "metadata": {},
   "outputs": [
    {
     "name": "stdout",
     "output_type": "stream",
     "text": [
      "Salida de resultado de la evaluación correspondientes a la Prueba #2\n",
      "Rendimiento obtenido: 0.9002375296912114\n",
      "Reporte de indicadores:\n",
      "               precision    recall  f1-score   support\n",
      "\n",
      "           N       0.92      0.97      0.94      2079\n",
      "           Y       0.80      0.58      0.67       447\n",
      "\n",
      "    accuracy                           0.90      2526\n",
      "   macro avg       0.86      0.78      0.81      2526\n",
      "weighted avg       0.89      0.90      0.89      2526\n",
      "\n",
      "Matriz de confusión:\n"
     ]
    },
    {
     "data": {
      "image/png": "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",
      "text/plain": [
       "<Figure size 640x480 with 2 Axes>"
      ]
     },
     "metadata": {},
     "output_type": "display_data"
    }
   ],
   "source": [
    "print(\"Salida de resultado de la evaluación correspondientes a la Prueba #2\")\n",
    "evaluar_modelo(rndf, test_data, test_labels)"
   ]
  },
  {
   "attachments": {},
   "cell_type": "markdown",
   "metadata": {},
   "source": [
    "----\n",
    "#### Prueba #3"
   ]
  },
  {
   "cell_type": "code",
   "execution_count": 31,
   "metadata": {},
   "outputs": [
    {
     "data": {
      "text/plain": [
       "<Experiment: artifact_location='file:///d:/Maestria/13.%20Metodolog%C3%ADas%20de%20gesti%C3%B3n%20y%20dise%C3%B1o%20de%20proyectos%20Big%20Data/AG1/13MBID-Abr23/notebooks/03-Modelado%2BEvaluacion/mlruns/421803445742121849', creation_time=1702073115680, experiment_id='421803445742121849', last_update_time=1702073115680, lifecycle_stage='active', name='Prueba #3', tags={}>"
      ]
     },
     "execution_count": 31,
     "metadata": {},
     "output_type": "execute_result"
    }
   ],
   "source": [
    "mlflow.set_experiment(experiment_name=\"Prueba #3\")"
   ]
  },
  {
   "attachments": {},
   "cell_type": "markdown",
   "metadata": {},
   "source": [
    "##### Regresión Logística"
   ]
  },
  {
   "cell_type": "code",
   "execution_count": 32,
   "metadata": {},
   "outputs": [],
   "source": [
    "with mlflow.start_run(run_name='Logistic Regression (#3)'):\n",
    "    lreg = LogisticRegression(solver = 'newton-cholesky')\n",
    "\n",
    "    lreg.fit(train_data, train_labels)"
   ]
  },
  {
   "cell_type": "code",
   "execution_count": 33,
   "metadata": {},
   "outputs": [
    {
     "name": "stdout",
     "output_type": "stream",
     "text": [
      "Salida de resultado de la evaluación correspondientes a la Prueba #3\n",
      "Rendimiento obtenido: 0.9030087094220111\n",
      "Reporte de indicadores:\n",
      "               precision    recall  f1-score   support\n",
      "\n",
      "           N       0.91      0.97      0.94      2079\n",
      "           Y       0.83      0.57      0.67       447\n",
      "\n",
      "    accuracy                           0.90      2526\n",
      "   macro avg       0.87      0.77      0.81      2526\n",
      "weighted avg       0.90      0.90      0.90      2526\n",
      "\n",
      "Matriz de confusión:\n"
     ]
    },
    {
     "data": {
      "image/png": "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",
      "text/plain": [
       "<Figure size 640x480 with 2 Axes>"
      ]
     },
     "metadata": {},
     "output_type": "display_data"
    }
   ],
   "source": [
    "print(\"Salida de resultado de la evaluación correspondientes a la Prueba #3\")\n",
    "evaluar_modelo(lreg, test_data, test_labels)"
   ]
  },
  {
   "attachments": {},
   "cell_type": "markdown",
   "metadata": {},
   "source": [
    "##### KNN"
   ]
  },
  {
   "cell_type": "code",
   "execution_count": 34,
   "metadata": {},
   "outputs": [],
   "source": [
    "with mlflow.start_run(run_name='KNN (#3)'):\n",
    "    knn = KNeighborsClassifier(n_neighbors=40, \n",
    "                               algorithm = 'auto', \n",
    "                               leaf_size = 25)\n",
    "\n",
    "    knn.fit(train_data, train_labels)"
   ]
  },
  {
   "cell_type": "code",
   "execution_count": 35,
   "metadata": {},
   "outputs": [
    {
     "name": "stdout",
     "output_type": "stream",
     "text": [
      "Salida de resultado de la evaluación correspondientes a la Prueba #3\n",
      "Rendimiento obtenido: 0.8309580364212193\n",
      "Reporte de indicadores:\n",
      "               precision    recall  f1-score   support\n",
      "\n",
      "           N       0.83      1.00      0.91      2079\n",
      "           Y       0.78      0.06      0.12       447\n",
      "\n",
      "    accuracy                           0.83      2526\n",
      "   macro avg       0.80      0.53      0.51      2526\n",
      "weighted avg       0.82      0.83      0.77      2526\n",
      "\n",
      "Matriz de confusión:\n"
     ]
    },
    {
     "data": {
      "image/png": "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",
      "text/plain": [
       "<Figure size 640x480 with 2 Axes>"
      ]
     },
     "metadata": {},
     "output_type": "display_data"
    }
   ],
   "source": [
    "print(\"Salida de resultado de la evaluación correspondientes a la Prueba #3\")\n",
    "evaluar_modelo(knn, test_data, test_labels)"
   ]
  },
  {
   "attachments": {},
   "cell_type": "markdown",
   "metadata": {},
   "source": [
    "##### Árboles de Decisión (TDIDT)"
   ]
  },
  {
   "cell_type": "code",
   "execution_count": 36,
   "metadata": {},
   "outputs": [],
   "source": [
    "with mlflow.start_run(run_name='Decision Tree (#3)'):\n",
    "    dtc = DecisionTreeClassifier(max_depth=5, \n",
    "                                 criterion='gini',\n",
    "                                 splitter='random', \n",
    "                                 min_samples_split=50)\n",
    "\n",
    "    dtc.fit(train_data, train_labels)"
   ]
  },
  {
   "cell_type": "code",
   "execution_count": 37,
   "metadata": {},
   "outputs": [
    {
     "name": "stdout",
     "output_type": "stream",
     "text": [
      "Salida de resultado de la evaluación correspondientes a la Prueba #3\n",
      "Rendimiento obtenido: 0.8986539984164688\n",
      "Reporte de indicadores:\n",
      "               precision    recall  f1-score   support\n",
      "\n",
      "           N       0.92      0.96      0.94      2079\n",
      "           Y       0.76      0.63      0.69       447\n",
      "\n",
      "    accuracy                           0.90      2526\n",
      "   macro avg       0.84      0.79      0.81      2526\n",
      "weighted avg       0.89      0.90      0.89      2526\n",
      "\n",
      "Matriz de confusión:\n"
     ]
    },
    {
     "data": {
      "image/png": "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",
      "text/plain": [
       "<Figure size 640x480 with 2 Axes>"
      ]
     },
     "metadata": {},
     "output_type": "display_data"
    }
   ],
   "source": [
    "print(\"Salida de resultado de la evaluación correspondientes a la Prueba #3\")\n",
    "evaluar_modelo(dtc, test_data, test_labels)"
   ]
  },
  {
   "attachments": {},
   "cell_type": "markdown",
   "metadata": {},
   "source": [
    "##### Métodos de ensamblado de modelos: RandomForest"
   ]
  },
  {
   "cell_type": "code",
   "execution_count": 38,
   "metadata": {},
   "outputs": [],
   "source": [
    "with mlflow.start_run(run_name='Random Forest (#3)'):\n",
    "    rndf = RandomForestClassifier(n_estimators=15)\n",
    "    rndf.fit(train_data, train_labels)"
   ]
  },
  {
   "cell_type": "code",
   "execution_count": 39,
   "metadata": {},
   "outputs": [
    {
     "name": "stdout",
     "output_type": "stream",
     "text": [
      "Salida de resultado de la evaluación correspondientes a la Prueba #3\n",
      "Rendimiento obtenido: 0.8927157561361837\n",
      "Reporte de indicadores:\n",
      "               precision    recall  f1-score   support\n",
      "\n",
      "           N       0.92      0.96      0.94      2079\n",
      "           Y       0.75      0.59      0.66       447\n",
      "\n",
      "    accuracy                           0.89      2526\n",
      "   macro avg       0.83      0.77      0.80      2526\n",
      "weighted avg       0.89      0.89      0.89      2526\n",
      "\n",
      "Matriz de confusión:\n"
     ]
    },
    {
     "data": {
      "image/png": "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",
      "text/plain": [
       "<Figure size 640x480 with 2 Axes>"
      ]
     },
     "metadata": {},
     "output_type": "display_data"
    }
   ],
   "source": [
    "print(\"Salida de resultado de la evaluación correspondientes a la Prueba #3\")\n",
    "evaluar_modelo(rndf, test_data, test_labels)"
   ]
  },
  {
   "cell_type": "markdown",
   "metadata": {},
   "source": [
    "#### TODO: posibilidades de mejora de la libreta\n",
    "\n",
    "* Evaluación del clasificador a través de validación cruzada\n",
    "* Ejecutar pruebas que contemplen datos con mayor o menor grado de transformaciones aplicadas \n",
    "* Implementar clasificación con otras técnicas (por ejemplo: redes neuronales, SVM, entre otras)\n",
    "* Evaluar la combinación de técnicas, por ejemplo: clustering y sobre esos resultados aplicación de árboles de decisión para detectar patrones de agrupamiento y ahí relacionarlo con la situación de los clientes.\n",
    "* Integrar técnicas de extracción de reglas de asociación (con mayor \"legibilidad\" para usuarios no-técnicos)\n",
    "* Entre otras opciones"
   ]
  },
  {
   "cell_type": "markdown",
   "metadata": {},
   "source": [
    "----\n",
    "\n",
    "### Prueba de despliegue (utilzando datos nuevos)"
   ]
  },
  {
   "cell_type": "code",
   "execution_count": 40,
   "metadata": {},
   "outputs": [
    {
     "data": {
      "text/html": [
       "<div>\n",
       "<style scoped>\n",
       "    .dataframe tbody tr th:only-of-type {\n",
       "        vertical-align: middle;\n",
       "    }\n",
       "\n",
       "    .dataframe tbody tr th {\n",
       "        vertical-align: top;\n",
       "    }\n",
       "\n",
       "    .dataframe thead th {\n",
       "        text-align: right;\n",
       "    }\n",
       "</style>\n",
       "<table border=\"1\" class=\"dataframe\">\n",
       "  <thead>\n",
       "    <tr style=\"text-align: right;\">\n",
       "      <th></th>\n",
       "      <th>id_cliente</th>\n",
       "      <th>edad</th>\n",
       "      <th>importe_solicitado</th>\n",
       "      <th>duracion_credito</th>\n",
       "      <th>antiguedad_empleado</th>\n",
       "      <th>situacion_vivienda</th>\n",
       "      <th>ingresos</th>\n",
       "      <th>objetivo_credito</th>\n",
       "      <th>pct_ingreso</th>\n",
       "      <th>tasa_interes</th>\n",
       "      <th>...</th>\n",
       "      <th>antiguedad_cliente</th>\n",
       "      <th>estado_civil</th>\n",
       "      <th>estado_cliente</th>\n",
       "      <th>gastos_ult_12m</th>\n",
       "      <th>genero</th>\n",
       "      <th>limite_credito_tc</th>\n",
       "      <th>nivel_educativo</th>\n",
       "      <th>nivel_tarjeta</th>\n",
       "      <th>operaciones_ult_12m</th>\n",
       "      <th>personas_a_cargo</th>\n",
       "    </tr>\n",
       "  </thead>\n",
       "  <tbody>\n",
       "    <tr>\n",
       "      <th>0</th>\n",
       "      <td>708510993</td>\n",
       "      <td>22</td>\n",
       "      <td>4000</td>\n",
       "      <td>4</td>\n",
       "      <td>3.0</td>\n",
       "      <td>HIPOTECA</td>\n",
       "      <td>62000</td>\n",
       "      <td>PERSONAL</td>\n",
       "      <td>0.06</td>\n",
       "      <td>6.76</td>\n",
       "      <td>...</td>\n",
       "      <td>47</td>\n",
       "      <td>SOLTERO</td>\n",
       "      <td>ACTIVO</td>\n",
       "      <td>15478.0</td>\n",
       "      <td>F</td>\n",
       "      <td>4905.0</td>\n",
       "      <td>UNIVERSITARIO_INCOMPLETO</td>\n",
       "      <td>Blue</td>\n",
       "      <td>109.0</td>\n",
       "      <td>1.0</td>\n",
       "    </tr>\n",
       "    <tr>\n",
       "      <th>1</th>\n",
       "      <td>708512051</td>\n",
       "      <td>25</td>\n",
       "      <td>10000</td>\n",
       "      <td>2</td>\n",
       "      <td>3.0</td>\n",
       "      <td>ALQUILER</td>\n",
       "      <td>120000</td>\n",
       "      <td>INVERSIONES</td>\n",
       "      <td>0.08</td>\n",
       "      <td>9.32</td>\n",
       "      <td>...</td>\n",
       "      <td>18</td>\n",
       "      <td>CASADO</td>\n",
       "      <td>ACTIVO</td>\n",
       "      <td>3950.0</td>\n",
       "      <td>M</td>\n",
       "      <td>1663.0</td>\n",
       "      <td>UNIVERSITARIO_COMPLETO</td>\n",
       "      <td>Blue</td>\n",
       "      <td>82.0</td>\n",
       "      <td>3.0</td>\n",
       "    </tr>\n",
       "    <tr>\n",
       "      <th>2</th>\n",
       "      <td>708513258</td>\n",
       "      <td>23</td>\n",
       "      <td>1700</td>\n",
       "      <td>2</td>\n",
       "      <td>2.0</td>\n",
       "      <td>HIPOTECA</td>\n",
       "      <td>45000</td>\n",
       "      <td>SALUD</td>\n",
       "      <td>0.04</td>\n",
       "      <td>14.72</td>\n",
       "      <td>...</td>\n",
       "      <td>29</td>\n",
       "      <td>CASADO</td>\n",
       "      <td>ACTIVO</td>\n",
       "      <td>3078.0</td>\n",
       "      <td>M</td>\n",
       "      <td>4323.0</td>\n",
       "      <td>UNIVERSITARIO_INCOMPLETO</td>\n",
       "      <td>Blue</td>\n",
       "      <td>58.0</td>\n",
       "      <td>1.0</td>\n",
       "    </tr>\n",
       "    <tr>\n",
       "      <th>3</th>\n",
       "      <td>708514512</td>\n",
       "      <td>25</td>\n",
       "      <td>7200</td>\n",
       "      <td>4</td>\n",
       "      <td>0.0</td>\n",
       "      <td>ALQUILER</td>\n",
       "      <td>71604</td>\n",
       "      <td>PAGO_DEUDAS</td>\n",
       "      <td>0.10</td>\n",
       "      <td>10.95</td>\n",
       "      <td>...</td>\n",
       "      <td>29</td>\n",
       "      <td>CASADO</td>\n",
       "      <td>ACTIVO</td>\n",
       "      <td>4314.0</td>\n",
       "      <td>F</td>\n",
       "      <td>3809.0</td>\n",
       "      <td>UNIVERSITARIO_INCOMPLETO</td>\n",
       "      <td>Blue</td>\n",
       "      <td>81.0</td>\n",
       "      <td>2.0</td>\n",
       "    </tr>\n",
       "    <tr>\n",
       "      <th>4</th>\n",
       "      <td>708515472</td>\n",
       "      <td>26</td>\n",
       "      <td>5000</td>\n",
       "      <td>3</td>\n",
       "      <td>5.0</td>\n",
       "      <td>HIPOTECA</td>\n",
       "      <td>52000</td>\n",
       "      <td>PAGO_DEUDAS</td>\n",
       "      <td>0.10</td>\n",
       "      <td>10.59</td>\n",
       "      <td>...</td>\n",
       "      <td>36</td>\n",
       "      <td>CASADO</td>\n",
       "      <td>ACTIVO</td>\n",
       "      <td>4216.0</td>\n",
       "      <td>F</td>\n",
       "      <td>4712.0</td>\n",
       "      <td>SECUNDARIO_COMPLETO</td>\n",
       "      <td>Blue</td>\n",
       "      <td>82.0</td>\n",
       "      <td>1.0</td>\n",
       "    </tr>\n",
       "  </tbody>\n",
       "</table>\n",
       "<p>5 rows × 21 columns</p>\n",
       "</div>"
      ],
      "text/plain": [
       "   id_cliente  edad  importe_solicitado  duracion_credito  \\\n",
       "0   708510993    22                4000                 4   \n",
       "1   708512051    25               10000                 2   \n",
       "2   708513258    23                1700                 2   \n",
       "3   708514512    25                7200                 4   \n",
       "4   708515472    26                5000                 3   \n",
       "\n",
       "   antiguedad_empleado situacion_vivienda  ingresos objetivo_credito  \\\n",
       "0                  3.0           HIPOTECA     62000         PERSONAL   \n",
       "1                  3.0           ALQUILER    120000      INVERSIONES   \n",
       "2                  2.0           HIPOTECA     45000            SALUD   \n",
       "3                  0.0           ALQUILER     71604      PAGO_DEUDAS   \n",
       "4                  5.0           HIPOTECA     52000      PAGO_DEUDAS   \n",
       "\n",
       "   pct_ingreso  tasa_interes  ...  antiguedad_cliente  estado_civil  \\\n",
       "0         0.06          6.76  ...                  47       SOLTERO   \n",
       "1         0.08          9.32  ...                  18        CASADO   \n",
       "2         0.04         14.72  ...                  29        CASADO   \n",
       "3         0.10         10.95  ...                  29        CASADO   \n",
       "4         0.10         10.59  ...                  36        CASADO   \n",
       "\n",
       "  estado_cliente gastos_ult_12m  genero limite_credito_tc  \\\n",
       "0         ACTIVO        15478.0       F            4905.0   \n",
       "1         ACTIVO         3950.0       M            1663.0   \n",
       "2         ACTIVO         3078.0       M            4323.0   \n",
       "3         ACTIVO         4314.0       F            3809.0   \n",
       "4         ACTIVO         4216.0       F            4712.0   \n",
       "\n",
       "            nivel_educativo nivel_tarjeta operaciones_ult_12m  \\\n",
       "0  UNIVERSITARIO_INCOMPLETO          Blue               109.0   \n",
       "1    UNIVERSITARIO_COMPLETO          Blue                82.0   \n",
       "2  UNIVERSITARIO_INCOMPLETO          Blue                58.0   \n",
       "3  UNIVERSITARIO_INCOMPLETO          Blue                81.0   \n",
       "4       SECUNDARIO_COMPLETO          Blue                82.0   \n",
       "\n",
       "   personas_a_cargo  \n",
       "0               1.0  \n",
       "1               3.0  \n",
       "2               1.0  \n",
       "3               2.0  \n",
       "4               1.0  \n",
       "\n",
       "[5 rows x 21 columns]"
      ]
     },
     "execution_count": 40,
     "metadata": {},
     "output_type": "execute_result"
    }
   ],
   "source": [
    "datos_nuevos = pd.read_csv('../../data/final/datos_nuevos.csv', sep=';')\n",
    "datos_nuevos.head(5)"
   ]
  },
  {
   "cell_type": "markdown",
   "metadata": {},
   "source": [
    "**Importante**: recordar que si se implementan operaciones de transformación sobre los datos será necesario (posiblemente) replicarlas sobre los datos nuevos para que ambos datasets sean compatibles."
   ]
  },
  {
   "cell_type": "markdown",
   "metadata": {},
   "source": [
    "#### Se tienen que aplicar las adaptaciones realizadas sobre los datos de entrenamiento"
   ]
  },
  {
   "cell_type": "code",
   "execution_count": 41,
   "metadata": {},
   "outputs": [
    {
     "data": {
      "text/html": [
       "<div>\n",
       "<style scoped>\n",
       "    .dataframe tbody tr th:only-of-type {\n",
       "        vertical-align: middle;\n",
       "    }\n",
       "\n",
       "    .dataframe tbody tr th {\n",
       "        vertical-align: top;\n",
       "    }\n",
       "\n",
       "    .dataframe thead th {\n",
       "        text-align: right;\n",
       "    }\n",
       "</style>\n",
       "<table border=\"1\" class=\"dataframe\">\n",
       "  <thead>\n",
       "    <tr style=\"text-align: right;\">\n",
       "      <th></th>\n",
       "      <th>operaciones_ult_12m</th>\n",
       "      <th>gastos_ult_12m</th>\n",
       "      <th>limite_credito_tc</th>\n",
       "      <th>antiguedad_cliente</th>\n",
       "      <th>tasa_interes</th>\n",
       "      <th>ingresos</th>\n",
       "      <th>pct_ingreso</th>\n",
       "      <th>antiguedad_empleado</th>\n",
       "      <th>edad</th>\n",
       "      <th>estado_civil</th>\n",
       "      <th>estado_credito</th>\n",
       "      <th>importe_solicitado</th>\n",
       "      <th>duracion_credito</th>\n",
       "      <th>situacion_vivienda</th>\n",
       "      <th>objetivo_credito</th>\n",
       "      <th>estado_cliente</th>\n",
       "      <th>genero</th>\n",
       "      <th>personas_a_cargo</th>\n",
       "    </tr>\n",
       "  </thead>\n",
       "  <tbody>\n",
       "    <tr>\n",
       "      <th>0</th>\n",
       "      <td>&gt;74</td>\n",
       "      <td>&gt;10k</td>\n",
       "      <td>3k_to_5k</td>\n",
       "      <td>25y_to_50y</td>\n",
       "      <td>6p_to_12p</td>\n",
       "      <td>50k_to_100k</td>\n",
       "      <td>&lt;20</td>\n",
       "      <td>&lt;5</td>\n",
       "      <td>&lt;25</td>\n",
       "      <td>S</td>\n",
       "      <td>Cancelado</td>\n",
       "      <td>4000</td>\n",
       "      <td>4</td>\n",
       "      <td>HIPOTECA</td>\n",
       "      <td>PERSONAL</td>\n",
       "      <td>ACTIVO</td>\n",
       "      <td>F</td>\n",
       "      <td>1.0</td>\n",
       "    </tr>\n",
       "    <tr>\n",
       "      <th>1</th>\n",
       "      <td>&gt;74</td>\n",
       "      <td>1k_to_4k</td>\n",
       "      <td>&lt;3k</td>\n",
       "      <td>&lt;25y</td>\n",
       "      <td>6p_to_12p</td>\n",
       "      <td>&gt;100k</td>\n",
       "      <td>&lt;20</td>\n",
       "      <td>&lt;5</td>\n",
       "      <td>25_to_30</td>\n",
       "      <td>C</td>\n",
       "      <td>Cancelado</td>\n",
       "      <td>10000</td>\n",
       "      <td>2</td>\n",
       "      <td>ALQUILER</td>\n",
       "      <td>INVERSIONES</td>\n",
       "      <td>ACTIVO</td>\n",
       "      <td>M</td>\n",
       "      <td>3.0</td>\n",
       "    </tr>\n",
       "    <tr>\n",
       "      <th>2</th>\n",
       "      <td>50_to_75</td>\n",
       "      <td>1k_to_4k</td>\n",
       "      <td>3k_to_5k</td>\n",
       "      <td>25y_to_50y</td>\n",
       "      <td>12p_to_18p</td>\n",
       "      <td>20k_to_50k</td>\n",
       "      <td>&lt;20</td>\n",
       "      <td>&lt;5</td>\n",
       "      <td>&lt;25</td>\n",
       "      <td>C</td>\n",
       "      <td>Cancelado</td>\n",
       "      <td>1700</td>\n",
       "      <td>2</td>\n",
       "      <td>HIPOTECA</td>\n",
       "      <td>SALUD</td>\n",
       "      <td>ACTIVO</td>\n",
       "      <td>M</td>\n",
       "      <td>1.0</td>\n",
       "    </tr>\n",
       "    <tr>\n",
       "      <th>3</th>\n",
       "      <td>&gt;74</td>\n",
       "      <td>4k_to_6k</td>\n",
       "      <td>3k_to_5k</td>\n",
       "      <td>25y_to_50y</td>\n",
       "      <td>6p_to_12p</td>\n",
       "      <td>50k_to_100k</td>\n",
       "      <td>&lt;20</td>\n",
       "      <td>&lt;5</td>\n",
       "      <td>25_to_30</td>\n",
       "      <td>C</td>\n",
       "      <td>Cancelado</td>\n",
       "      <td>7200</td>\n",
       "      <td>4</td>\n",
       "      <td>ALQUILER</td>\n",
       "      <td>PAGO_DEUDAS</td>\n",
       "      <td>ACTIVO</td>\n",
       "      <td>F</td>\n",
       "      <td>2.0</td>\n",
       "    </tr>\n",
       "    <tr>\n",
       "      <th>4</th>\n",
       "      <td>&gt;74</td>\n",
       "      <td>4k_to_6k</td>\n",
       "      <td>3k_to_5k</td>\n",
       "      <td>25y_to_50y</td>\n",
       "      <td>6p_to_12p</td>\n",
       "      <td>50k_to_100k</td>\n",
       "      <td>&lt;20</td>\n",
       "      <td>5_to_10</td>\n",
       "      <td>25_to_30</td>\n",
       "      <td>C</td>\n",
       "      <td>Cancelado</td>\n",
       "      <td>5000</td>\n",
       "      <td>3</td>\n",
       "      <td>HIPOTECA</td>\n",
       "      <td>PAGO_DEUDAS</td>\n",
       "      <td>ACTIVO</td>\n",
       "      <td>F</td>\n",
       "      <td>1.0</td>\n",
       "    </tr>\n",
       "  </tbody>\n",
       "</table>\n",
       "</div>"
      ],
      "text/plain": [
       "  operaciones_ult_12m gastos_ult_12m limite_credito_tc antiguedad_cliente  \\\n",
       "0                 >74           >10k          3k_to_5k         25y_to_50y   \n",
       "1                 >74       1k_to_4k               <3k               <25y   \n",
       "2            50_to_75       1k_to_4k          3k_to_5k         25y_to_50y   \n",
       "3                 >74       4k_to_6k          3k_to_5k         25y_to_50y   \n",
       "4                 >74       4k_to_6k          3k_to_5k         25y_to_50y   \n",
       "\n",
       "  tasa_interes     ingresos pct_ingreso antiguedad_empleado      edad  \\\n",
       "0    6p_to_12p  50k_to_100k         <20                  <5       <25   \n",
       "1    6p_to_12p        >100k         <20                  <5  25_to_30   \n",
       "2   12p_to_18p   20k_to_50k         <20                  <5       <25   \n",
       "3    6p_to_12p  50k_to_100k         <20                  <5  25_to_30   \n",
       "4    6p_to_12p  50k_to_100k         <20             5_to_10  25_to_30   \n",
       "\n",
       "  estado_civil estado_credito  importe_solicitado  duracion_credito  \\\n",
       "0            S      Cancelado                4000                 4   \n",
       "1            C      Cancelado               10000                 2   \n",
       "2            C      Cancelado                1700                 2   \n",
       "3            C      Cancelado                7200                 4   \n",
       "4            C      Cancelado                5000                 3   \n",
       "\n",
       "  situacion_vivienda objetivo_credito estado_cliente genero  personas_a_cargo  \n",
       "0           HIPOTECA         PERSONAL         ACTIVO      F               1.0  \n",
       "1           ALQUILER      INVERSIONES         ACTIVO      M               3.0  \n",
       "2           HIPOTECA            SALUD         ACTIVO      M               1.0  \n",
       "3           ALQUILER      PAGO_DEUDAS         ACTIVO      F               2.0  \n",
       "4           HIPOTECA      PAGO_DEUDAS         ACTIVO      F               1.0  "
      ]
     },
     "execution_count": 41,
     "metadata": {},
     "output_type": "execute_result"
    }
   ],
   "source": [
    "# Columna: estado_civil\n",
    "cambios_estado_civil = {\n",
    "    'CASADO' : 'C',\n",
    "    'SOLTERO' : 'S',\n",
    "    'DESCONOCIDO' : 'N',\n",
    "    'DIVORCIADO' : 'D',\n",
    "}\n",
    "\n",
    "estado_civil_N = datos_nuevos.loc[:, ('estado_civil')].map(cambios_estado_civil).rename('estado_civil')\n",
    "\n",
    "# Columna: estado_credito\n",
    "cambios_estado_credito = {\n",
    "    0 : 'Cancelado',\n",
    "    1 : 'Activo',\n",
    "}\n",
    "\n",
    "estado_credito_N = datos_nuevos.loc[:, ('estado_credito')].map(cambios_estado_credito).rename('estado_credito')\n",
    "\n",
    "# Antiguedad del empleado\n",
    "etiquetas_a_e = ['<5', '5_to_10', '>10']\n",
    "rangos_a_e = [0, 4, 10, 50]\n",
    "valor_para_nan = 'NA'\n",
    "antiguedad_empleados_N = pd.cut(datos_nuevos['antiguedad_empleado'], \n",
    "                                bins=rangos_a_e, \n",
    "                                labels=etiquetas_a_e,\n",
    "                                right=False).cat.add_categories(valor_para_nan).fillna(valor_para_nan)\n",
    "\n",
    "# edad\n",
    "etiquetas_e = ['<25', '25_to_30']\n",
    "rangos_e = [0, 24, 50]\n",
    "edad_N = pd.cut(datos_nuevos['edad'], \n",
    "                                bins=rangos_e, \n",
    "                                labels=etiquetas_e)\n",
    "\n",
    "# pct_ingreso\n",
    "etiquetas_p_i = ['<20', '20_to_40', '40_to_60', '>60']\n",
    "rangos_p_i = [0, 0.19, 0.39, 0.60, 0.99]\n",
    "pct_ingreso_N = pd.cut(datos_nuevos['pct_ingreso'], \n",
    "                                bins=rangos_p_i, \n",
    "                                labels=etiquetas_p_i)\n",
    "\n",
    "# ingresos\n",
    "etiquetas_i = ['<20k', '20k_to_50k', '50k_to_100k', '>100k']\n",
    "rangos_i = [0, 19999, 49999, 99999, 999999]\n",
    "ingresos_N = pd.cut(datos_nuevos['ingresos'], \n",
    "                                bins=rangos_i, \n",
    "                                labels=etiquetas_i)\n",
    "\n",
    "# tasa_interes\n",
    "etiquetas_t_i = ['<6p', '6p_to_12p', '12p_to_18p', '>18p']\n",
    "rangos_t_i = [0, 5.99, 11.99, 17.99, 100]\n",
    "tasa_interes_N = pd.cut(datos_nuevos['tasa_interes'], \n",
    "                                bins=rangos_t_i, \n",
    "                                labels=etiquetas_t_i)\n",
    "\n",
    "# antiguedad_cliente\n",
    "etiquetas_a_c = ['<25y', '25y_to_50y', '>50y']\n",
    "rangos_a_c = [0, 24, 49, 100]\n",
    "antiguedad_cliente_N = pd.cut(datos_nuevos['antiguedad_cliente'], \n",
    "                                bins=rangos_a_c, \n",
    "                                labels=etiquetas_a_c)\n",
    "\n",
    "# limite_credito_tc\n",
    "etiquetas_l_tc = ['<3k', '3k_to_5k', '5k_to_10k', '>10k']\n",
    "rangos_l_tc = [0, 2999, 4999, 9999, 100000]\n",
    "limite_credito_tc_N = pd.cut(datos_nuevos['limite_credito_tc'], \n",
    "                                bins=rangos_l_tc, \n",
    "                                labels=etiquetas_l_tc)\n",
    "\n",
    "# gastos_ult_12m\n",
    "etiquetas_g_u12 = ['<1k', '1k_to_4k', '4k_to_6k', '6k_to_8k', '8k_to_10k', '>10k']\n",
    "rangos_g_u12 = [0, 999, 3999, 5999, 7999, 9999, 100000]\n",
    "gastos_ult_12m_N = pd.cut(datos_nuevos['gastos_ult_12m'], \n",
    "                                bins=rangos_g_u12, \n",
    "                                labels=etiquetas_g_u12)\n",
    "\n",
    "# operaciones_ult_12m\n",
    "etiquetas_o_u12 = ['<15', '15_to_30', '30_to_50', '50_to_75', '>74']\n",
    "rangos_o_u12 = [0, 14, 29, 49, 74, 1000]\n",
    "operaciones_ult_12m_N = pd.cut(datos_nuevos['operaciones_ult_12m'], \n",
    "                                bins=rangos_o_u12, \n",
    "                                labels=etiquetas_o_u12)\n",
    "\n",
    "col_eliminar_final = [\n",
    "              'edad',\n",
    "              'estado_civil', \n",
    "              'estado_credito',\n",
    "              'antiguedad_empleado',\n",
    "              'antiguedad_cliente', \n",
    "              'ingresos',\n",
    "              'pct_ingreso',\n",
    "              'tasa_interes',\n",
    "              'gastos_ult_12m', \n",
    "              'limite_credito_tc', \n",
    "              'operaciones_ult_12m',\n",
    "              'id_cliente',\n",
    "              'nivel_tarjeta',\n",
    "              'nivel_educativo']\n",
    "\n",
    "datos_nuevos.drop(col_eliminar_final, inplace=True, axis=1)\n",
    "\n",
    "\n",
    "df_nuevo = pd.concat([operaciones_ult_12m_N, gastos_ult_12m_N, limite_credito_tc_N, antiguedad_cliente_N, tasa_interes_N, ingresos_N, pct_ingreso_N, antiguedad_empleados_N, edad_N, estado_civil_N, estado_credito_N, datos_nuevos], axis=1)\n",
    "df_nuevo.head(5)"
   ]
  },
  {
   "cell_type": "code",
   "execution_count": 42,
   "metadata": {},
   "outputs": [
    {
     "name": "stdout",
     "output_type": "stream",
     "text": [
      "<class 'pandas.core.frame.DataFrame'>\n",
      "RangeIndex: 112 entries, 0 to 111\n",
      "Data columns (total 58 columns):\n",
      " #   Column                          Non-Null Count  Dtype  \n",
      "---  ------                          --------------  -----  \n",
      " 0   importe_solicitado              112 non-null    int64  \n",
      " 1   duracion_credito                112 non-null    int64  \n",
      " 2   personas_a_cargo                112 non-null    float64\n",
      " 3   operaciones_ult_12m_<15         112 non-null    bool   \n",
      " 4   operaciones_ult_12m_15_to_30    112 non-null    bool   \n",
      " 5   operaciones_ult_12m_30_to_50    112 non-null    bool   \n",
      " 6   operaciones_ult_12m_50_to_75    112 non-null    bool   \n",
      " 7   operaciones_ult_12m_>74         112 non-null    bool   \n",
      " 8   gastos_ult_12m_<1k              112 non-null    bool   \n",
      " 9   gastos_ult_12m_1k_to_4k         112 non-null    bool   \n",
      " 10  gastos_ult_12m_4k_to_6k         112 non-null    bool   \n",
      " 11  gastos_ult_12m_6k_to_8k         112 non-null    bool   \n",
      " 12  gastos_ult_12m_8k_to_10k        112 non-null    bool   \n",
      " 13  gastos_ult_12m_>10k             112 non-null    bool   \n",
      " 14  limite_credito_tc_<3k           112 non-null    bool   \n",
      " 15  limite_credito_tc_3k_to_5k      112 non-null    bool   \n",
      " 16  limite_credito_tc_5k_to_10k     112 non-null    bool   \n",
      " 17  limite_credito_tc_>10k          112 non-null    bool   \n",
      " 18  antiguedad_cliente_<25y         112 non-null    bool   \n",
      " 19  antiguedad_cliente_25y_to_50y   112 non-null    bool   \n",
      " 20  antiguedad_cliente_>50y         112 non-null    bool   \n",
      " 21  tasa_interes_<6p                112 non-null    bool   \n",
      " 22  tasa_interes_6p_to_12p          112 non-null    bool   \n",
      " 23  tasa_interes_12p_to_18p         112 non-null    bool   \n",
      " 24  tasa_interes_>18p               112 non-null    bool   \n",
      " 25  ingresos_<20k                   112 non-null    bool   \n",
      " 26  ingresos_20k_to_50k             112 non-null    bool   \n",
      " 27  ingresos_50k_to_100k            112 non-null    bool   \n",
      " 28  ingresos_>100k                  112 non-null    bool   \n",
      " 29  pct_ingreso_<20                 112 non-null    bool   \n",
      " 30  pct_ingreso_20_to_40            112 non-null    bool   \n",
      " 31  pct_ingreso_40_to_60            112 non-null    bool   \n",
      " 32  pct_ingreso_>60                 112 non-null    bool   \n",
      " 33  antiguedad_empleado_<5          112 non-null    bool   \n",
      " 34  antiguedad_empleado_5_to_10     112 non-null    bool   \n",
      " 35  antiguedad_empleado_>10         112 non-null    bool   \n",
      " 36  antiguedad_empleado_NA          112 non-null    bool   \n",
      " 37  edad_<25                        112 non-null    bool   \n",
      " 38  edad_25_to_30                   112 non-null    bool   \n",
      " 39  estado_civil_C                  112 non-null    bool   \n",
      " 40  estado_civil_D                  112 non-null    bool   \n",
      " 41  estado_civil_N                  112 non-null    bool   \n",
      " 42  estado_civil_S                  112 non-null    bool   \n",
      " 43  estado_credito_Activo           112 non-null    bool   \n",
      " 44  estado_credito_Cancelado        112 non-null    bool   \n",
      " 45  situacion_vivienda_ALQUILER     112 non-null    bool   \n",
      " 46  situacion_vivienda_HIPOTECA     112 non-null    bool   \n",
      " 47  situacion_vivienda_PROPIA       112 non-null    bool   \n",
      " 48  objetivo_credito_EDUCACIÓN      112 non-null    bool   \n",
      " 49  objetivo_credito_INVERSIONES    112 non-null    bool   \n",
      " 50  objetivo_credito_MEJORAS_HOGAR  112 non-null    bool   \n",
      " 51  objetivo_credito_PAGO_DEUDAS    112 non-null    bool   \n",
      " 52  objetivo_credito_PERSONAL       112 non-null    bool   \n",
      " 53  objetivo_credito_SALUD          112 non-null    bool   \n",
      " 54  estado_cliente_ACTIVO           112 non-null    bool   \n",
      " 55  estado_cliente_PASIVO           112 non-null    bool   \n",
      " 56  genero_F                        112 non-null    bool   \n",
      " 57  genero_M                        112 non-null    bool   \n",
      "dtypes: bool(55), float64(1), int64(2)\n",
      "memory usage: 8.8 KB\n"
     ]
    }
   ],
   "source": [
    "nuevos_codif = pd.get_dummies(df_nuevo)\n",
    "nuevos_codif.info()"
   ]
  },
  {
   "cell_type": "code",
   "execution_count": 43,
   "metadata": {},
   "outputs": [
    {
     "data": {
      "text/plain": [
       "{'estado_civil_N_C',\n",
       " 'estado_civil_N_D',\n",
       " 'estado_civil_N_N',\n",
       " 'estado_civil_N_S',\n",
       " 'estado_credito_N_Activo',\n",
       " 'estado_credito_N_Cancelado',\n",
       " 'situacion_vivienda_OTROS'}"
      ]
     },
     "metadata": {},
     "output_type": "display_data"
    },
    {
     "name": "stdout",
     "output_type": "stream",
     "text": [
      "Datos nuevos: 65\n",
      "Datos entrenamiento: 58\n",
      "set()\n"
     ]
    }
   ],
   "source": [
    "# Dado que puede haber diferencias con el set de entrenamiento se emparejan\n",
    "\n",
    "columnas_faltantes = set(data.columns) - set(nuevos_codif.columns)\n",
    "display(columnas_faltantes)\n",
    "for columna in columnas_faltantes:\n",
    "    nuevos_codif[columna] = 0 # Se agregan las columnas faltantes con valor 0\n",
    "\n",
    "print('Datos nuevos: ' + str(len(nuevos_codif.columns)))\n",
    "print('Datos entrenamiento: ' + str(len(data.columns)))\n",
    "print(set(data.columns) - set(nuevos_codif.columns))"
   ]
  },
  {
   "cell_type": "code",
   "execution_count": 44,
   "metadata": {},
   "outputs": [
    {
     "data": {
      "text/plain": [
       "Index(['importe_solicitado', 'duracion_credito', 'personas_a_cargo',\n",
       "       'operaciones_ult_12m_15_to_30', 'operaciones_ult_12m_30_to_50',\n",
       "       'operaciones_ult_12m_50_to_75', 'operaciones_ult_12m_<15',\n",
       "       'operaciones_ult_12m_>74', 'gastos_ult_12m_1k_to_4k',\n",
       "       'gastos_ult_12m_4k_to_6k', 'gastos_ult_12m_6k_to_8k',\n",
       "       'gastos_ult_12m_8k_to_10k', 'gastos_ult_12m_<1k', 'gastos_ult_12m_>10k',\n",
       "       'limite_credito_tc_3k_to_5k', 'limite_credito_tc_5k_to_10k',\n",
       "       'limite_credito_tc_<3k', 'limite_credito_tc_>10k',\n",
       "       'antiguedad_cliente_25y_to_50y', 'antiguedad_cliente_<25y',\n",
       "       'antiguedad_cliente_>50y', 'tasa_interes_12p_to_18p',\n",
       "       'tasa_interes_6p_to_12p', 'tasa_interes_<6p', 'tasa_interes_>18p',\n",
       "       'ingresos_20k_to_50k', 'ingresos_50k_to_100k', 'ingresos_<20k',\n",
       "       'ingresos_>100k', 'pct_ingreso_20_to_40', 'pct_ingreso_40_to_60',\n",
       "       'pct_ingreso_<20', 'pct_ingreso_>60', 'antiguedad_empleado_5_to_10',\n",
       "       'antiguedad_empleado_<5', 'antiguedad_empleado_>10', 'edad_25_to_30',\n",
       "       'edad_<25', 'situacion_vivienda_ALQUILER',\n",
       "       'situacion_vivienda_HIPOTECA', 'situacion_vivienda_OTROS',\n",
       "       'situacion_vivienda_PROPIA', 'objetivo_credito_EDUCACIÓN',\n",
       "       'objetivo_credito_INVERSIONES', 'objetivo_credito_MEJORAS_HOGAR',\n",
       "       'objetivo_credito_PAGO_DEUDAS', 'objetivo_credito_PERSONAL',\n",
       "       'objetivo_credito_SALUD', 'estado_credito_N_Activo',\n",
       "       'estado_credito_N_Cancelado', 'estado_civil_N_C', 'estado_civil_N_D',\n",
       "       'estado_civil_N_N', 'estado_civil_N_S', 'estado_cliente_ACTIVO',\n",
       "       'estado_cliente_PASIVO', 'genero_F', 'genero_M'],\n",
       "      dtype='object')"
      ]
     },
     "execution_count": 44,
     "metadata": {},
     "output_type": "execute_result"
    }
   ],
   "source": [
    "nuevos_codif = nuevos_codif[data.columns]\n",
    "nuevos_codif.columns"
   ]
  },
  {
   "cell_type": "code",
   "execution_count": 45,
   "metadata": {},
   "outputs": [
    {
     "name": "stderr",
     "output_type": "stream",
     "text": [
      "2023/12/09 15:45:49 WARNING mlflow.utils.autologging_utils: MLflow autologging encountered a warning: \"c:\\Users\\User\\anaconda3\\envs\\VIU-13MBID\\Lib\\site-packages\\mlflow\\data\\pandas_dataset.py:116: UserWarning: Hint: Inferred schema contains integer column(s). Integer columns in Python cannot represent missing values. If your input data contains missing values at inference time, it will be encoded as floats and will cause a schema enforcement error. The best way to avoid this problem is to infer the model schema based on a realistic data sample (training dataset) that includes missing values. Alternatively, you can declare integer columns as doubles (float64) whenever these columns may have missing values. See `Handling Integers With Missing Values <https://www.mlflow.org/docs/latest/models.html#handling-integers-with-missing-values>`_ for more details.\"\n"
     ]
    }
   ],
   "source": [
    "# Se hace la predicción con los nuevos datos\n",
    "\n",
    "prediccion_nuevos = rndf.predict(nuevos_codif)\n",
    "\n",
    "prediccionDF = pd.DataFrame(prediccion_nuevos)"
   ]
  },
  {
   "cell_type": "code",
   "execution_count": 46,
   "metadata": {},
   "outputs": [
    {
     "data": {
      "text/plain": [
       "prediccion_mora\n",
       "N    88\n",
       "Y    24\n",
       "Name: count, dtype: int64"
      ]
     },
     "execution_count": 46,
     "metadata": {},
     "output_type": "execute_result"
    }
   ],
   "source": [
    "# Se agrega la nueva columna\n",
    "datos_nuevos['prediccion_mora'] = prediccionDF\n",
    "datos_nuevos['prediccion_mora'].value_counts()"
   ]
  }
 ],
 "metadata": {
  "kernelspec": {
   "display_name": "Python 3 (ipykernel)",
   "language": "python",
   "name": "python3"
  },
  "language_info": {
   "codemirror_mode": {
    "name": "ipython",
    "version": 3
   },
   "file_extension": ".py",
   "mimetype": "text/x-python",
   "name": "python",
   "nbconvert_exporter": "python",
   "pygments_lexer": "ipython3",
   "version": "3.11.5"
  }
 },
 "nbformat": 4,
 "nbformat_minor": 2
}
