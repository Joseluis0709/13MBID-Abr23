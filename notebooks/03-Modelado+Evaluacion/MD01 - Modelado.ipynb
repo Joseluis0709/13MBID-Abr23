{
 "cells": [
  {
   "cell_type": "markdown",
   "metadata": {},
   "source": [
    "## Máster en Big Data y Data Science\n",
    "\n",
    "### Metodologías de gestión y diseño de proyectos de big data\n",
    "\n",
    "#### AP2 - Modelado\n",
    "\n",
    "---\n",
    "\n",
    "En esta libreta se comienzan a ejecutar las actividades correspondientes a la fase de modelado. \n",
    "\n",
    "---"
   ]
  },
  {
   "cell_type": "markdown",
   "metadata": {},
   "source": [
    "### Carga de librerias a utilizar"
   ]
  },
  {
   "cell_type": "code",
   "execution_count": 1,
   "metadata": {},
   "outputs": [],
   "source": [
    "# Se importan las librerias a utilizar\n",
    "import pandas as pd\n",
    "import numpy as np\n",
    "\n",
    "# Para registro de toda la experimentación\n",
    "import mlflow\n",
    "\n",
    "# Para la generación de los sets de train - test\n",
    "from sklearn.model_selection import train_test_split\n",
    "\n",
    "#Importaciones varias para la evaluación\n",
    "from sklearn.metrics import confusion_matrix,accuracy_score,classification_report\n",
    "from sklearn.metrics import confusion_matrix, ConfusionMatrixDisplay\n",
    "import matplotlib.pyplot as plt\n",
    "\n",
    "#importe para modelos\n",
    "from sklearn.linear_model import LogisticRegression\n",
    "from sklearn.neighbors import KNeighborsClassifier\n",
    "from sklearn.tree import DecisionTreeClassifier\n",
    "from sklearn.ensemble import RandomForestClassifier\n",
    "\n"
   ]
  },
  {
   "cell_type": "markdown",
   "metadata": {},
   "source": [
    "### Lectura del dataset generado previamente"
   ]
  },
  {
   "cell_type": "code",
   "execution_count": 2,
   "metadata": {},
   "outputs": [
    {
     "data": {
      "text/html": [
       "<div>\n",
       "<style scoped>\n",
       "    .dataframe tbody tr th:only-of-type {\n",
       "        vertical-align: middle;\n",
       "    }\n",
       "\n",
       "    .dataframe tbody tr th {\n",
       "        vertical-align: top;\n",
       "    }\n",
       "\n",
       "    .dataframe thead th {\n",
       "        text-align: right;\n",
       "    }\n",
       "</style>\n",
       "<table border=\"1\" class=\"dataframe\">\n",
       "  <thead>\n",
       "    <tr style=\"text-align: right;\">\n",
       "      <th></th>\n",
       "      <th>operaciones_ult_12m</th>\n",
       "      <th>gastos_ult_12m</th>\n",
       "      <th>limite_credito_tc</th>\n",
       "      <th>antiguedad_cliente</th>\n",
       "      <th>tasa_interes</th>\n",
       "      <th>ingresos</th>\n",
       "      <th>pct_ingreso</th>\n",
       "      <th>antiguedad_empleado</th>\n",
       "      <th>edad</th>\n",
       "      <th>estado_credito_N</th>\n",
       "      <th>estado_civil_N</th>\n",
       "      <th>importe_solicitado</th>\n",
       "      <th>duracion_credito</th>\n",
       "      <th>situacion_vivienda</th>\n",
       "      <th>objetivo_credito</th>\n",
       "      <th>falta_pago</th>\n",
       "      <th>estado_cliente</th>\n",
       "      <th>genero</th>\n",
       "      <th>personas_a_cargo</th>\n",
       "    </tr>\n",
       "  </thead>\n",
       "  <tbody>\n",
       "    <tr>\n",
       "      <th>0</th>\n",
       "      <td>&gt;74</td>\n",
       "      <td>&gt;10k</td>\n",
       "      <td>3k_to_5k</td>\n",
       "      <td>25y_to_50y</td>\n",
       "      <td>&lt;6p</td>\n",
       "      <td>50k_to_100k</td>\n",
       "      <td>&lt;20</td>\n",
       "      <td>5_to_10</td>\n",
       "      <td>&lt;25</td>\n",
       "      <td>Cancelado</td>\n",
       "      <td>C</td>\n",
       "      <td>11000</td>\n",
       "      <td>3</td>\n",
       "      <td>HIPOTECA</td>\n",
       "      <td>INVERSIONES</td>\n",
       "      <td>N</td>\n",
       "      <td>ACTIVO</td>\n",
       "      <td>F</td>\n",
       "      <td>3</td>\n",
       "    </tr>\n",
       "    <tr>\n",
       "      <th>1</th>\n",
       "      <td>15_to_30</td>\n",
       "      <td>&lt;1k</td>\n",
       "      <td>3k_to_5k</td>\n",
       "      <td>25y_to_50y</td>\n",
       "      <td>12p_to_18p</td>\n",
       "      <td>20k_to_50k</td>\n",
       "      <td>&lt;20</td>\n",
       "      <td>&lt;5</td>\n",
       "      <td>&lt;25</td>\n",
       "      <td>Activo</td>\n",
       "      <td>S</td>\n",
       "      <td>1500</td>\n",
       "      <td>2</td>\n",
       "      <td>ALQUILER</td>\n",
       "      <td>MEJORAS_HOGAR</td>\n",
       "      <td>Y</td>\n",
       "      <td>PASIVO</td>\n",
       "      <td>M</td>\n",
       "      <td>0</td>\n",
       "    </tr>\n",
       "    <tr>\n",
       "      <th>2</th>\n",
       "      <td>15_to_30</td>\n",
       "      <td>1k_to_4k</td>\n",
       "      <td>5k_to_10k</td>\n",
       "      <td>25y_to_50y</td>\n",
       "      <td>12p_to_18p</td>\n",
       "      <td>20k_to_50k</td>\n",
       "      <td>20_to_40</td>\n",
       "      <td>5_to_10</td>\n",
       "      <td>&lt;25</td>\n",
       "      <td>Cancelado</td>\n",
       "      <td>D</td>\n",
       "      <td>10000</td>\n",
       "      <td>2</td>\n",
       "      <td>OTROS</td>\n",
       "      <td>EDUCACIÓN</td>\n",
       "      <td>Y</td>\n",
       "      <td>PASIVO</td>\n",
       "      <td>M</td>\n",
       "      <td>3</td>\n",
       "    </tr>\n",
       "    <tr>\n",
       "      <th>3</th>\n",
       "      <td>&gt;74</td>\n",
       "      <td>1k_to_4k</td>\n",
       "      <td>&lt;3k</td>\n",
       "      <td>&lt;25y</td>\n",
       "      <td>6p_to_12p</td>\n",
       "      <td>20k_to_50k</td>\n",
       "      <td>20_to_40</td>\n",
       "      <td>&lt;5</td>\n",
       "      <td>25_to_30</td>\n",
       "      <td>Cancelado</td>\n",
       "      <td>S</td>\n",
       "      <td>6000</td>\n",
       "      <td>4</td>\n",
       "      <td>ALQUILER</td>\n",
       "      <td>INVERSIONES</td>\n",
       "      <td>N</td>\n",
       "      <td>ACTIVO</td>\n",
       "      <td>F</td>\n",
       "      <td>2</td>\n",
       "    </tr>\n",
       "    <tr>\n",
       "      <th>4</th>\n",
       "      <td>50_to_75</td>\n",
       "      <td>4k_to_6k</td>\n",
       "      <td>3k_to_5k</td>\n",
       "      <td>25y_to_50y</td>\n",
       "      <td>6p_to_12p</td>\n",
       "      <td>50k_to_100k</td>\n",
       "      <td>20_to_40</td>\n",
       "      <td>&lt;5</td>\n",
       "      <td>25_to_30</td>\n",
       "      <td>Cancelado</td>\n",
       "      <td>C</td>\n",
       "      <td>10000</td>\n",
       "      <td>2</td>\n",
       "      <td>HIPOTECA</td>\n",
       "      <td>EDUCACIÓN</td>\n",
       "      <td>N</td>\n",
       "      <td>ACTIVO</td>\n",
       "      <td>F</td>\n",
       "      <td>2</td>\n",
       "    </tr>\n",
       "  </tbody>\n",
       "</table>\n",
       "</div>"
      ],
      "text/plain": [
       "  operaciones_ult_12m gastos_ult_12m limite_credito_tc antiguedad_cliente  \\\n",
       "0                 >74           >10k          3k_to_5k         25y_to_50y   \n",
       "1            15_to_30            <1k          3k_to_5k         25y_to_50y   \n",
       "2            15_to_30       1k_to_4k         5k_to_10k         25y_to_50y   \n",
       "3                 >74       1k_to_4k               <3k               <25y   \n",
       "4            50_to_75       4k_to_6k          3k_to_5k         25y_to_50y   \n",
       "\n",
       "  tasa_interes     ingresos pct_ingreso antiguedad_empleado      edad  \\\n",
       "0          <6p  50k_to_100k         <20             5_to_10       <25   \n",
       "1   12p_to_18p   20k_to_50k         <20                  <5       <25   \n",
       "2   12p_to_18p   20k_to_50k    20_to_40             5_to_10       <25   \n",
       "3    6p_to_12p   20k_to_50k    20_to_40                  <5  25_to_30   \n",
       "4    6p_to_12p  50k_to_100k    20_to_40                  <5  25_to_30   \n",
       "\n",
       "  estado_credito_N estado_civil_N  importe_solicitado  duracion_credito  \\\n",
       "0        Cancelado              C               11000                 3   \n",
       "1           Activo              S                1500                 2   \n",
       "2        Cancelado              D               10000                 2   \n",
       "3        Cancelado              S                6000                 4   \n",
       "4        Cancelado              C               10000                 2   \n",
       "\n",
       "  situacion_vivienda objetivo_credito falta_pago estado_cliente genero  \\\n",
       "0           HIPOTECA      INVERSIONES          N         ACTIVO      F   \n",
       "1           ALQUILER    MEJORAS_HOGAR          Y         PASIVO      M   \n",
       "2              OTROS        EDUCACIÓN          Y         PASIVO      M   \n",
       "3           ALQUILER      INVERSIONES          N         ACTIVO      F   \n",
       "4           HIPOTECA        EDUCACIÓN          N         ACTIVO      F   \n",
       "\n",
       "   personas_a_cargo  \n",
       "0                 3  \n",
       "1                 0  \n",
       "2                 3  \n",
       "3                 2  \n",
       "4                 2  "
      ]
     },
     "execution_count": 2,
     "metadata": {},
     "output_type": "execute_result"
    }
   ],
   "source": [
    "# Se hace la lectura del dataset del seminario y se obtiene su cabecera\n",
    "datos = pd.read_csv('../../data/final/datos_finales.csv', sep=';')\n",
    "datos.head()"
   ]
  },
  {
   "cell_type": "markdown",
   "metadata": {},
   "source": [
    "### Revisión de meta-datos"
   ]
  },
  {
   "cell_type": "code",
   "execution_count": 3,
   "metadata": {},
   "outputs": [
    {
     "name": "stdout",
     "output_type": "stream",
     "text": [
      "Descripción del dataset 'datos_completos'\n",
      "Columnas del dataset:\n",
      "\n",
      "operaciones_ult_12m\n",
      "gastos_ult_12m\n",
      "limite_credito_tc\n",
      "antiguedad_cliente\n",
      "tasa_interes\n",
      "ingresos\n",
      "pct_ingreso\n",
      "antiguedad_empleado\n",
      "edad\n",
      "estado_credito_N\n",
      "estado_civil_N\n",
      "importe_solicitado\n",
      "duracion_credito\n",
      "situacion_vivienda\n",
      "objetivo_credito\n",
      "falta_pago\n",
      "estado_cliente\n",
      "genero\n",
      "personas_a_cargo\n",
      "\n",
      "Cantidad de filas: 10103\n"
     ]
    }
   ],
   "source": [
    "def reporte_descripcion_dataset(df):\n",
    "    columnas = df.columns\n",
    "    print(\"Columnas del dataset:\\n\")\n",
    "    for col in columnas:\n",
    "        print(col)\n",
    "    print(f\"\\nCantidad de filas: {df.shape[0]}\")\n",
    "\n",
    "print(\"Descripción del dataset 'datos_completos'\")\n",
    "reporte_descripcion_dataset(datos)"
   ]
  },
  {
   "cell_type": "markdown",
   "metadata": {},
   "source": [
    "### Armado de los sets de entrenamiento y testeo"
   ]
  },
  {
   "cell_type": "code",
   "execution_count": 4,
   "metadata": {},
   "outputs": [
    {
     "name": "stdout",
     "output_type": "stream",
     "text": [
      "Vista de los datos del atributo target: \n",
      "['N' 'Y' 'Y' 'N' 'N' 'N' 'N' 'N' 'N' 'N']\n",
      "--------------------------------------------------\n",
      "Vista parcial de los datos sin el atributo target:\n"
     ]
    },
    {
     "data": {
      "text/html": [
       "<div>\n",
       "<style scoped>\n",
       "    .dataframe tbody tr th:only-of-type {\n",
       "        vertical-align: middle;\n",
       "    }\n",
       "\n",
       "    .dataframe tbody tr th {\n",
       "        vertical-align: top;\n",
       "    }\n",
       "\n",
       "    .dataframe thead th {\n",
       "        text-align: right;\n",
       "    }\n",
       "</style>\n",
       "<table border=\"1\" class=\"dataframe\">\n",
       "  <thead>\n",
       "    <tr style=\"text-align: right;\">\n",
       "      <th></th>\n",
       "      <th>operaciones_ult_12m</th>\n",
       "      <th>gastos_ult_12m</th>\n",
       "      <th>limite_credito_tc</th>\n",
       "      <th>antiguedad_cliente</th>\n",
       "      <th>tasa_interes</th>\n",
       "      <th>ingresos</th>\n",
       "      <th>pct_ingreso</th>\n",
       "      <th>antiguedad_empleado</th>\n",
       "      <th>edad</th>\n",
       "      <th>importe_solicitado</th>\n",
       "      <th>duracion_credito</th>\n",
       "      <th>situacion_vivienda</th>\n",
       "      <th>objetivo_credito</th>\n",
       "      <th>estado_credito_N</th>\n",
       "      <th>estado_civil_N</th>\n",
       "      <th>estado_cliente</th>\n",
       "      <th>genero</th>\n",
       "      <th>personas_a_cargo</th>\n",
       "    </tr>\n",
       "  </thead>\n",
       "  <tbody>\n",
       "    <tr>\n",
       "      <th>0</th>\n",
       "      <td>&gt;74</td>\n",
       "      <td>&gt;10k</td>\n",
       "      <td>3k_to_5k</td>\n",
       "      <td>25y_to_50y</td>\n",
       "      <td>&lt;6p</td>\n",
       "      <td>50k_to_100k</td>\n",
       "      <td>&lt;20</td>\n",
       "      <td>5_to_10</td>\n",
       "      <td>&lt;25</td>\n",
       "      <td>11000</td>\n",
       "      <td>3</td>\n",
       "      <td>HIPOTECA</td>\n",
       "      <td>INVERSIONES</td>\n",
       "      <td>Cancelado</td>\n",
       "      <td>C</td>\n",
       "      <td>ACTIVO</td>\n",
       "      <td>F</td>\n",
       "      <td>3</td>\n",
       "    </tr>\n",
       "    <tr>\n",
       "      <th>1</th>\n",
       "      <td>15_to_30</td>\n",
       "      <td>&lt;1k</td>\n",
       "      <td>3k_to_5k</td>\n",
       "      <td>25y_to_50y</td>\n",
       "      <td>12p_to_18p</td>\n",
       "      <td>20k_to_50k</td>\n",
       "      <td>&lt;20</td>\n",
       "      <td>&lt;5</td>\n",
       "      <td>&lt;25</td>\n",
       "      <td>1500</td>\n",
       "      <td>2</td>\n",
       "      <td>ALQUILER</td>\n",
       "      <td>MEJORAS_HOGAR</td>\n",
       "      <td>Activo</td>\n",
       "      <td>S</td>\n",
       "      <td>PASIVO</td>\n",
       "      <td>M</td>\n",
       "      <td>0</td>\n",
       "    </tr>\n",
       "    <tr>\n",
       "      <th>2</th>\n",
       "      <td>15_to_30</td>\n",
       "      <td>1k_to_4k</td>\n",
       "      <td>5k_to_10k</td>\n",
       "      <td>25y_to_50y</td>\n",
       "      <td>12p_to_18p</td>\n",
       "      <td>20k_to_50k</td>\n",
       "      <td>20_to_40</td>\n",
       "      <td>5_to_10</td>\n",
       "      <td>&lt;25</td>\n",
       "      <td>10000</td>\n",
       "      <td>2</td>\n",
       "      <td>OTROS</td>\n",
       "      <td>EDUCACIÓN</td>\n",
       "      <td>Cancelado</td>\n",
       "      <td>D</td>\n",
       "      <td>PASIVO</td>\n",
       "      <td>M</td>\n",
       "      <td>3</td>\n",
       "    </tr>\n",
       "    <tr>\n",
       "      <th>3</th>\n",
       "      <td>&gt;74</td>\n",
       "      <td>1k_to_4k</td>\n",
       "      <td>&lt;3k</td>\n",
       "      <td>&lt;25y</td>\n",
       "      <td>6p_to_12p</td>\n",
       "      <td>20k_to_50k</td>\n",
       "      <td>20_to_40</td>\n",
       "      <td>&lt;5</td>\n",
       "      <td>25_to_30</td>\n",
       "      <td>6000</td>\n",
       "      <td>4</td>\n",
       "      <td>ALQUILER</td>\n",
       "      <td>INVERSIONES</td>\n",
       "      <td>Cancelado</td>\n",
       "      <td>S</td>\n",
       "      <td>ACTIVO</td>\n",
       "      <td>F</td>\n",
       "      <td>2</td>\n",
       "    </tr>\n",
       "    <tr>\n",
       "      <th>4</th>\n",
       "      <td>50_to_75</td>\n",
       "      <td>4k_to_6k</td>\n",
       "      <td>3k_to_5k</td>\n",
       "      <td>25y_to_50y</td>\n",
       "      <td>6p_to_12p</td>\n",
       "      <td>50k_to_100k</td>\n",
       "      <td>20_to_40</td>\n",
       "      <td>&lt;5</td>\n",
       "      <td>25_to_30</td>\n",
       "      <td>10000</td>\n",
       "      <td>2</td>\n",
       "      <td>HIPOTECA</td>\n",
       "      <td>EDUCACIÓN</td>\n",
       "      <td>Cancelado</td>\n",
       "      <td>C</td>\n",
       "      <td>ACTIVO</td>\n",
       "      <td>F</td>\n",
       "      <td>2</td>\n",
       "    </tr>\n",
       "  </tbody>\n",
       "</table>\n",
       "</div>"
      ],
      "text/plain": [
       "  operaciones_ult_12m gastos_ult_12m limite_credito_tc antiguedad_cliente  \\\n",
       "0                 >74           >10k          3k_to_5k         25y_to_50y   \n",
       "1            15_to_30            <1k          3k_to_5k         25y_to_50y   \n",
       "2            15_to_30       1k_to_4k         5k_to_10k         25y_to_50y   \n",
       "3                 >74       1k_to_4k               <3k               <25y   \n",
       "4            50_to_75       4k_to_6k          3k_to_5k         25y_to_50y   \n",
       "\n",
       "  tasa_interes     ingresos pct_ingreso antiguedad_empleado      edad  \\\n",
       "0          <6p  50k_to_100k         <20             5_to_10       <25   \n",
       "1   12p_to_18p   20k_to_50k         <20                  <5       <25   \n",
       "2   12p_to_18p   20k_to_50k    20_to_40             5_to_10       <25   \n",
       "3    6p_to_12p   20k_to_50k    20_to_40                  <5  25_to_30   \n",
       "4    6p_to_12p  50k_to_100k    20_to_40                  <5  25_to_30   \n",
       "\n",
       "   importe_solicitado  duracion_credito situacion_vivienda objetivo_credito  \\\n",
       "0               11000                 3           HIPOTECA      INVERSIONES   \n",
       "1                1500                 2           ALQUILER    MEJORAS_HOGAR   \n",
       "2               10000                 2              OTROS        EDUCACIÓN   \n",
       "3                6000                 4           ALQUILER      INVERSIONES   \n",
       "4               10000                 2           HIPOTECA        EDUCACIÓN   \n",
       "\n",
       "  estado_credito_N estado_civil_N estado_cliente genero  personas_a_cargo  \n",
       "0        Cancelado              C         ACTIVO      F                 3  \n",
       "1           Activo              S         PASIVO      M                 0  \n",
       "2        Cancelado              D         PASIVO      M                 3  \n",
       "3        Cancelado              S         ACTIVO      F                 2  \n",
       "4        Cancelado              C         ACTIVO      F                 2  "
      ]
     },
     "execution_count": 4,
     "metadata": {},
     "output_type": "execute_result"
    }
   ],
   "source": [
    "# Se separan los atributos de datos de los de la etiqueta del dataset\n",
    "\n",
    "labels = datos.falta_pago.values\n",
    "\n",
    "features = datos[['operaciones_ult_12m', 'gastos_ult_12m', 'limite_credito_tc',\n",
    "       'antiguedad_cliente', 'tasa_interes', 'ingresos', 'pct_ingreso',\n",
    "       'antiguedad_empleado', 'edad', 'importe_solicitado', 'duracion_credito',\n",
    "       'situacion_vivienda', 'objetivo_credito', 'estado_credito_N',\n",
    "       'estado_civil_N', 'estado_cliente', 'genero', 'personas_a_cargo']]\n",
    "\n",
    "print(f\"Vista de los datos del atributo target: \\n{labels[:10]}\")\n",
    "print(\"-\"*50)\n",
    "print(\"Vista parcial de los datos sin el atributo target:\")\n",
    "features.head()"
   ]
  },
  {
   "cell_type": "code",
   "execution_count": 5,
   "metadata": {},
   "outputs": [
    {
     "data": {
      "text/html": [
       "<div>\n",
       "<style scoped>\n",
       "    .dataframe tbody tr th:only-of-type {\n",
       "        vertical-align: middle;\n",
       "    }\n",
       "\n",
       "    .dataframe tbody tr th {\n",
       "        vertical-align: top;\n",
       "    }\n",
       "\n",
       "    .dataframe thead th {\n",
       "        text-align: right;\n",
       "    }\n",
       "</style>\n",
       "<table border=\"1\" class=\"dataframe\">\n",
       "  <thead>\n",
       "    <tr style=\"text-align: right;\">\n",
       "      <th></th>\n",
       "      <th>importe_solicitado</th>\n",
       "      <th>duracion_credito</th>\n",
       "      <th>personas_a_cargo</th>\n",
       "      <th>operaciones_ult_12m_15_to_30</th>\n",
       "      <th>operaciones_ult_12m_30_to_50</th>\n",
       "      <th>operaciones_ult_12m_50_to_75</th>\n",
       "      <th>operaciones_ult_12m_&lt;15</th>\n",
       "      <th>operaciones_ult_12m_&gt;74</th>\n",
       "      <th>gastos_ult_12m_1k_to_4k</th>\n",
       "      <th>gastos_ult_12m_4k_to_6k</th>\n",
       "      <th>...</th>\n",
       "      <th>estado_credito_N_Activo</th>\n",
       "      <th>estado_credito_N_Cancelado</th>\n",
       "      <th>estado_civil_N_C</th>\n",
       "      <th>estado_civil_N_D</th>\n",
       "      <th>estado_civil_N_N</th>\n",
       "      <th>estado_civil_N_S</th>\n",
       "      <th>estado_cliente_ACTIVO</th>\n",
       "      <th>estado_cliente_PASIVO</th>\n",
       "      <th>genero_F</th>\n",
       "      <th>genero_M</th>\n",
       "    </tr>\n",
       "  </thead>\n",
       "  <tbody>\n",
       "    <tr>\n",
       "      <th>0</th>\n",
       "      <td>11000</td>\n",
       "      <td>3</td>\n",
       "      <td>3</td>\n",
       "      <td>False</td>\n",
       "      <td>False</td>\n",
       "      <td>False</td>\n",
       "      <td>False</td>\n",
       "      <td>True</td>\n",
       "      <td>False</td>\n",
       "      <td>False</td>\n",
       "      <td>...</td>\n",
       "      <td>False</td>\n",
       "      <td>True</td>\n",
       "      <td>True</td>\n",
       "      <td>False</td>\n",
       "      <td>False</td>\n",
       "      <td>False</td>\n",
       "      <td>True</td>\n",
       "      <td>False</td>\n",
       "      <td>True</td>\n",
       "      <td>False</td>\n",
       "    </tr>\n",
       "    <tr>\n",
       "      <th>1</th>\n",
       "      <td>1500</td>\n",
       "      <td>2</td>\n",
       "      <td>0</td>\n",
       "      <td>True</td>\n",
       "      <td>False</td>\n",
       "      <td>False</td>\n",
       "      <td>False</td>\n",
       "      <td>False</td>\n",
       "      <td>False</td>\n",
       "      <td>False</td>\n",
       "      <td>...</td>\n",
       "      <td>True</td>\n",
       "      <td>False</td>\n",
       "      <td>False</td>\n",
       "      <td>False</td>\n",
       "      <td>False</td>\n",
       "      <td>True</td>\n",
       "      <td>False</td>\n",
       "      <td>True</td>\n",
       "      <td>False</td>\n",
       "      <td>True</td>\n",
       "    </tr>\n",
       "    <tr>\n",
       "      <th>2</th>\n",
       "      <td>10000</td>\n",
       "      <td>2</td>\n",
       "      <td>3</td>\n",
       "      <td>True</td>\n",
       "      <td>False</td>\n",
       "      <td>False</td>\n",
       "      <td>False</td>\n",
       "      <td>False</td>\n",
       "      <td>True</td>\n",
       "      <td>False</td>\n",
       "      <td>...</td>\n",
       "      <td>False</td>\n",
       "      <td>True</td>\n",
       "      <td>False</td>\n",
       "      <td>True</td>\n",
       "      <td>False</td>\n",
       "      <td>False</td>\n",
       "      <td>False</td>\n",
       "      <td>True</td>\n",
       "      <td>False</td>\n",
       "      <td>True</td>\n",
       "    </tr>\n",
       "    <tr>\n",
       "      <th>3</th>\n",
       "      <td>6000</td>\n",
       "      <td>4</td>\n",
       "      <td>2</td>\n",
       "      <td>False</td>\n",
       "      <td>False</td>\n",
       "      <td>False</td>\n",
       "      <td>False</td>\n",
       "      <td>True</td>\n",
       "      <td>True</td>\n",
       "      <td>False</td>\n",
       "      <td>...</td>\n",
       "      <td>False</td>\n",
       "      <td>True</td>\n",
       "      <td>False</td>\n",
       "      <td>False</td>\n",
       "      <td>False</td>\n",
       "      <td>True</td>\n",
       "      <td>True</td>\n",
       "      <td>False</td>\n",
       "      <td>True</td>\n",
       "      <td>False</td>\n",
       "    </tr>\n",
       "    <tr>\n",
       "      <th>4</th>\n",
       "      <td>10000</td>\n",
       "      <td>2</td>\n",
       "      <td>2</td>\n",
       "      <td>False</td>\n",
       "      <td>False</td>\n",
       "      <td>True</td>\n",
       "      <td>False</td>\n",
       "      <td>False</td>\n",
       "      <td>False</td>\n",
       "      <td>True</td>\n",
       "      <td>...</td>\n",
       "      <td>False</td>\n",
       "      <td>True</td>\n",
       "      <td>True</td>\n",
       "      <td>False</td>\n",
       "      <td>False</td>\n",
       "      <td>False</td>\n",
       "      <td>True</td>\n",
       "      <td>False</td>\n",
       "      <td>True</td>\n",
       "      <td>False</td>\n",
       "    </tr>\n",
       "  </tbody>\n",
       "</table>\n",
       "<p>5 rows × 58 columns</p>\n",
       "</div>"
      ],
      "text/plain": [
       "   importe_solicitado  duracion_credito  personas_a_cargo  \\\n",
       "0               11000                 3                 3   \n",
       "1                1500                 2                 0   \n",
       "2               10000                 2                 3   \n",
       "3                6000                 4                 2   \n",
       "4               10000                 2                 2   \n",
       "\n",
       "   operaciones_ult_12m_15_to_30  operaciones_ult_12m_30_to_50  \\\n",
       "0                         False                         False   \n",
       "1                          True                         False   \n",
       "2                          True                         False   \n",
       "3                         False                         False   \n",
       "4                         False                         False   \n",
       "\n",
       "   operaciones_ult_12m_50_to_75  operaciones_ult_12m_<15  \\\n",
       "0                         False                    False   \n",
       "1                         False                    False   \n",
       "2                         False                    False   \n",
       "3                         False                    False   \n",
       "4                          True                    False   \n",
       "\n",
       "   operaciones_ult_12m_>74  gastos_ult_12m_1k_to_4k  gastos_ult_12m_4k_to_6k  \\\n",
       "0                     True                    False                    False   \n",
       "1                    False                    False                    False   \n",
       "2                    False                     True                    False   \n",
       "3                     True                     True                    False   \n",
       "4                    False                    False                     True   \n",
       "\n",
       "   ...  estado_credito_N_Activo  estado_credito_N_Cancelado  estado_civil_N_C  \\\n",
       "0  ...                    False                        True              True   \n",
       "1  ...                     True                       False             False   \n",
       "2  ...                    False                        True             False   \n",
       "3  ...                    False                        True             False   \n",
       "4  ...                    False                        True              True   \n",
       "\n",
       "   estado_civil_N_D  estado_civil_N_N  estado_civil_N_S  \\\n",
       "0             False             False             False   \n",
       "1             False             False              True   \n",
       "2              True             False             False   \n",
       "3             False             False              True   \n",
       "4             False             False             False   \n",
       "\n",
       "   estado_cliente_ACTIVO  estado_cliente_PASIVO  genero_F  genero_M  \n",
       "0                   True                  False      True     False  \n",
       "1                  False                   True     False      True  \n",
       "2                  False                   True     False      True  \n",
       "3                   True                  False      True     False  \n",
       "4                   True                  False      True     False  \n",
       "\n",
       "[5 rows x 58 columns]"
      ]
     },
     "execution_count": 5,
     "metadata": {},
     "output_type": "execute_result"
    }
   ],
   "source": [
    "# Se pasa a binarizar los atributos\n",
    "\n",
    "data = pd.get_dummies(features)\n",
    "data.head()"
   ]
  },
  {
   "cell_type": "code",
   "execution_count": 6,
   "metadata": {},
   "outputs": [],
   "source": [
    "# Para evitar problemas con mlfow se hace una conversión de integer a double \n",
    "# de los atributos: 'importe_solicitado', 'duracion_credito', 'personas_a_cargo'\n",
    "\n",
    "# Se filtran las columnas del tipo integer\n",
    "integer_columns = data.select_dtypes(include='int').columns\n",
    "\n",
    "# Convert integer columns to double\n",
    "data[integer_columns] = data[integer_columns].astype('float')"
   ]
  },
  {
   "cell_type": "code",
   "execution_count": 7,
   "metadata": {},
   "outputs": [
    {
     "name": "stdout",
     "output_type": "stream",
     "text": [
      "Un registro de entrenamiento: \n",
      "importe_solicitado                3200.0\n",
      "duracion_credito                     4.0\n",
      "personas_a_cargo                     3.0\n",
      "operaciones_ult_12m_15_to_30       False\n",
      "operaciones_ult_12m_30_to_50       False\n",
      "operaciones_ult_12m_50_to_75        True\n",
      "operaciones_ult_12m_<15            False\n",
      "operaciones_ult_12m_>74            False\n",
      "gastos_ult_12m_1k_to_4k            False\n",
      "gastos_ult_12m_4k_to_6k             True\n",
      "gastos_ult_12m_6k_to_8k            False\n",
      "gastos_ult_12m_8k_to_10k           False\n",
      "gastos_ult_12m_<1k                 False\n",
      "gastos_ult_12m_>10k                False\n",
      "limite_credito_tc_3k_to_5k         False\n",
      "limite_credito_tc_5k_to_10k         True\n",
      "limite_credito_tc_<3k              False\n",
      "limite_credito_tc_>10k             False\n",
      "antiguedad_cliente_25y_to_50y       True\n",
      "antiguedad_cliente_<25y            False\n",
      "antiguedad_cliente_>50y            False\n",
      "tasa_interes_12p_to_18p            False\n",
      "tasa_interes_6p_to_12p             False\n",
      "tasa_interes_<6p                    True\n",
      "tasa_interes_>18p                  False\n",
      "ingresos_20k_to_50k                 True\n",
      "ingresos_50k_to_100k               False\n",
      "ingresos_<20k                      False\n",
      "ingresos_>100k                     False\n",
      "pct_ingreso_20_to_40               False\n",
      "pct_ingreso_40_to_60               False\n",
      "pct_ingreso_<20                     True\n",
      "pct_ingreso_>60                    False\n",
      "antiguedad_empleado_5_to_10         True\n",
      "antiguedad_empleado_<5             False\n",
      "antiguedad_empleado_>10            False\n",
      "edad_25_to_30                      False\n",
      "edad_<25                            True\n",
      "situacion_vivienda_ALQUILER        False\n",
      "situacion_vivienda_HIPOTECA         True\n",
      "situacion_vivienda_OTROS           False\n",
      "situacion_vivienda_PROPIA          False\n",
      "objetivo_credito_EDUCACIÓN         False\n",
      "objetivo_credito_INVERSIONES       False\n",
      "objetivo_credito_MEJORAS_HOGAR     False\n",
      "objetivo_credito_PAGO_DEUDAS       False\n",
      "objetivo_credito_PERSONAL           True\n",
      "objetivo_credito_SALUD             False\n",
      "estado_credito_N_Activo            False\n",
      "estado_credito_N_Cancelado          True\n",
      "estado_civil_N_C                   False\n",
      "estado_civil_N_D                   False\n",
      "estado_civil_N_N                   False\n",
      "estado_civil_N_S                    True\n",
      "estado_cliente_ACTIVO               True\n",
      "estado_cliente_PASIVO              False\n",
      "genero_F                           False\n",
      "genero_M                            True\n",
      "Name: 5677, dtype: object\n",
      "--------------------------------------------------\n",
      "Label del registro: \n",
      "N\n",
      "\n",
      "##################################################\n",
      "##################################################\n",
      "\n",
      "Un registro de testeo: \n",
      "importe_solicitado                1800.0\n",
      "duracion_credito                     4.0\n",
      "personas_a_cargo                     1.0\n",
      "operaciones_ult_12m_15_to_30       False\n",
      "operaciones_ult_12m_30_to_50        True\n",
      "operaciones_ult_12m_50_to_75       False\n",
      "operaciones_ult_12m_<15            False\n",
      "operaciones_ult_12m_>74            False\n",
      "gastos_ult_12m_1k_to_4k             True\n",
      "gastos_ult_12m_4k_to_6k            False\n",
      "gastos_ult_12m_6k_to_8k            False\n",
      "gastos_ult_12m_8k_to_10k           False\n",
      "gastos_ult_12m_<1k                 False\n",
      "gastos_ult_12m_>10k                False\n",
      "limite_credito_tc_3k_to_5k          True\n",
      "limite_credito_tc_5k_to_10k        False\n",
      "limite_credito_tc_<3k              False\n",
      "limite_credito_tc_>10k             False\n",
      "antiguedad_cliente_25y_to_50y       True\n",
      "antiguedad_cliente_<25y            False\n",
      "antiguedad_cliente_>50y            False\n",
      "tasa_interes_12p_to_18p             True\n",
      "tasa_interes_6p_to_12p             False\n",
      "tasa_interes_<6p                   False\n",
      "tasa_interes_>18p                  False\n",
      "ingresos_20k_to_50k                 True\n",
      "ingresos_50k_to_100k               False\n",
      "ingresos_<20k                      False\n",
      "ingresos_>100k                     False\n",
      "pct_ingreso_20_to_40               False\n",
      "pct_ingreso_40_to_60               False\n",
      "pct_ingreso_<20                     True\n",
      "pct_ingreso_>60                    False\n",
      "antiguedad_empleado_5_to_10         True\n",
      "antiguedad_empleado_<5             False\n",
      "antiguedad_empleado_>10            False\n",
      "edad_25_to_30                      False\n",
      "edad_<25                            True\n",
      "situacion_vivienda_ALQUILER         True\n",
      "situacion_vivienda_HIPOTECA        False\n",
      "situacion_vivienda_OTROS           False\n",
      "situacion_vivienda_PROPIA          False\n",
      "objetivo_credito_EDUCACIÓN         False\n",
      "objetivo_credito_INVERSIONES        True\n",
      "objetivo_credito_MEJORAS_HOGAR     False\n",
      "objetivo_credito_PAGO_DEUDAS       False\n",
      "objetivo_credito_PERSONAL          False\n",
      "objetivo_credito_SALUD             False\n",
      "estado_credito_N_Activo            False\n",
      "estado_credito_N_Cancelado          True\n",
      "estado_civil_N_C                    True\n",
      "estado_civil_N_D                   False\n",
      "estado_civil_N_N                   False\n",
      "estado_civil_N_S                   False\n",
      "estado_cliente_ACTIVO               True\n",
      "estado_cliente_PASIVO              False\n",
      "genero_F                           False\n",
      "genero_M                            True\n",
      "Name: 3000, dtype: object\n",
      "--------------------------------------------------\n",
      "Label del registro: \n",
      "N\n"
     ]
    }
   ],
   "source": [
    "# Se reparten los datos disponibles en conjuntos para entrenamiento y testeo\n",
    "\n",
    "train_data, test_data, train_labels, test_labels = train_test_split(data, labels) \n",
    "\n",
    "# Toma por defecto 75% (entrenamiento) - 25% (testeo)\n",
    "\n",
    "# Vista de los datos de entrenamiento para una fila\n",
    "\n",
    "print(f\"Un registro de entrenamiento: \\n{train_data.iloc[1]}\")\n",
    "print(\"-\"*50)\n",
    "print(f\"Label del registro: \\n{train_labels[1]}\\n\")\n",
    "\n",
    "print(\"#\"*50)\n",
    "print(\"#\"*50)\n",
    "\n",
    "# Vista de los datos de testeo para una fila\n",
    "\n",
    "print(f\"\\nUn registro de testeo: \\n{test_data.iloc[1]}\")\n",
    "print(\"-\"*50)\n",
    "print(f\"Label del registro: \\n{test_labels[1]}\")"
   ]
  },
  {
   "cell_type": "code",
   "execution_count": 8,
   "metadata": {},
   "outputs": [],
   "source": [
    "# Configuración de la evaluación\n",
    "\n",
    "def evaluar_modelo(modelo, test_data, test_labels):\n",
    "    prediction = modelo.predict(test_data)\n",
    "    print('Rendimiento obtenido:',accuracy_score(test_labels,prediction))\n",
    "    print('Reporte de indicadores:\\n',classification_report(test_labels,prediction))\n",
    "    print('Matriz de confusión:')\n",
    "    cm = confusion_matrix(test_labels, prediction, labels=modelo.classes_)\n",
    "    disp = ConfusionMatrixDisplay(confusion_matrix=cm,\n",
    "                                   display_labels=modelo.classes_)\n",
    "    disp.plot()\n",
    "    plt.show()"
   ]
  },
  {
   "cell_type": "code",
   "execution_count": 9,
   "metadata": {},
   "outputs": [],
   "source": [
    "# Para obtener todos los parámetros y no solo los modificados\n",
    "\n",
    "from sklearn import set_config\n",
    "\n",
    "set_config(print_changed_only=False)"
   ]
  },
  {
   "attachments": {},
   "cell_type": "markdown",
   "metadata": {},
   "source": [
    "### Generación de modelos"
   ]
  },
  {
   "attachments": {},
   "cell_type": "markdown",
   "metadata": {},
   "source": [
    "##### ZeroR"
   ]
  },
  {
   "cell_type": "code",
   "execution_count": 10,
   "metadata": {},
   "outputs": [
    {
     "data": {
      "text/html": [
       "<style>#sk-container-id-1 {color: black;}#sk-container-id-1 pre{padding: 0;}#sk-container-id-1 div.sk-toggleable {background-color: white;}#sk-container-id-1 label.sk-toggleable__label {cursor: pointer;display: block;width: 100%;margin-bottom: 0;padding: 0.3em;box-sizing: border-box;text-align: center;}#sk-container-id-1 label.sk-toggleable__label-arrow:before {content: \"▸\";float: left;margin-right: 0.25em;color: #696969;}#sk-container-id-1 label.sk-toggleable__label-arrow:hover:before {color: black;}#sk-container-id-1 div.sk-estimator:hover label.sk-toggleable__label-arrow:before {color: black;}#sk-container-id-1 div.sk-toggleable__content {max-height: 0;max-width: 0;overflow: hidden;text-align: left;background-color: #f0f8ff;}#sk-container-id-1 div.sk-toggleable__content pre {margin: 0.2em;color: black;border-radius: 0.25em;background-color: #f0f8ff;}#sk-container-id-1 input.sk-toggleable__control:checked~div.sk-toggleable__content {max-height: 200px;max-width: 100%;overflow: auto;}#sk-container-id-1 input.sk-toggleable__control:checked~label.sk-toggleable__label-arrow:before {content: \"▾\";}#sk-container-id-1 div.sk-estimator input.sk-toggleable__control:checked~label.sk-toggleable__label {background-color: #d4ebff;}#sk-container-id-1 div.sk-label input.sk-toggleable__control:checked~label.sk-toggleable__label {background-color: #d4ebff;}#sk-container-id-1 input.sk-hidden--visually {border: 0;clip: rect(1px 1px 1px 1px);clip: rect(1px, 1px, 1px, 1px);height: 1px;margin: -1px;overflow: hidden;padding: 0;position: absolute;width: 1px;}#sk-container-id-1 div.sk-estimator {font-family: monospace;background-color: #f0f8ff;border: 1px dotted black;border-radius: 0.25em;box-sizing: border-box;margin-bottom: 0.5em;}#sk-container-id-1 div.sk-estimator:hover {background-color: #d4ebff;}#sk-container-id-1 div.sk-parallel-item::after {content: \"\";width: 100%;border-bottom: 1px solid gray;flex-grow: 1;}#sk-container-id-1 div.sk-label:hover label.sk-toggleable__label {background-color: #d4ebff;}#sk-container-id-1 div.sk-serial::before {content: \"\";position: absolute;border-left: 1px solid gray;box-sizing: border-box;top: 0;bottom: 0;left: 50%;z-index: 0;}#sk-container-id-1 div.sk-serial {display: flex;flex-direction: column;align-items: center;background-color: white;padding-right: 0.2em;padding-left: 0.2em;position: relative;}#sk-container-id-1 div.sk-item {position: relative;z-index: 1;}#sk-container-id-1 div.sk-parallel {display: flex;align-items: stretch;justify-content: center;background-color: white;position: relative;}#sk-container-id-1 div.sk-item::before, #sk-container-id-1 div.sk-parallel-item::before {content: \"\";position: absolute;border-left: 1px solid gray;box-sizing: border-box;top: 0;bottom: 0;left: 50%;z-index: -1;}#sk-container-id-1 div.sk-parallel-item {display: flex;flex-direction: column;z-index: 1;position: relative;background-color: white;}#sk-container-id-1 div.sk-parallel-item:first-child::after {align-self: flex-end;width: 50%;}#sk-container-id-1 div.sk-parallel-item:last-child::after {align-self: flex-start;width: 50%;}#sk-container-id-1 div.sk-parallel-item:only-child::after {width: 0;}#sk-container-id-1 div.sk-dashed-wrapped {border: 1px dashed gray;margin: 0 0.4em 0.5em 0.4em;box-sizing: border-box;padding-bottom: 0.4em;background-color: white;}#sk-container-id-1 div.sk-label label {font-family: monospace;font-weight: bold;display: inline-block;line-height: 1.2em;}#sk-container-id-1 div.sk-label-container {text-align: center;}#sk-container-id-1 div.sk-container {/* jupyter's `normalize.less` sets `[hidden] { display: none; }` but bootstrap.min.css set `[hidden] { display: none !important; }` so we also need the `!important` here to be able to override the default hidden behavior on the sphinx rendered scikit-learn.org. See: https://github.com/scikit-learn/scikit-learn/issues/21755 */display: inline-block !important;position: relative;}#sk-container-id-1 div.sk-text-repr-fallback {display: none;}</style><div id=\"sk-container-id-1\" class=\"sk-top-container\"><div class=\"sk-text-repr-fallback\"><pre>DummyClassifier(constant=None, random_state=None, strategy=&#x27;prior&#x27;)</pre><b>In a Jupyter environment, please rerun this cell to show the HTML representation or trust the notebook. <br />On GitHub, the HTML representation is unable to render, please try loading this page with nbviewer.org.</b></div><div class=\"sk-container\" hidden><div class=\"sk-item\"><div class=\"sk-estimator sk-toggleable\"><input class=\"sk-toggleable__control sk-hidden--visually\" id=\"sk-estimator-id-1\" type=\"checkbox\" checked><label for=\"sk-estimator-id-1\" class=\"sk-toggleable__label sk-toggleable__label-arrow\">DummyClassifier</label><div class=\"sk-toggleable__content\"><pre>DummyClassifier(constant=None, random_state=None, strategy=&#x27;prior&#x27;)</pre></div></div></div></div></div>"
      ],
      "text/plain": [
       "DummyClassifier(constant=None, random_state=None, strategy='prior')"
      ]
     },
     "execution_count": 10,
     "metadata": {},
     "output_type": "execute_result"
    }
   ],
   "source": [
    "from sklearn.dummy import DummyClassifier\n",
    "\n",
    "clf = DummyClassifier()\n",
    "clf.fit(train_data, train_labels)"
   ]
  },
  {
   "cell_type": "code",
   "execution_count": 11,
   "metadata": {},
   "outputs": [
    {
     "name": "stdout",
     "output_type": "stream",
     "text": [
      "Rendimiento obtenido: 0.8202692003167062\n",
      "Vista de una muestra de valores de predicción y datos de testeo:\n",
      "['N' 'N' 'N' 'N' 'N' 'N' 'N' 'N' 'N' 'N']\n",
      "['N' 'N' 'N' 'N' 'N' 'Y' 'N' 'N' 'N' 'N']\n"
     ]
    }
   ],
   "source": [
    "prediction = clf.predict(test_data)\n",
    "\n",
    "print('Rendimiento obtenido:',accuracy_score(test_labels, prediction))\n",
    "print('Vista de una muestra de valores de predicción y datos de testeo:')\n",
    "print(prediction[:10])\n",
    "print(test_labels[:10])"
   ]
  },
  {
   "attachments": {},
   "cell_type": "markdown",
   "metadata": {},
   "source": [
    "----\n",
    "#### Prueba 1"
   ]
  },
  {
   "attachments": {},
   "cell_type": "markdown",
   "metadata": {},
   "source": [
    "Se pasa a configurar la serie de experimentos en **mlflow**"
   ]
  },
  {
   "cell_type": "code",
   "execution_count": 12,
   "metadata": {},
   "outputs": [
    {
     "name": "stderr",
     "output_type": "stream",
     "text": [
      "2023/12/05 19:13:40 INFO mlflow.tracking.fluent: Experiment with name 'Prueba #1' does not exist. Creating a new experiment.\n",
      "2023/12/05 19:13:40 WARNING mlflow.utils.autologging_utils: You are using an unsupported version of sklearn. If you encounter errors during autologging, try upgrading / downgrading sklearn to a supported version, or try upgrading MLflow.\n",
      "2023/12/05 19:13:41 INFO mlflow.tracking.fluent: Autologging successfully enabled for sklearn.\n"
     ]
    }
   ],
   "source": [
    "# Se establece un nombre para identificar la serie de experimentos\n",
    "\n",
    "mlflow.set_experiment(experiment_name=\"Prueba #1\")\n",
    "mlflow.autolog()"
   ]
  },
  {
   "attachments": {},
   "cell_type": "markdown",
   "metadata": {},
   "source": [
    "##### Regresión Logística"
   ]
  },
  {
   "cell_type": "code",
   "execution_count": 13,
   "metadata": {},
   "outputs": [
    {
     "name": "stderr",
     "output_type": "stream",
     "text": [
      "2023/12/05 19:13:45 WARNING mlflow.utils.autologging_utils: MLflow autologging encountered a warning: \"c:\\Users\\User\\anaconda3\\envs\\VIU-13MBID\\Lib\\site-packages\\_distutils_hack\\__init__.py:33: UserWarning: Setuptools is replacing distutils.\"\n"
     ]
    }
   ],
   "source": [
    "with mlflow.start_run(run_name='Logistic Regression'):\n",
    "    lreg = LogisticRegression(solver = 'liblinear')\n",
    "\n",
    "    lreg.fit(train_data, train_labels)"
   ]
  },
  {
   "cell_type": "code",
   "execution_count": 14,
   "metadata": {},
   "outputs": [
    {
     "name": "stdout",
     "output_type": "stream",
     "text": [
      "Salida de resultado de la evaluación correspondientes a la Prueba #1\n",
      "Rendimiento obtenido: 0.8919239904988123\n",
      "Reporte de indicadores:\n",
      "               precision    recall  f1-score   support\n",
      "\n",
      "           N       0.90      0.98      0.94      2072\n",
      "           Y       0.83      0.50      0.63       454\n",
      "\n",
      "    accuracy                           0.89      2526\n",
      "   macro avg       0.86      0.74      0.78      2526\n",
      "weighted avg       0.89      0.89      0.88      2526\n",
      "\n",
      "Matriz de confusión:\n"
     ]
    },
    {
     "data": {
      "image/png": "[encoded data removed]",
      "text/plain": [
       "<Figure size 640x480 with 2 Axes>"
      ]
     },
     "metadata": {},
     "output_type": "display_data"
    }
   ],
   "source": [
    "print(\"Salida de resultado de la evaluación correspondientes a la Prueba #1\")\n",
    "evaluar_modelo(lreg, test_data, test_labels)"
   ]
  },
  {
   "attachments": {},
   "cell_type": "markdown",
   "metadata": {},
   "source": [
    "##### KNN"
   ]
  },
  {
   "cell_type": "code",
   "execution_count": 15,
   "metadata": {},
   "outputs": [],
   "source": [
    "with mlflow.start_run(run_name='KNN'):\n",
    "    knn = KNeighborsClassifier(n_neighbors=50, \n",
    "                               algorithm = 'ball_tree', \n",
    "                               leaf_size = 25)\n",
    "\n",
    "    knn.fit(train_data, train_labels)"
   ]
  },
  {
   "cell_type": "code",
   "execution_count": 16,
   "metadata": {},
   "outputs": [
    {
     "name": "stdout",
     "output_type": "stream",
     "text": [
      "Salida de resultado de la evaluación correspondientes a la Prueba #1\n",
      "Rendimiento obtenido: 0.8262074425969913\n",
      "Reporte de indicadores:\n",
      "               precision    recall  f1-score   support\n",
      "\n",
      "           N       0.83      1.00      0.90      2072\n",
      "           Y       0.80      0.04      0.08       454\n",
      "\n",
      "    accuracy                           0.83      2526\n",
      "   macro avg       0.81      0.52      0.49      2526\n",
      "weighted avg       0.82      0.83      0.76      2526\n",
      "\n",
      "Matriz de confusión:\n"
     ]
    },
    {
     "data": {
      "image/png": "[encoded data removed]",
      "text/plain": [
       "<Figure size 640x480 with 2 Axes>"
      ]
     },
     "metadata": {},
     "output_type": "display_data"
    }
   ],
   "source": [
    "print(\"Salida de resultado de la evaluación correspondientes a la Prueba #1\")\n",
    "evaluar_modelo(knn, test_data, test_labels)"
   ]
  },
  {
   "attachments": {},
   "cell_type": "markdown",
   "metadata": {},
   "source": [
    "##### Árboles de Decisión (TDIDT)"
   ]
  },
  {
   "cell_type": "code",
   "execution_count": 17,
   "metadata": {},
   "outputs": [],
   "source": [
    "with mlflow.start_run(run_name='Decision Tree'):\n",
    "    dtc = DecisionTreeClassifier(max_depth=3, \n",
    "                                 criterion='entropy', \n",
    "                                 min_samples_split=10)\n",
    "\n",
    "    dtc.fit(train_data, train_labels)"
   ]
  },
  {
   "cell_type": "code",
   "execution_count": 18,
   "metadata": {},
   "outputs": [
    {
     "name": "stdout",
     "output_type": "stream",
     "text": [
      "Salida de resultado de la evaluación correspondientes a la Prueba #1\n",
      "Rendimiento obtenido: 0.8935075217735551\n",
      "Reporte de indicadores:\n",
      "               precision    recall  f1-score   support\n",
      "\n",
      "           N       0.90      0.98      0.94      2072\n",
      "           Y       0.85      0.50      0.63       454\n",
      "\n",
      "    accuracy                           0.89      2526\n",
      "   macro avg       0.87      0.74      0.78      2526\n",
      "weighted avg       0.89      0.89      0.88      2526\n",
      "\n",
      "Matriz de confusión:\n"
     ]
    },
    {
     "data": {
      "image/png": "[encoded data removed]",
      "text/plain": [
       "<Figure size 640x480 with 2 Axes>"
      ]
     },
     "metadata": {},
     "output_type": "display_data"
    }
   ],
   "source": [
    "print(\"Salida de resultado de la evaluación correspondientes a la Prueba #1\")\n",
    "evaluar_modelo(dtc, test_data, test_labels)"
   ]
  },
  {
   "attachments": {},
   "cell_type": "markdown",
   "metadata": {},
   "source": [
    "##### Métodos de ensamblado de modelos: RandomForest"
   ]
  },
  {
   "cell_type": "code",
   "execution_count": 19,
   "metadata": {},
   "outputs": [],
   "source": [
    "with mlflow.start_run(run_name='Random Forest'):\n",
    "    rndf = RandomForestClassifier(n_estimators=10)\n",
    "    rndf.fit(train_data, train_labels)"
   ]
  },
  {
   "cell_type": "code",
   "execution_count": 20,
   "metadata": {},
   "outputs": [
    {
     "name": "stdout",
     "output_type": "stream",
     "text": [
      "Salida de resultado de la evaluación correspondientes a la Prueba #1\n",
      "Rendimiento obtenido: 0.8903404592240697\n",
      "Reporte de indicadores:\n",
      "               precision    recall  f1-score   support\n",
      "\n",
      "           N       0.91      0.97      0.94      2072\n",
      "           Y       0.78      0.54      0.64       454\n",
      "\n",
      "    accuracy                           0.89      2526\n",
      "   macro avg       0.84      0.76      0.79      2526\n",
      "weighted avg       0.88      0.89      0.88      2526\n",
      "\n",
      "Matriz de confusión:\n"
     ]
    },
    {
     "data": {
      "image/png": "[encoded data removed]",
      "text/plain": [
       "<Figure size 640x480 with 2 Axes>"
      ]
     },
     "metadata": {},
     "output_type": "display_data"
    }
   ],
   "source": [
    "print(\"Salida de resultado de la evaluación correspondientes a la Prueba #1\")\n",
    "evaluar_modelo(rndf, test_data, test_labels)"
   ]
  },
  {
   "cell_type": "code",
   "execution_count": 48,
   "metadata": {},
   "outputs": [
    {
     "name": "stdout",
     "output_type": "stream",
     "text": [
      " Para la generación de los modelos documentados se utilizó la librería sci-kit learn en su versión  1.3.1\n"
     ]
    }
   ],
   "source": [
    "import sklearn\n",
    "\n",
    "print(f\" Para la generación de los modelos documentados se utilizó la librería sci-kit learn en su versión \",sklearn.__version__)"
   ]
  },
  {
   "attachments": {},
   "cell_type": "markdown",
   "metadata": {},
   "source": [
    "----\n",
    "#### Prueba #2"
   ]
  },
  {
   "cell_type": "code",
   "execution_count": 21,
   "metadata": {},
   "outputs": [
    {
     "name": "stderr",
     "output_type": "stream",
     "text": [
      "2023/12/05 19:13:55 INFO mlflow.tracking.fluent: Experiment with name 'Prueba #2' does not exist. Creating a new experiment.\n"
     ]
    },
    {
     "data": {
      "text/plain": [
       "<Experiment: artifact_location='file:///d:/Maestria/13.%20Metodolog%C3%ADas%20de%20gesti%C3%B3n%20y%20dise%C3%B1o%20de%20proyectos%20Big%20Data/AG1/13MBID-Abr23/notebooks/03-Modelado%2BEvaluacion/mlruns/831626985223823536', creation_time=1701821635892, experiment_id='831626985223823536', last_update_time=1701821635892, lifecycle_stage='active', name='Prueba #2', tags={}>"
      ]
     },
     "execution_count": 21,
     "metadata": {},
     "output_type": "execute_result"
    }
   ],
   "source": [
    "mlflow.set_experiment(experiment_name=\"Prueba #2\")"
   ]
  },
  {
   "attachments": {},
   "cell_type": "markdown",
   "metadata": {},
   "source": [
    "##### Regresión Logística"
   ]
  },
  {
   "cell_type": "code",
   "execution_count": 22,
   "metadata": {},
   "outputs": [
    {
     "name": "stderr",
     "output_type": "stream",
     "text": [
      "c:\\Users\\User\\anaconda3\\envs\\VIU-13MBID\\Lib\\site-packages\\scipy\\optimize\\_linesearch.py:466: LineSearchWarning: The line search algorithm did not converge\n",
      "  warn('The line search algorithm did not converge', LineSearchWarning)\n",
      "c:\\Users\\User\\anaconda3\\envs\\VIU-13MBID\\Lib\\site-packages\\scipy\\optimize\\_linesearch.py:314: LineSearchWarning: The line search algorithm did not converge\n",
      "  warn('The line search algorithm did not converge', LineSearchWarning)\n"
     ]
    }
   ],
   "source": [
    "with mlflow.start_run(run_name='Logistic Regression (#2)'):\n",
    "    lreg = LogisticRegression(solver = 'newton-cg')\n",
    "\n",
    "    lreg.fit(train_data, train_labels)"
   ]
  },
  {
   "cell_type": "code",
   "execution_count": 23,
   "metadata": {},
   "outputs": [
    {
     "name": "stdout",
     "output_type": "stream",
     "text": [
      "Salida de resultado de la evaluación correspondientes a la Prueba #2\n",
      "Rendimiento obtenido: 0.8954869358669834\n",
      "Reporte de indicadores:\n",
      "               precision    recall  f1-score   support\n",
      "\n",
      "           N       0.90      0.98      0.94      2072\n",
      "           Y       0.84      0.52      0.64       454\n",
      "\n",
      "    accuracy                           0.90      2526\n",
      "   macro avg       0.87      0.75      0.79      2526\n",
      "weighted avg       0.89      0.90      0.89      2526\n",
      "\n",
      "Matriz de confusión:\n"
     ]
    },
    {
     "data": {
      "image/png": "[encoded data removed]",
      "text/plain": [
       "<Figure size 640x480 with 2 Axes>"
      ]
     },
     "metadata": {},
     "output_type": "display_data"
    }
   ],
   "source": [
    "print(\"Salida de resultado de la evaluación correspondientes a la Prueba #2\")\n",
    "evaluar_modelo(lreg, test_data, test_labels)"
   ]
  },
  {
   "attachments": {},
   "cell_type": "markdown",
   "metadata": {},
   "source": [
    "##### KNN"
   ]
  },
  {
   "cell_type": "code",
   "execution_count": 24,
   "metadata": {},
   "outputs": [],
   "source": [
    "with mlflow.start_run(run_name='KNN (#2)'):\n",
    "    knn = KNeighborsClassifier(n_neighbors=50, \n",
    "                               algorithm = 'kd_tree', \n",
    "                               leaf_size = 20)\n",
    "\n",
    "    knn.fit(train_data, train_labels)"
   ]
  },
  {
   "cell_type": "code",
   "execution_count": 25,
   "metadata": {},
   "outputs": [
    {
     "name": "stdout",
     "output_type": "stream",
     "text": [
      "Salida de resultado de la evaluación correspondientes a la Prueba #2\n",
      "Rendimiento obtenido: 0.8262074425969913\n",
      "Reporte de indicadores:\n",
      "               precision    recall  f1-score   support\n",
      "\n",
      "           N       0.83      1.00      0.90      2072\n",
      "           Y       0.80      0.04      0.08       454\n",
      "\n",
      "    accuracy                           0.83      2526\n",
      "   macro avg       0.81      0.52      0.49      2526\n",
      "weighted avg       0.82      0.83      0.76      2526\n",
      "\n",
      "Matriz de confusión:\n"
     ]
    },
    {
     "data": {
      "image/png": "[encoded data removed]",
      "text/plain": [
       "<Figure size 640x480 with 2 Axes>"
      ]
     },
     "metadata": {},
     "output_type": "display_data"
    }
   ],
   "source": [
    "print(\"Salida de resultado de la evaluación correspondientes a la Prueba #2\")\n",
    "evaluar_modelo(knn, test_data, test_labels)"
   ]
  },
  {
   "attachments": {},
   "cell_type": "markdown",
   "metadata": {},
   "source": [
    "##### Árboles de Decisión (TDIDT)"
   ]
  },
  {
   "cell_type": "code",
   "execution_count": 26,
   "metadata": {},
   "outputs": [],
   "source": [
    "with mlflow.start_run(run_name='Decision Tree (#2)'):\n",
    "    dtc = DecisionTreeClassifier(max_depth=4, \n",
    "                                 criterion='entropy',\n",
    "                                 splitter='best',  \n",
    "                                 min_samples_split=50)\n",
    "\n",
    "    dtc.fit(train_data, train_labels)"
   ]
  },
  {
   "cell_type": "code",
   "execution_count": 27,
   "metadata": {},
   "outputs": [
    {
     "name": "stdout",
     "output_type": "stream",
     "text": [
      "Salida de resultado de la evaluación correspondientes a la Prueba #2\n",
      "Rendimiento obtenido: 0.8935075217735551\n",
      "Reporte de indicadores:\n",
      "               precision    recall  f1-score   support\n",
      "\n",
      "           N       0.90      0.98      0.94      2072\n",
      "           Y       0.84      0.50      0.63       454\n",
      "\n",
      "    accuracy                           0.89      2526\n",
      "   macro avg       0.87      0.74      0.78      2526\n",
      "weighted avg       0.89      0.89      0.88      2526\n",
      "\n",
      "Matriz de confusión:\n"
     ]
    },
    {
     "data": {
      "image/png": "[encoded data removed]",
      "text/plain": [
       "<Figure size 640x480 with 2 Axes>"
      ]
     },
     "metadata": {},
     "output_type": "display_data"
    }
   ],
   "source": [
    "print(\"Salida de resultado de la evaluación correspondientes a la Prueba #2\")\n",
    "evaluar_modelo(dtc, test_data, test_labels)"
   ]
  },
  {
   "attachments": {},
   "cell_type": "markdown",
   "metadata": {},
   "source": [
    "##### Métodos de ensamblado de modelos: RandomForest"
   ]
  },
  {
   "cell_type": "code",
   "execution_count": 28,
   "metadata": {},
   "outputs": [],
   "source": [
    "with mlflow.start_run(run_name='Random Forest (#2)'):\n",
    "    rndf = RandomForestClassifier(n_estimators=20)\n",
    "    rndf.fit(train_data, train_labels)"
   ]
  },
  {
   "cell_type": "code",
   "execution_count": 29,
   "metadata": {},
   "outputs": [
    {
     "name": "stdout",
     "output_type": "stream",
     "text": [
      "Salida de resultado de la evaluación correspondientes a la Prueba #2\n",
      "Rendimiento obtenido: 0.8962787015043547\n",
      "Reporte de indicadores:\n",
      "               precision    recall  f1-score   support\n",
      "\n",
      "           N       0.91      0.97      0.94      2072\n",
      "           Y       0.80      0.56      0.66       454\n",
      "\n",
      "    accuracy                           0.90      2526\n",
      "   macro avg       0.86      0.77      0.80      2526\n",
      "weighted avg       0.89      0.90      0.89      2526\n",
      "\n",
      "Matriz de confusión:\n"
     ]
    },
    {
     "data": {
      "image/png": "[encoded data removed]",
      "text/plain": [
       "<Figure size 640x480 with 2 Axes>"
      ]
     },
     "metadata": {},
     "output_type": "display_data"
    }
   ],
   "source": [
    "print(\"Salida de resultado de la evaluación correspondientes a la Prueba #2\")\n",
    "evaluar_modelo(rndf, test_data, test_labels)"
   ]
  },
  {
   "attachments": {},
   "cell_type": "markdown",
   "metadata": {},
   "source": [
    "----\n",
    "#### Prueba #3"
   ]
  },
  {
   "cell_type": "code",
   "execution_count": 30,
   "metadata": {},
   "outputs": [
    {
     "name": "stderr",
     "output_type": "stream",
     "text": [
      "2023/12/05 19:14:10 INFO mlflow.tracking.fluent: Experiment with name 'Prueba #3' does not exist. Creating a new experiment.\n"
     ]
    },
    {
     "data": {
      "text/plain": [
       "<Experiment: artifact_location='file:///d:/Maestria/13.%20Metodolog%C3%ADas%20de%20gesti%C3%B3n%20y%20dise%C3%B1o%20de%20proyectos%20Big%20Data/AG1/13MBID-Abr23/notebooks/03-Modelado%2BEvaluacion/mlruns/110835043511202234', creation_time=1701821650031, experiment_id='110835043511202234', last_update_time=1701821650031, lifecycle_stage='active', name='Prueba #3', tags={}>"
      ]
     },
     "execution_count": 30,
     "metadata": {},
     "output_type": "execute_result"
    }
   ],
   "source": [
    "mlflow.set_experiment(experiment_name=\"Prueba #3\")"
   ]
  },
  {
   "attachments": {},
   "cell_type": "markdown",
   "metadata": {},
   "source": [
    "##### Regresión Logística"
   ]
  },
  {
   "cell_type": "code",
   "execution_count": 31,
   "metadata": {},
   "outputs": [],
   "source": [
    "with mlflow.start_run(run_name='Logistic Regression (#3)'):\n",
    "    lreg = LogisticRegression(solver = 'newton-cholesky')\n",
    "\n",
    "    lreg.fit(train_data, train_labels)"
   ]
  },
  {
   "cell_type": "code",
   "execution_count": 32,
   "metadata": {},
   "outputs": [
    {
     "name": "stdout",
     "output_type": "stream",
     "text": [
      "Salida de resultado de la evaluación correspondientes a la Prueba #3\n",
      "Rendimiento obtenido: 0.8954869358669834\n",
      "Reporte de indicadores:\n",
      "               precision    recall  f1-score   support\n",
      "\n",
      "           N       0.90      0.98      0.94      2072\n",
      "           Y       0.84      0.52      0.64       454\n",
      "\n",
      "    accuracy                           0.90      2526\n",
      "   macro avg       0.87      0.75      0.79      2526\n",
      "weighted avg       0.89      0.90      0.89      2526\n",
      "\n",
      "Matriz de confusión:\n"
     ]
    },
    {
     "data": {
      "image/png": "[encoded data removed]",
      "text/plain": [
       "<Figure size 640x480 with 2 Axes>"
      ]
     },
     "metadata": {},
     "output_type": "display_data"
    }
   ],
   "source": [
    "print(\"Salida de resultado de la evaluación correspondientes a la Prueba #3\")\n",
    "evaluar_modelo(lreg, test_data, test_labels)"
   ]
  },
  {
   "attachments": {},
   "cell_type": "markdown",
   "metadata": {},
   "source": [
    "##### KNN"
   ]
  },
  {
   "cell_type": "code",
   "execution_count": 33,
   "metadata": {},
   "outputs": [],
   "source": [
    "with mlflow.start_run(run_name='KNN (#3)'):\n",
    "    knn = KNeighborsClassifier(n_neighbors=40, \n",
    "                               algorithm = 'auto', \n",
    "                               leaf_size = 25)\n",
    "\n",
    "    knn.fit(train_data, train_labels)"
   ]
  },
  {
   "cell_type": "code",
   "execution_count": 34,
   "metadata": {},
   "outputs": [
    {
     "name": "stdout",
     "output_type": "stream",
     "text": [
      "Salida de resultado de la evaluación correspondientes a la Prueba #3\n",
      "Rendimiento obtenido: 0.8321456848772764\n",
      "Reporte de indicadores:\n",
      "               precision    recall  f1-score   support\n",
      "\n",
      "           N       0.83      1.00      0.91      2072\n",
      "           Y       0.86      0.08      0.15       454\n",
      "\n",
      "    accuracy                           0.83      2526\n",
      "   macro avg       0.84      0.54      0.53      2526\n",
      "weighted avg       0.84      0.83      0.77      2526\n",
      "\n",
      "Matriz de confusión:\n"
     ]
    },
    {
     "data": {
      "image/png": "[encoded data removed]",
      "text/plain": [
       "<Figure size 640x480 with 2 Axes>"
      ]
     },
     "metadata": {},
     "output_type": "display_data"
    }
   ],
   "source": [
    "print(\"Salida de resultado de la evaluación correspondientes a la Prueba #3\")\n",
    "evaluar_modelo(knn, test_data, test_labels)"
   ]
  },
  {
   "attachments": {},
   "cell_type": "markdown",
   "metadata": {},
   "source": [
    "##### Árboles de Decisión (TDIDT)"
   ]
  },
  {
   "cell_type": "code",
   "execution_count": 35,
   "metadata": {},
   "outputs": [],
   "source": [
    "with mlflow.start_run(run_name='Decision Tree (#3)'):\n",
    "    dtc = DecisionTreeClassifier(max_depth=5, \n",
    "                                 criterion='gini',\n",
    "                                 splitter='random', \n",
    "                                 min_samples_split=50)\n",
    "\n",
    "    dtc.fit(train_data, train_labels)"
   ]
  },
  {
   "cell_type": "code",
   "execution_count": 36,
   "metadata": {},
   "outputs": [
    {
     "name": "stdout",
     "output_type": "stream",
     "text": [
      "Salida de resultado de la evaluación correspondientes a la Prueba #3\n",
      "Rendimiento obtenido: 0.8923198733174981\n",
      "Reporte de indicadores:\n",
      "               precision    recall  f1-score   support\n",
      "\n",
      "           N       0.90      0.98      0.94      2072\n",
      "           Y       0.83      0.50      0.63       454\n",
      "\n",
      "    accuracy                           0.89      2526\n",
      "   macro avg       0.87      0.74      0.78      2526\n",
      "weighted avg       0.89      0.89      0.88      2526\n",
      "\n",
      "Matriz de confusión:\n"
     ]
    },
    {
     "data": {
      "image/png": "[encoded data removed]",
      "text/plain": [
       "<Figure size 640x480 with 2 Axes>"
      ]
     },
     "metadata": {},
     "output_type": "display_data"
    }
   ],
   "source": [
    "print(\"Salida de resultado de la evaluación correspondientes a la Prueba #3\")\n",
    "evaluar_modelo(dtc, test_data, test_labels)"
   ]
  },
  {
   "attachments": {},
   "cell_type": "markdown",
   "metadata": {},
   "source": [
    "##### Métodos de ensamblado de modelos: RandomForest"
   ]
  },
  {
   "cell_type": "code",
   "execution_count": 37,
   "metadata": {},
   "outputs": [],
   "source": [
    "with mlflow.start_run(run_name='Random Forest (#3)'):\n",
    "    rndf = RandomForestClassifier(n_estimators=15)\n",
    "    rndf.fit(train_data, train_labels)"
   ]
  },
  {
   "cell_type": "code",
   "execution_count": 38,
   "metadata": {},
   "outputs": [
    {
     "name": "stdout",
     "output_type": "stream",
     "text": [
      "Salida de resultado de la evaluación correspondientes a la Prueba #3\n",
      "Rendimiento obtenido: 0.9010292953285828\n",
      "Reporte de indicadores:\n",
      "               precision    recall  f1-score   support\n",
      "\n",
      "           N       0.92      0.96      0.94      2072\n",
      "           Y       0.78      0.63      0.70       454\n",
      "\n",
      "    accuracy                           0.90      2526\n",
      "   macro avg       0.85      0.80      0.82      2526\n",
      "weighted avg       0.90      0.90      0.90      2526\n",
      "\n",
      "Matriz de confusión:\n"
     ]
    },
    {
     "data": {
      "image/png": "[encoded data removed]",
      "text/plain": [
       "<Figure size 640x480 with 2 Axes>"
      ]
     },
     "metadata": {},
     "output_type": "display_data"
    }
   ],
   "source": [
    "print(\"Salida de resultado de la evaluación correspondientes a la Prueba #3\")\n",
    "evaluar_modelo(rndf, test_data, test_labels)"
   ]
  },
  {
   "cell_type": "markdown",
   "metadata": {},
   "source": [
    "#### TODO: posibilidades de mejora de la libreta\n",
    "\n",
    "* Evaluación del clasificador a través de validación cruzada\n",
    "* Ejecutar pruebas que contemplen datos con mayor o menor grado de transformaciones aplicadas \n",
    "* Implementar clasificación con otras técnicas (por ejemplo: redes neuronales, SVM, entre otras)\n",
    "* Evaluar la combinación de técnicas, por ejemplo: clustering y sobre esos resultados aplicación de árboles de decisión para detectar patrones de agrupamiento y ahí relacionarlo con la situación de los clientes.\n",
    "* Integrar técnicas de extracción de reglas de asociación (con mayor \"legibilidad\" para usuarios no-técnicos)\n",
    "* Entre otras opciones"
   ]
  },
  {
   "attachments": {},
   "cell_type": "markdown",
   "metadata": {},
   "source": [
    "# REVISADO DE AQUÍ HACIA ARRIBA"
   ]
  },
  {
   "cell_type": "markdown",
   "metadata": {},
   "source": []
  },
  {
   "cell_type": "markdown",
   "metadata": {},
   "source": [
    "----\n",
    "\n",
    "### Prueba de despliegue (utilzando datos nuevos)"
   ]
  },
  {
   "cell_type": "code",
   "execution_count": 39,
   "metadata": {},
   "outputs": [
    {
     "data": {
      "text/html": [
       "<div>\n",
       "<style scoped>\n",
       "    .dataframe tbody tr th:only-of-type {\n",
       "        vertical-align: middle;\n",
       "    }\n",
       "\n",
       "    .dataframe tbody tr th {\n",
       "        vertical-align: top;\n",
       "    }\n",
       "\n",
       "    .dataframe thead th {\n",
       "        text-align: right;\n",
       "    }\n",
       "</style>\n",
       "<table border=\"1\" class=\"dataframe\">\n",
       "  <thead>\n",
       "    <tr style=\"text-align: right;\">\n",
       "      <th></th>\n",
       "      <th>id_cliente</th>\n",
       "      <th>edad</th>\n",
       "      <th>importe_solicitado</th>\n",
       "      <th>duracion_credito</th>\n",
       "      <th>antiguedad_empleado</th>\n",
       "      <th>situacion_vivienda</th>\n",
       "      <th>ingresos</th>\n",
       "      <th>objetivo_credito</th>\n",
       "      <th>pct_ingreso</th>\n",
       "      <th>tasa_interes</th>\n",
       "      <th>...</th>\n",
       "      <th>antiguedad_cliente</th>\n",
       "      <th>estado_civil</th>\n",
       "      <th>estado_cliente</th>\n",
       "      <th>gastos_ult_12m</th>\n",
       "      <th>genero</th>\n",
       "      <th>limite_credito_tc</th>\n",
       "      <th>nivel_educativo</th>\n",
       "      <th>nivel_tarjeta</th>\n",
       "      <th>operaciones_ult_12m</th>\n",
       "      <th>personas_a_cargo</th>\n",
       "    </tr>\n",
       "  </thead>\n",
       "  <tbody>\n",
       "    <tr>\n",
       "      <th>0</th>\n",
       "      <td>708510993</td>\n",
       "      <td>22</td>\n",
       "      <td>4000</td>\n",
       "      <td>4</td>\n",
       "      <td>3.0</td>\n",
       "      <td>HIPOTECA</td>\n",
       "      <td>62000</td>\n",
       "      <td>PERSONAL</td>\n",
       "      <td>0.06</td>\n",
       "      <td>6.76</td>\n",
       "      <td>...</td>\n",
       "      <td>47</td>\n",
       "      <td>SOLTERO</td>\n",
       "      <td>ACTIVO</td>\n",
       "      <td>15478.0</td>\n",
       "      <td>F</td>\n",
       "      <td>4905.0</td>\n",
       "      <td>UNIVERSITARIO_INCOMPLETO</td>\n",
       "      <td>Blue</td>\n",
       "      <td>109.0</td>\n",
       "      <td>1.0</td>\n",
       "    </tr>\n",
       "    <tr>\n",
       "      <th>1</th>\n",
       "      <td>708512051</td>\n",
       "      <td>25</td>\n",
       "      <td>10000</td>\n",
       "      <td>2</td>\n",
       "      <td>3.0</td>\n",
       "      <td>ALQUILER</td>\n",
       "      <td>120000</td>\n",
       "      <td>INVERSIONES</td>\n",
       "      <td>0.08</td>\n",
       "      <td>9.32</td>\n",
       "      <td>...</td>\n",
       "      <td>18</td>\n",
       "      <td>CASADO</td>\n",
       "      <td>ACTIVO</td>\n",
       "      <td>3950.0</td>\n",
       "      <td>M</td>\n",
       "      <td>1663.0</td>\n",
       "      <td>UNIVERSITARIO_COMPLETO</td>\n",
       "      <td>Blue</td>\n",
       "      <td>82.0</td>\n",
       "      <td>3.0</td>\n",
       "    </tr>\n",
       "    <tr>\n",
       "      <th>2</th>\n",
       "      <td>708513258</td>\n",
       "      <td>23</td>\n",
       "      <td>1700</td>\n",
       "      <td>2</td>\n",
       "      <td>2.0</td>\n",
       "      <td>HIPOTECA</td>\n",
       "      <td>45000</td>\n",
       "      <td>SALUD</td>\n",
       "      <td>0.04</td>\n",
       "      <td>14.72</td>\n",
       "      <td>...</td>\n",
       "      <td>29</td>\n",
       "      <td>CASADO</td>\n",
       "      <td>ACTIVO</td>\n",
       "      <td>3078.0</td>\n",
       "      <td>M</td>\n",
       "      <td>4323.0</td>\n",
       "      <td>UNIVERSITARIO_INCOMPLETO</td>\n",
       "      <td>Blue</td>\n",
       "      <td>58.0</td>\n",
       "      <td>1.0</td>\n",
       "    </tr>\n",
       "    <tr>\n",
       "      <th>3</th>\n",
       "      <td>708514512</td>\n",
       "      <td>25</td>\n",
       "      <td>7200</td>\n",
       "      <td>4</td>\n",
       "      <td>0.0</td>\n",
       "      <td>ALQUILER</td>\n",
       "      <td>71604</td>\n",
       "      <td>PAGO_DEUDAS</td>\n",
       "      <td>0.10</td>\n",
       "      <td>10.95</td>\n",
       "      <td>...</td>\n",
       "      <td>29</td>\n",
       "      <td>CASADO</td>\n",
       "      <td>ACTIVO</td>\n",
       "      <td>4314.0</td>\n",
       "      <td>F</td>\n",
       "      <td>3809.0</td>\n",
       "      <td>UNIVERSITARIO_INCOMPLETO</td>\n",
       "      <td>Blue</td>\n",
       "      <td>81.0</td>\n",
       "      <td>2.0</td>\n",
       "    </tr>\n",
       "    <tr>\n",
       "      <th>4</th>\n",
       "      <td>708515472</td>\n",
       "      <td>26</td>\n",
       "      <td>5000</td>\n",
       "      <td>3</td>\n",
       "      <td>5.0</td>\n",
       "      <td>HIPOTECA</td>\n",
       "      <td>52000</td>\n",
       "      <td>PAGO_DEUDAS</td>\n",
       "      <td>0.10</td>\n",
       "      <td>10.59</td>\n",
       "      <td>...</td>\n",
       "      <td>36</td>\n",
       "      <td>CASADO</td>\n",
       "      <td>ACTIVO</td>\n",
       "      <td>4216.0</td>\n",
       "      <td>F</td>\n",
       "      <td>4712.0</td>\n",
       "      <td>SECUNDARIO_COMPLETO</td>\n",
       "      <td>Blue</td>\n",
       "      <td>82.0</td>\n",
       "      <td>1.0</td>\n",
       "    </tr>\n",
       "  </tbody>\n",
       "</table>\n",
       "<p>5 rows × 21 columns</p>\n",
       "</div>"
      ],
      "text/plain": [
       "   id_cliente  edad  importe_solicitado  duracion_credito  \\\n",
       "0   708510993    22                4000                 4   \n",
       "1   708512051    25               10000                 2   \n",
       "2   708513258    23                1700                 2   \n",
       "3   708514512    25                7200                 4   \n",
       "4   708515472    26                5000                 3   \n",
       "\n",
       "   antiguedad_empleado situacion_vivienda  ingresos objetivo_credito  \\\n",
       "0                  3.0           HIPOTECA     62000         PERSONAL   \n",
       "1                  3.0           ALQUILER    120000      INVERSIONES   \n",
       "2                  2.0           HIPOTECA     45000            SALUD   \n",
       "3                  0.0           ALQUILER     71604      PAGO_DEUDAS   \n",
       "4                  5.0           HIPOTECA     52000      PAGO_DEUDAS   \n",
       "\n",
       "   pct_ingreso  tasa_interes  ...  antiguedad_cliente  estado_civil  \\\n",
       "0         0.06          6.76  ...                  47       SOLTERO   \n",
       "1         0.08          9.32  ...                  18        CASADO   \n",
       "2         0.04         14.72  ...                  29        CASADO   \n",
       "3         0.10         10.95  ...                  29        CASADO   \n",
       "4         0.10         10.59  ...                  36        CASADO   \n",
       "\n",
       "  estado_cliente gastos_ult_12m  genero limite_credito_tc  \\\n",
       "0         ACTIVO        15478.0       F            4905.0   \n",
       "1         ACTIVO         3950.0       M            1663.0   \n",
       "2         ACTIVO         3078.0       M            4323.0   \n",
       "3         ACTIVO         4314.0       F            3809.0   \n",
       "4         ACTIVO         4216.0       F            4712.0   \n",
       "\n",
       "            nivel_educativo nivel_tarjeta operaciones_ult_12m  \\\n",
       "0  UNIVERSITARIO_INCOMPLETO          Blue               109.0   \n",
       "1    UNIVERSITARIO_COMPLETO          Blue                82.0   \n",
       "2  UNIVERSITARIO_INCOMPLETO          Blue                58.0   \n",
       "3  UNIVERSITARIO_INCOMPLETO          Blue                81.0   \n",
       "4       SECUNDARIO_COMPLETO          Blue                82.0   \n",
       "\n",
       "   personas_a_cargo  \n",
       "0               1.0  \n",
       "1               3.0  \n",
       "2               1.0  \n",
       "3               2.0  \n",
       "4               1.0  \n",
       "\n",
       "[5 rows x 21 columns]"
      ]
     },
     "execution_count": 39,
     "metadata": {},
     "output_type": "execute_result"
    }
   ],
   "source": [
    "datos_nuevos = pd.read_csv('../../data/final/datos_nuevos.csv', sep=';')\n",
    "datos_nuevos.head(5)"
   ]
  },
  {
   "cell_type": "markdown",
   "metadata": {},
   "source": [
    "**Importante**: recordar que si se implementan operaciones de transformación sobre los datos será necesario (posiblemente) replicarlas sobre los datos nuevos para que ambos datasets sean compatibles."
   ]
  },
  {
   "cell_type": "markdown",
   "metadata": {},
   "source": [
    "#### Se tienen que aplicar las adaptaciones realizadas sobre los datos de entrenamiento"
   ]
  },
  {
   "cell_type": "code",
   "execution_count": 40,
   "metadata": {},
   "outputs": [
    {
     "data": {
      "text/html": [
       "<div>\n",
       "<style scoped>\n",
       "    .dataframe tbody tr th:only-of-type {\n",
       "        vertical-align: middle;\n",
       "    }\n",
       "\n",
       "    .dataframe tbody tr th {\n",
       "        vertical-align: top;\n",
       "    }\n",
       "\n",
       "    .dataframe thead th {\n",
       "        text-align: right;\n",
       "    }\n",
       "</style>\n",
       "<table border=\"1\" class=\"dataframe\">\n",
       "  <thead>\n",
       "    <tr style=\"text-align: right;\">\n",
       "      <th></th>\n",
       "      <th>operaciones_ult_12m</th>\n",
       "      <th>gastos_ult_12m</th>\n",
       "      <th>limite_credito_tc</th>\n",
       "      <th>antiguedad_cliente</th>\n",
       "      <th>tasa_interes</th>\n",
       "      <th>ingresos</th>\n",
       "      <th>pct_ingreso</th>\n",
       "      <th>antiguedad_empleado</th>\n",
       "      <th>edad</th>\n",
       "      <th>estado_civil</th>\n",
       "      <th>estado_credito</th>\n",
       "      <th>importe_solicitado</th>\n",
       "      <th>duracion_credito</th>\n",
       "      <th>situacion_vivienda</th>\n",
       "      <th>objetivo_credito</th>\n",
       "      <th>estado_cliente</th>\n",
       "      <th>genero</th>\n",
       "      <th>personas_a_cargo</th>\n",
       "    </tr>\n",
       "  </thead>\n",
       "  <tbody>\n",
       "    <tr>\n",
       "      <th>0</th>\n",
       "      <td>&gt;74</td>\n",
       "      <td>&gt;10k</td>\n",
       "      <td>3k_to_5k</td>\n",
       "      <td>25y_to_50y</td>\n",
       "      <td>6p_to_12p</td>\n",
       "      <td>50k_to_100k</td>\n",
       "      <td>&lt;20</td>\n",
       "      <td>&lt;5</td>\n",
       "      <td>&lt;25</td>\n",
       "      <td>S</td>\n",
       "      <td>Cancelado</td>\n",
       "      <td>4000</td>\n",
       "      <td>4</td>\n",
       "      <td>HIPOTECA</td>\n",
       "      <td>PERSONAL</td>\n",
       "      <td>ACTIVO</td>\n",
       "      <td>F</td>\n",
       "      <td>1.0</td>\n",
       "    </tr>\n",
       "    <tr>\n",
       "      <th>1</th>\n",
       "      <td>&gt;74</td>\n",
       "      <td>1k_to_4k</td>\n",
       "      <td>&lt;3k</td>\n",
       "      <td>&lt;25y</td>\n",
       "      <td>6p_to_12p</td>\n",
       "      <td>&gt;100k</td>\n",
       "      <td>&lt;20</td>\n",
       "      <td>&lt;5</td>\n",
       "      <td>25_to_30</td>\n",
       "      <td>C</td>\n",
       "      <td>Cancelado</td>\n",
       "      <td>10000</td>\n",
       "      <td>2</td>\n",
       "      <td>ALQUILER</td>\n",
       "      <td>INVERSIONES</td>\n",
       "      <td>ACTIVO</td>\n",
       "      <td>M</td>\n",
       "      <td>3.0</td>\n",
       "    </tr>\n",
       "    <tr>\n",
       "      <th>2</th>\n",
       "      <td>50_to_75</td>\n",
       "      <td>1k_to_4k</td>\n",
       "      <td>3k_to_5k</td>\n",
       "      <td>25y_to_50y</td>\n",
       "      <td>12p_to_18p</td>\n",
       "      <td>20k_to_50k</td>\n",
       "      <td>&lt;20</td>\n",
       "      <td>&lt;5</td>\n",
       "      <td>&lt;25</td>\n",
       "      <td>C</td>\n",
       "      <td>Cancelado</td>\n",
       "      <td>1700</td>\n",
       "      <td>2</td>\n",
       "      <td>HIPOTECA</td>\n",
       "      <td>SALUD</td>\n",
       "      <td>ACTIVO</td>\n",
       "      <td>M</td>\n",
       "      <td>1.0</td>\n",
       "    </tr>\n",
       "    <tr>\n",
       "      <th>3</th>\n",
       "      <td>&gt;74</td>\n",
       "      <td>4k_to_6k</td>\n",
       "      <td>3k_to_5k</td>\n",
       "      <td>25y_to_50y</td>\n",
       "      <td>6p_to_12p</td>\n",
       "      <td>50k_to_100k</td>\n",
       "      <td>&lt;20</td>\n",
       "      <td>&lt;5</td>\n",
       "      <td>25_to_30</td>\n",
       "      <td>C</td>\n",
       "      <td>Cancelado</td>\n",
       "      <td>7200</td>\n",
       "      <td>4</td>\n",
       "      <td>ALQUILER</td>\n",
       "      <td>PAGO_DEUDAS</td>\n",
       "      <td>ACTIVO</td>\n",
       "      <td>F</td>\n",
       "      <td>2.0</td>\n",
       "    </tr>\n",
       "    <tr>\n",
       "      <th>4</th>\n",
       "      <td>&gt;74</td>\n",
       "      <td>4k_to_6k</td>\n",
       "      <td>3k_to_5k</td>\n",
       "      <td>25y_to_50y</td>\n",
       "      <td>6p_to_12p</td>\n",
       "      <td>50k_to_100k</td>\n",
       "      <td>&lt;20</td>\n",
       "      <td>5_to_10</td>\n",
       "      <td>25_to_30</td>\n",
       "      <td>C</td>\n",
       "      <td>Cancelado</td>\n",
       "      <td>5000</td>\n",
       "      <td>3</td>\n",
       "      <td>HIPOTECA</td>\n",
       "      <td>PAGO_DEUDAS</td>\n",
       "      <td>ACTIVO</td>\n",
       "      <td>F</td>\n",
       "      <td>1.0</td>\n",
       "    </tr>\n",
       "  </tbody>\n",
       "</table>\n",
       "</div>"
      ],
      "text/plain": [
       "  operaciones_ult_12m gastos_ult_12m limite_credito_tc antiguedad_cliente  \\\n",
       "0                 >74           >10k          3k_to_5k         25y_to_50y   \n",
       "1                 >74       1k_to_4k               <3k               <25y   \n",
       "2            50_to_75       1k_to_4k          3k_to_5k         25y_to_50y   \n",
       "3                 >74       4k_to_6k          3k_to_5k         25y_to_50y   \n",
       "4                 >74       4k_to_6k          3k_to_5k         25y_to_50y   \n",
       "\n",
       "  tasa_interes     ingresos pct_ingreso antiguedad_empleado      edad  \\\n",
       "0    6p_to_12p  50k_to_100k         <20                  <5       <25   \n",
       "1    6p_to_12p        >100k         <20                  <5  25_to_30   \n",
       "2   12p_to_18p   20k_to_50k         <20                  <5       <25   \n",
       "3    6p_to_12p  50k_to_100k         <20                  <5  25_to_30   \n",
       "4    6p_to_12p  50k_to_100k         <20             5_to_10  25_to_30   \n",
       "\n",
       "  estado_civil estado_credito  importe_solicitado  duracion_credito  \\\n",
       "0            S      Cancelado                4000                 4   \n",
       "1            C      Cancelado               10000                 2   \n",
       "2            C      Cancelado                1700                 2   \n",
       "3            C      Cancelado                7200                 4   \n",
       "4            C      Cancelado                5000                 3   \n",
       "\n",
       "  situacion_vivienda objetivo_credito estado_cliente genero  personas_a_cargo  \n",
       "0           HIPOTECA         PERSONAL         ACTIVO      F               1.0  \n",
       "1           ALQUILER      INVERSIONES         ACTIVO      M               3.0  \n",
       "2           HIPOTECA            SALUD         ACTIVO      M               1.0  \n",
       "3           ALQUILER      PAGO_DEUDAS         ACTIVO      F               2.0  \n",
       "4           HIPOTECA      PAGO_DEUDAS         ACTIVO      F               1.0  "
      ]
     },
     "execution_count": 40,
     "metadata": {},
     "output_type": "execute_result"
    }
   ],
   "source": [
    "# Columna: estado_civil\n",
    "cambios_estado_civil = {\n",
    "    'CASADO' : 'C',\n",
    "    'SOLTERO' : 'S',\n",
    "    'DESCONOCIDO' : 'N',\n",
    "    'DIVORCIADO' : 'D',\n",
    "}\n",
    "\n",
    "estado_civil_N = datos_nuevos.loc[:, ('estado_civil')].map(cambios_estado_civil).rename('estado_civil')\n",
    "\n",
    "# Columna: estado_credito\n",
    "cambios_estado_credito = {\n",
    "    0 : 'Cancelado',\n",
    "    1 : 'Activo',\n",
    "}\n",
    "\n",
    "estado_credito_N = datos_nuevos.loc[:, ('estado_credito')].map(cambios_estado_credito).rename('estado_credito')\n",
    "\n",
    "# Antiguedad del empleado\n",
    "etiquetas_a_e = ['<5', '5_to_10', '>10']\n",
    "rangos_a_e = [0, 4, 10, 50]\n",
    "valor_para_nan = 'NA'\n",
    "antiguedad_empleados_N = pd.cut(datos_nuevos['antiguedad_empleado'], \n",
    "                                bins=rangos_a_e, \n",
    "                                labels=etiquetas_a_e,\n",
    "                                right=False).cat.add_categories(valor_para_nan).fillna(valor_para_nan)\n",
    "\n",
    "# edad\n",
    "etiquetas_e = ['<25', '25_to_30']\n",
    "rangos_e = [0, 24, 50]\n",
    "edad_N = pd.cut(datos_nuevos['edad'], \n",
    "                                bins=rangos_e, \n",
    "                                labels=etiquetas_e)\n",
    "\n",
    "# pct_ingreso\n",
    "etiquetas_p_i = ['<20', '20_to_40', '40_to_60', '>60']\n",
    "rangos_p_i = [0, 0.19, 0.39, 0.60, 0.99]\n",
    "pct_ingreso_N = pd.cut(datos_nuevos['pct_ingreso'], \n",
    "                                bins=rangos_p_i, \n",
    "                                labels=etiquetas_p_i)\n",
    "\n",
    "# ingresos\n",
    "etiquetas_i = ['<20k', '20k_to_50k', '50k_to_100k', '>100k']\n",
    "rangos_i = [0, 19999, 49999, 99999, 999999]\n",
    "ingresos_N = pd.cut(datos_nuevos['ingresos'], \n",
    "                                bins=rangos_i, \n",
    "                                labels=etiquetas_i)\n",
    "\n",
    "# tasa_interes\n",
    "etiquetas_t_i = ['<6p', '6p_to_12p', '12p_to_18p', '>18p']\n",
    "rangos_t_i = [0, 5.99, 11.99, 17.99, 100]\n",
    "tasa_interes_N = pd.cut(datos_nuevos['tasa_interes'], \n",
    "                                bins=rangos_t_i, \n",
    "                                labels=etiquetas_t_i)\n",
    "\n",
    "# antiguedad_cliente\n",
    "etiquetas_a_c = ['<25y', '25y_to_50y', '>50y']\n",
    "rangos_a_c = [0, 24, 49, 100]\n",
    "antiguedad_cliente_N = pd.cut(datos_nuevos['antiguedad_cliente'], \n",
    "                                bins=rangos_a_c, \n",
    "                                labels=etiquetas_a_c)\n",
    "\n",
    "# limite_credito_tc\n",
    "etiquetas_l_tc = ['<3k', '3k_to_5k', '5k_to_10k', '>10k']\n",
    "rangos_l_tc = [0, 2999, 4999, 9999, 100000]\n",
    "limite_credito_tc_N = pd.cut(datos_nuevos['limite_credito_tc'], \n",
    "                                bins=rangos_l_tc, \n",
    "                                labels=etiquetas_l_tc)\n",
    "\n",
    "# gastos_ult_12m\n",
    "etiquetas_g_u12 = ['<1k', '1k_to_4k', '4k_to_6k', '6k_to_8k', '8k_to_10k', '>10k']\n",
    "rangos_g_u12 = [0, 999, 3999, 5999, 7999, 9999, 100000]\n",
    "gastos_ult_12m_N = pd.cut(datos_nuevos['gastos_ult_12m'], \n",
    "                                bins=rangos_g_u12, \n",
    "                                labels=etiquetas_g_u12)\n",
    "\n",
    "# operaciones_ult_12m\n",
    "etiquetas_o_u12 = ['<15', '15_to_30', '30_to_50', '50_to_75', '>74']\n",
    "rangos_o_u12 = [0, 14, 29, 49, 74, 1000]\n",
    "operaciones_ult_12m_N = pd.cut(datos_nuevos['operaciones_ult_12m'], \n",
    "                                bins=rangos_o_u12, \n",
    "                                labels=etiquetas_o_u12)\n",
    "\n",
    "col_eliminar_final = [\n",
    "              'edad',\n",
    "              'estado_civil', \n",
    "              'estado_credito',\n",
    "              'antiguedad_empleado',\n",
    "              'antiguedad_cliente', \n",
    "              'ingresos',\n",
    "              'pct_ingreso',\n",
    "              'tasa_interes',\n",
    "              'gastos_ult_12m', \n",
    "              'limite_credito_tc', \n",
    "              'operaciones_ult_12m',\n",
    "              'id_cliente',\n",
    "              'nivel_tarjeta',\n",
    "              'nivel_educativo']\n",
    "\n",
    "datos_nuevos.drop(col_eliminar_final, inplace=True, axis=1)\n",
    "\n",
    "\n",
    "df_nuevo = pd.concat([operaciones_ult_12m_N, gastos_ult_12m_N, limite_credito_tc_N, antiguedad_cliente_N, tasa_interes_N, ingresos_N, pct_ingreso_N, antiguedad_empleados_N, edad_N, estado_civil_N, estado_credito_N, datos_nuevos], axis=1)\n",
    "df_nuevo.head(5)"
   ]
  },
  {
   "cell_type": "code",
   "execution_count": 41,
   "metadata": {},
   "outputs": [
    {
     "name": "stdout",
     "output_type": "stream",
     "text": [
      "<class 'pandas.core.frame.DataFrame'>\n",
      "RangeIndex: 112 entries, 0 to 111\n",
      "Data columns (total 58 columns):\n",
      " #   Column                          Non-Null Count  Dtype  \n",
      "---  ------                          --------------  -----  \n",
      " 0   importe_solicitado              112 non-null    int64  \n",
      " 1   duracion_credito                112 non-null    int64  \n",
      " 2   personas_a_cargo                112 non-null    float64\n",
      " 3   operaciones_ult_12m_<15         112 non-null    bool   \n",
      " 4   operaciones_ult_12m_15_to_30    112 non-null    bool   \n",
      " 5   operaciones_ult_12m_30_to_50    112 non-null    bool   \n",
      " 6   operaciones_ult_12m_50_to_75    112 non-null    bool   \n",
      " 7   operaciones_ult_12m_>74         112 non-null    bool   \n",
      " 8   gastos_ult_12m_<1k              112 non-null    bool   \n",
      " 9   gastos_ult_12m_1k_to_4k         112 non-null    bool   \n",
      " 10  gastos_ult_12m_4k_to_6k         112 non-null    bool   \n",
      " 11  gastos_ult_12m_6k_to_8k         112 non-null    bool   \n",
      " 12  gastos_ult_12m_8k_to_10k        112 non-null    bool   \n",
      " 13  gastos_ult_12m_>10k             112 non-null    bool   \n",
      " 14  limite_credito_tc_<3k           112 non-null    bool   \n",
      " 15  limite_credito_tc_3k_to_5k      112 non-null    bool   \n",
      " 16  limite_credito_tc_5k_to_10k     112 non-null    bool   \n",
      " 17  limite_credito_tc_>10k          112 non-null    bool   \n",
      " 18  antiguedad_cliente_<25y         112 non-null    bool   \n",
      " 19  antiguedad_cliente_25y_to_50y   112 non-null    bool   \n",
      " 20  antiguedad_cliente_>50y         112 non-null    bool   \n",
      " 21  tasa_interes_<6p                112 non-null    bool   \n",
      " 22  tasa_interes_6p_to_12p          112 non-null    bool   \n",
      " 23  tasa_interes_12p_to_18p         112 non-null    bool   \n",
      " 24  tasa_interes_>18p               112 non-null    bool   \n",
      " 25  ingresos_<20k                   112 non-null    bool   \n",
      " 26  ingresos_20k_to_50k             112 non-null    bool   \n",
      " 27  ingresos_50k_to_100k            112 non-null    bool   \n",
      " 28  ingresos_>100k                  112 non-null    bool   \n",
      " 29  pct_ingreso_<20                 112 non-null    bool   \n",
      " 30  pct_ingreso_20_to_40            112 non-null    bool   \n",
      " 31  pct_ingreso_40_to_60            112 non-null    bool   \n",
      " 32  pct_ingreso_>60                 112 non-null    bool   \n",
      " 33  antiguedad_empleado_<5          112 non-null    bool   \n",
      " 34  antiguedad_empleado_5_to_10     112 non-null    bool   \n",
      " 35  antiguedad_empleado_>10         112 non-null    bool   \n",
      " 36  antiguedad_empleado_NA          112 non-null    bool   \n",
      " 37  edad_<25                        112 non-null    bool   \n",
      " 38  edad_25_to_30                   112 non-null    bool   \n",
      " 39  estado_civil_C                  112 non-null    bool   \n",
      " 40  estado_civil_D                  112 non-null    bool   \n",
      " 41  estado_civil_N                  112 non-null    bool   \n",
      " 42  estado_civil_S                  112 non-null    bool   \n",
      " 43  estado_credito_Activo           112 non-null    bool   \n",
      " 44  estado_credito_Cancelado        112 non-null    bool   \n",
      " 45  situacion_vivienda_ALQUILER     112 non-null    bool   \n",
      " 46  situacion_vivienda_HIPOTECA     112 non-null    bool   \n",
      " 47  situacion_vivienda_PROPIA       112 non-null    bool   \n",
      " 48  objetivo_credito_EDUCACIÓN      112 non-null    bool   \n",
      " 49  objetivo_credito_INVERSIONES    112 non-null    bool   \n",
      " 50  objetivo_credito_MEJORAS_HOGAR  112 non-null    bool   \n",
      " 51  objetivo_credito_PAGO_DEUDAS    112 non-null    bool   \n",
      " 52  objetivo_credito_PERSONAL       112 non-null    bool   \n",
      " 53  objetivo_credito_SALUD          112 non-null    bool   \n",
      " 54  estado_cliente_ACTIVO           112 non-null    bool   \n",
      " 55  estado_cliente_PASIVO           112 non-null    bool   \n",
      " 56  genero_F                        112 non-null    bool   \n",
      " 57  genero_M                        112 non-null    bool   \n",
      "dtypes: bool(55), float64(1), int64(2)\n",
      "memory usage: 8.8 KB\n"
     ]
    }
   ],
   "source": [
    "nuevos_codif = pd.get_dummies(df_nuevo)\n",
    "nuevos_codif.info()"
   ]
  },
  {
   "cell_type": "code",
   "execution_count": 42,
   "metadata": {},
   "outputs": [
    {
     "data": {
      "text/plain": [
       "{'estado_civil_N_C',\n",
       " 'estado_civil_N_D',\n",
       " 'estado_civil_N_N',\n",
       " 'estado_civil_N_S',\n",
       " 'estado_credito_N_Activo',\n",
       " 'estado_credito_N_Cancelado',\n",
       " 'situacion_vivienda_OTROS'}"
      ]
     },
     "metadata": {},
     "output_type": "display_data"
    },
    {
     "name": "stdout",
     "output_type": "stream",
     "text": [
      "Datos nuevos: 65\n",
      "Datos entrenamiento: 58\n",
      "set()\n"
     ]
    }
   ],
   "source": [
    "# Dado que puede haber diferencias con el set de entrenamiento se emparejan\n",
    "\n",
    "columnas_faltantes = set(data.columns) - set(nuevos_codif.columns)\n",
    "display(columnas_faltantes)\n",
    "for columna in columnas_faltantes:\n",
    "    nuevos_codif[columna] = 0 # Se agregan las columnas faltantes con valor 0\n",
    "\n",
    "print('Datos nuevos: ' + str(len(nuevos_codif.columns)))\n",
    "print('Datos entrenamiento: ' + str(len(data.columns)))\n",
    "print(set(data.columns) - set(nuevos_codif.columns))"
   ]
  },
  {
   "cell_type": "code",
   "execution_count": 43,
   "metadata": {},
   "outputs": [
    {
     "data": {
      "text/plain": [
       "Index(['importe_solicitado', 'duracion_credito', 'personas_a_cargo',\n",
       "       'operaciones_ult_12m_15_to_30', 'operaciones_ult_12m_30_to_50',\n",
       "       'operaciones_ult_12m_50_to_75', 'operaciones_ult_12m_<15',\n",
       "       'operaciones_ult_12m_>74', 'gastos_ult_12m_1k_to_4k',\n",
       "       'gastos_ult_12m_4k_to_6k', 'gastos_ult_12m_6k_to_8k',\n",
       "       'gastos_ult_12m_8k_to_10k', 'gastos_ult_12m_<1k', 'gastos_ult_12m_>10k',\n",
       "       'limite_credito_tc_3k_to_5k', 'limite_credito_tc_5k_to_10k',\n",
       "       'limite_credito_tc_<3k', 'limite_credito_tc_>10k',\n",
       "       'antiguedad_cliente_25y_to_50y', 'antiguedad_cliente_<25y',\n",
       "       'antiguedad_cliente_>50y', 'tasa_interes_12p_to_18p',\n",
       "       'tasa_interes_6p_to_12p', 'tasa_interes_<6p', 'tasa_interes_>18p',\n",
       "       'ingresos_20k_to_50k', 'ingresos_50k_to_100k', 'ingresos_<20k',\n",
       "       'ingresos_>100k', 'pct_ingreso_20_to_40', 'pct_ingreso_40_to_60',\n",
       "       'pct_ingreso_<20', 'pct_ingreso_>60', 'antiguedad_empleado_5_to_10',\n",
       "       'antiguedad_empleado_<5', 'antiguedad_empleado_>10', 'edad_25_to_30',\n",
       "       'edad_<25', 'situacion_vivienda_ALQUILER',\n",
       "       'situacion_vivienda_HIPOTECA', 'situacion_vivienda_OTROS',\n",
       "       'situacion_vivienda_PROPIA', 'objetivo_credito_EDUCACIÓN',\n",
       "       'objetivo_credito_INVERSIONES', 'objetivo_credito_MEJORAS_HOGAR',\n",
       "       'objetivo_credito_PAGO_DEUDAS', 'objetivo_credito_PERSONAL',\n",
       "       'objetivo_credito_SALUD', 'estado_credito_N_Activo',\n",
       "       'estado_credito_N_Cancelado', 'estado_civil_N_C', 'estado_civil_N_D',\n",
       "       'estado_civil_N_N', 'estado_civil_N_S', 'estado_cliente_ACTIVO',\n",
       "       'estado_cliente_PASIVO', 'genero_F', 'genero_M'],\n",
       "      dtype='object')"
      ]
     },
     "execution_count": 43,
     "metadata": {},
     "output_type": "execute_result"
    }
   ],
   "source": [
    "nuevos_codif = nuevos_codif[data.columns]\n",
    "nuevos_codif.columns"
   ]
  },
  {
   "cell_type": "code",
   "execution_count": 44,
   "metadata": {},
   "outputs": [
    {
     "name": "stderr",
     "output_type": "stream",
     "text": [
      "2023/12/05 19:14:22 WARNING mlflow.utils.autologging_utils: MLflow autologging encountered a warning: \"c:\\Users\\User\\anaconda3\\envs\\VIU-13MBID\\Lib\\site-packages\\mlflow\\data\\pandas_dataset.py:116: UserWarning: Hint: Inferred schema contains integer column(s). Integer columns in Python cannot represent missing values. If your input data contains missing values at inference time, it will be encoded as floats and will cause a schema enforcement error. The best way to avoid this problem is to infer the model schema based on a realistic data sample (training dataset) that includes missing values. Alternatively, you can declare integer columns as doubles (float64) whenever these columns may have missing values. See `Handling Integers With Missing Values <https://www.mlflow.org/docs/latest/models.html#handling-integers-with-missing-values>`_ for more details.\"\n"
     ]
    }
   ],
   "source": [
    "# Se hace la predicción con los nuevos datos\n",
    "\n",
    "prediccion_nuevos = rndf.predict(nuevos_codif)\n",
    "\n",
    "prediccionDF = pd.DataFrame(prediccion_nuevos)"
   ]
  },
  {
   "cell_type": "code",
   "execution_count": 45,
   "metadata": {},
   "outputs": [
    {
     "data": {
      "text/plain": [
       "prediccion_mora\n",
       "N    86\n",
       "Y    26\n",
       "Name: count, dtype: int64"
      ]
     },
     "execution_count": 45,
     "metadata": {},
     "output_type": "execute_result"
    }
   ],
   "source": [
    "# Se agrega la nueva columna\n",
    "datos_nuevos['prediccion_mora'] = prediccionDF\n",
    "datos_nuevos['prediccion_mora'].value_counts()"
   ]
  }
 ],
 "metadata": {
  "kernelspec": {
   "display_name": "Python 3 (ipykernel)",
   "language": "python",
   "name": "python3"
  },
  "language_info": {
   "codemirror_mode": {
    "name": "ipython",
    "version": 3
   },
   "file_extension": ".py",
   "mimetype": "text/x-python",
   "name": "python",
   "nbconvert_exporter": "python",
   "pygments_lexer": "ipython3",
   "version": "3.11.5"
  }
 },
 "nbformat": 4,
 "nbformat_minor": 2
}
